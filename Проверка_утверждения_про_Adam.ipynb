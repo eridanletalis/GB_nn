{
  "nbformat": 4,
  "nbformat_minor": 0,
  "metadata": {
    "colab": {
      "name": "Проверка утверждения про  Adam.ipynb",
      "provenance": [],
      "collapsed_sections": [],
      "authorship_tag": "ABX9TyOECYMQjbSQFPerqbYFEzo5",
      "include_colab_link": true
    },
    "kernelspec": {
      "name": "python3",
      "display_name": "Python 3"
    },
    "language_info": {
      "name": "python"
    },
    "accelerator": "GPU"
  },
  "cells": [
    {
      "cell_type": "markdown",
      "metadata": {
        "id": "view-in-github",
        "colab_type": "text"
      },
      "source": [
        "<a href=\"https://colab.research.google.com/github/eridanletalis/GB_nn/blob/main/%D0%9F%D1%80%D0%BE%D0%B2%D0%B5%D1%80%D0%BA%D0%B0_%D1%83%D1%82%D0%B2%D0%B5%D1%80%D0%B6%D0%B4%D0%B5%D0%BD%D0%B8%D1%8F_%D0%BF%D1%80%D0%BE_Adam.ipynb\" target=\"_parent\"><img src=\"https://colab.research.google.com/assets/colab-badge.svg\" alt=\"Open In Colab\"/></a>"
      ]
    },
    {
      "cell_type": "code",
      "metadata": {
        "id": "8s6RfIJ8fT4X"
      },
      "source": [
        ""
      ],
      "execution_count": null,
      "outputs": []
    },
    {
      "cell_type": "code",
      "metadata": {
        "colab": {
          "base_uri": "https://localhost:8080/"
        },
        "id": "EdtNDmBigE0W",
        "outputId": "be48a981-7926-44d0-8685-6339ead71f16"
      },
      "source": [
        "%tensorflow_version 2.x\n",
        "import tensorflow as tf\n",
        "device_name = tf.test.gpu_device_name()\n",
        "if device_name != '/device:GPU:0':\n",
        "  raise SystemError('GPU device not found')\n",
        "print('Found GPU at: {}'.format(device_name))"
      ],
      "execution_count": 1,
      "outputs": [
        {
          "output_type": "stream",
          "text": [
            "Found GPU at: /device:GPU:0\n"
          ],
          "name": "stdout"
        }
      ]
    },
    {
      "cell_type": "code",
      "metadata": {
        "colab": {
          "base_uri": "https://localhost:8080/",
          "height": 37
        },
        "id": "U8Jsb_yho70c",
        "outputId": "5707c98c-d88a-49bf-b45f-2a7d25126141"
      },
      "source": [
        "tf.test.gpu_device_name()"
      ],
      "execution_count": 2,
      "outputs": [
        {
          "output_type": "execute_result",
          "data": {
            "application/vnd.google.colaboratory.intrinsic+json": {
              "type": "string"
            },
            "text/plain": [
              "'/device:GPU:0'"
            ]
          },
          "metadata": {
            "tags": []
          },
          "execution_count": 2
        }
      ]
    },
    {
      "cell_type": "code",
      "metadata": {
        "colab": {
          "base_uri": "https://localhost:8080/"
        },
        "id": "LltEzxYXgIPZ",
        "outputId": "81489d70-34aa-48e9-a33c-7726b6485ae5"
      },
      "source": [
        "# Проверим, что ГПУ включился\n",
        "import timeit\n",
        "\n",
        "device_name = tf.test.gpu_device_name()\n",
        "if device_name != '/device:GPU:0':\n",
        "  print(\n",
        "      '\\n\\nThis error most likely means that this notebook is not '\n",
        "      'configured to use a GPU.  Change this in Notebook Settings via the '\n",
        "      'command palette (cmd/ctrl-shift-P) or the Edit menu.\\n\\n')\n",
        "  raise SystemError('GPU device not found')\n",
        "\n",
        "def cpu():\n",
        "  with tf.device('/cpu:0'):\n",
        "    random_image_cpu = tf.random.normal((100, 100, 100, 3))\n",
        "    net_cpu = tf.keras.layers.Conv2D(32, 7)(random_image_cpu)\n",
        "    return tf.math.reduce_sum(net_cpu)\n",
        "\n",
        "def gpu():\n",
        "  with tf.device('/device:GPU:0'):\n",
        "    random_image_gpu = tf.random.normal((100, 100, 100, 3))\n",
        "    net_gpu = tf.keras.layers.Conv2D(32, 7)(random_image_gpu)\n",
        "    return tf.math.reduce_sum(net_gpu)\n",
        "  \n",
        "# We run each op once to warm up; see: https://stackoverflow.com/a/45067900\n",
        "cpu()\n",
        "gpu()\n",
        "\n",
        "# Run the op several times.\n",
        "print('Time (s) to convolve 32x7x7x3 filter over random 100x100x100x3 images '\n",
        "      '(batch x height x width x channel). Sum of ten runs.')\n",
        "print('CPU (s):')\n",
        "cpu_time = timeit.timeit('cpu()', number=10, setup=\"from __main__ import cpu\")\n",
        "print(cpu_time)\n",
        "print('GPU (s):')\n",
        "gpu_time = timeit.timeit('gpu()', number=10, setup=\"from __main__ import gpu\")\n",
        "print(gpu_time)\n",
        "print('GPU speedup over CPU: {}x'.format(int(cpu_time/gpu_time)))"
      ],
      "execution_count": 3,
      "outputs": [
        {
          "output_type": "stream",
          "text": [
            "Time (s) to convolve 32x7x7x3 filter over random 100x100x100x3 images (batch x height x width x channel). Sum of ten runs.\n",
            "CPU (s):\n",
            "3.0577504720000093\n",
            "GPU (s):\n",
            "0.04052248600000041\n",
            "GPU speedup over CPU: 75x\n"
          ],
          "name": "stdout"
        }
      ]
    },
    {
      "cell_type": "code",
      "metadata": {
        "colab": {
          "base_uri": "https://localhost:8080/"
        },
        "id": "BlCUyR8lnOpD",
        "outputId": "3dcb619b-bd52-43a1-a16c-8826aa487daf"
      },
      "source": [
        "tf.config.experimental.list_physical_devices()"
      ],
      "execution_count": 4,
      "outputs": [
        {
          "output_type": "execute_result",
          "data": {
            "text/plain": [
              "[PhysicalDevice(name='/physical_device:CPU:0', device_type='CPU'),\n",
              " PhysicalDevice(name='/physical_device:GPU:0', device_type='GPU')]"
            ]
          },
          "metadata": {
            "tags": []
          },
          "execution_count": 4
        }
      ]
    },
    {
      "cell_type": "code",
      "metadata": {
        "id": "QLPbZqKil7dQ"
      },
      "source": [
        "# сразу подключим оптимизаторы, слои и прочее\n",
        "from tensorflow.keras.optimizers import Adam, SGD, RMSprop, Adagrad\n",
        "from __future__ import absolute_import, division, print_function, unicode_literals\n",
        "from tensorflow import keras\n",
        "from tensorflow.keras.models import Sequential\n",
        "from tensorflow.keras.layers import Dense\n",
        "from tensorflow.keras.utils import to_categorical\n",
        "from tensorflow.keras.layers import Input, Flatten\n",
        "from tensorflow.keras.models import Model\n",
        "import tensorflow\n",
        "\n",
        "# Helper libraries\n",
        "import numpy as np\n",
        "import matplotlib.pyplot as plt"
      ],
      "execution_count": 5,
      "outputs": []
    },
    {
      "cell_type": "code",
      "metadata": {
        "id": "ApUQOn8znHq0"
      },
      "source": [
        ""
      ],
      "execution_count": 5,
      "outputs": []
    },
    {
      "cell_type": "markdown",
      "metadata": {
        "id": "aQFSrqpPnJ6k"
      },
      "source": [
        "Загружаем исходные данные"
      ]
    },
    {
      "cell_type": "code",
      "metadata": {
        "id": "wkLr7Ac6nMuD",
        "colab": {
          "base_uri": "https://localhost:8080/"
        },
        "outputId": "ee2e1342-76b1-4f65-e317-c648049d68ff"
      },
      "source": [
        "fashion_mnist = keras.datasets.fashion_mnist\n",
        "\n",
        "(train_images, train_labels), (test_images, test_labels) = fashion_mnist.load_data()"
      ],
      "execution_count": 6,
      "outputs": [
        {
          "output_type": "stream",
          "text": [
            "Downloading data from https://storage.googleapis.com/tensorflow/tf-keras-datasets/train-labels-idx1-ubyte.gz\n",
            "32768/29515 [=================================] - 0s 0us/step\n",
            "Downloading data from https://storage.googleapis.com/tensorflow/tf-keras-datasets/train-images-idx3-ubyte.gz\n",
            "26427392/26421880 [==============================] - 0s 0us/step\n",
            "Downloading data from https://storage.googleapis.com/tensorflow/tf-keras-datasets/t10k-labels-idx1-ubyte.gz\n",
            "8192/5148 [===============================================] - 0s 0us/step\n",
            "Downloading data from https://storage.googleapis.com/tensorflow/tf-keras-datasets/t10k-images-idx3-ubyte.gz\n",
            "4423680/4422102 [==============================] - 0s 0us/step\n"
          ],
          "name": "stdout"
        }
      ]
    },
    {
      "cell_type": "code",
      "metadata": {
        "id": "HnIeYpqEnrZx"
      },
      "source": [
        "class_names = ['T-shirt/top', 'Trouser', 'Pullover', 'Dress', 'Coat',\n",
        "               'Sandal', 'Shirt', 'Sneaker', 'Bag', 'Ankle boot']"
      ],
      "execution_count": 7,
      "outputs": []
    },
    {
      "cell_type": "code",
      "metadata": {
        "id": "5yeIAGflqAMo"
      },
      "source": [
        "y_train_labels = to_categorical(train_labels)\n",
        "y_test_labels = to_categorical(test_labels)"
      ],
      "execution_count": 8,
      "outputs": []
    },
    {
      "cell_type": "code",
      "metadata": {
        "id": "HDEyQpK0qG5k"
      },
      "source": [
        "train_images = train_images / 255.0\n",
        "\n",
        "test_images = test_images / 255.0"
      ],
      "execution_count": 9,
      "outputs": []
    },
    {
      "cell_type": "code",
      "metadata": {
        "id": "n--UwyU_qdB6"
      },
      "source": [
        ""
      ],
      "execution_count": 9,
      "outputs": []
    },
    {
      "cell_type": "markdown",
      "metadata": {
        "id": "wW8UQ8D57L79"
      },
      "source": [
        "#Теперь поработаем с тестами разных оптимизаторов для подобранной сети"
      ]
    },
    {
      "cell_type": "code",
      "metadata": {
        "id": "oxQowaYh_xlG"
      },
      "source": [
        "import pandas as pd\n",
        "from datetime import datetime\n",
        "from tensorflow.keras import initializers"
      ],
      "execution_count": 10,
      "outputs": []
    },
    {
      "cell_type": "code",
      "metadata": {
        "id": "TWOK1yUH_0bE"
      },
      "source": [
        "columns_1 = (\"number\", \"adam\", \"sgd\", \"rmsprop\", \"adagrad\")\n",
        "models_loss = pd.DataFrame(columns=columns_1)\n",
        "models_acc = pd.DataFrame(columns=columns_1)"
      ],
      "execution_count": 11,
      "outputs": []
    },
    {
      "cell_type": "code",
      "metadata": {
        "id": "wCpHDydf7TTV"
      },
      "source": [
        "optimizers = [\"adam\", \"sgd\", \"rmsprop\", \"adagrad\"]"
      ],
      "execution_count": 12,
      "outputs": []
    },
    {
      "cell_type": "markdown",
      "metadata": {
        "id": "QOvkkJoXBgZj"
      },
      "source": [
        "## Выполняем эксперимент на определение лучшего оптимизатора\n",
        "Эксперимент будет выпоняться 15 раз с разными seed для усреднения при разных начальных состояниях. \n",
        "Записываем loss, acc.\n",
        "\n",
        "Далее результат будет усреднён и выбрана модель с наилучшей комбинацией loss-acc. Учитываться будут средние значения и дисперсии."
      ]
    },
    {
      "cell_type": "code",
      "metadata": {
        "id": "n5PKasrU7X8M",
        "colab": {
          "base_uri": "https://localhost:8080/"
        },
        "outputId": "59e78cdb-4569-4037-810b-16eeda609c2a"
      },
      "source": [
        "# Количество слоёв выбиралось исходя из уменьшения вдвое числа входов\n",
        "for i in range(1,51):\n",
        "  for opt in optimizers:\n",
        "    print(f\"Выполняется проход {i}, оптимизатор {opt}\")\n",
        "    model = keras.Sequential([\n",
        "        keras.layers.Flatten(input_shape=(28, 28)),\n",
        "        keras.layers.Dense(392, activation='relu',\n",
        "                           kernel_initializer=initializers.RandomNormal(mean=0.0, \n",
        "                                                                  stddev=0.15, \n",
        "                                      seed=int(datetime.now().timestamp()))),\n",
        "        keras.layers.Dense(196, activation='relu',\n",
        "                           kernel_initializer=initializers.RandomNormal(mean=0.0, \n",
        "                                                                  stddev=0.15, \n",
        "                                      seed=int(datetime.now().timestamp()))),\n",
        "        keras.layers.Dense(98, activation='relu',\n",
        "                           kernel_initializer=initializers.RandomNormal(mean=0.0, \n",
        "                                                                  stddev=0.15, \n",
        "                                      seed=int(datetime.now().timestamp()))),\n",
        "        keras.layers.Dense(49, activation='relu',\n",
        "                           kernel_initializer=initializers.RandomNormal(mean=0.0, \n",
        "                                                                  stddev=0.15, \n",
        "                                      seed=int(datetime.now().timestamp()))),\n",
        "        keras.layers.Dense(10,\n",
        "                           kernel_initializer=initializers.RandomNormal(mean=0.0, \n",
        "                                                                  stddev=0.15, \n",
        "                                      seed=int(datetime.now().timestamp())))\n",
        "    ])\n",
        "\n",
        "    model.compile(optimizer=opt,\n",
        "                  loss=tf.keras.losses.CategoricalCrossentropy(from_logits=True),\n",
        "                  metrics=['accuracy'])\n",
        "\n",
        "    model.fit(train_images, y_train_labels, epochs=18, batch_size=100, verbose=0)\n",
        "\n",
        "    test_loss, test_acc = model.evaluate(test_images,  y_test_labels, verbose=2)\n",
        "    models_loss.loc[i, opt] = test_loss\n",
        "    models_acc.loc[i, opt] = test_acc"
      ],
      "execution_count": 13,
      "outputs": [
        {
          "output_type": "stream",
          "text": [
            "Выполняется проход 1, оптимизатор adam\n",
            "313/313 - 1s - loss: 0.3656 - accuracy: 0.8858\n",
            "Выполняется проход 1, оптимизатор sgd\n",
            "313/313 - 1s - loss: 0.3992 - accuracy: 0.8606\n",
            "Выполняется проход 1, оптимизатор rmsprop\n",
            "313/313 - 1s - loss: 0.5164 - accuracy: 0.8833\n",
            "Выполняется проход 1, оптимизатор adagrad\n",
            "313/313 - 1s - loss: 0.4644 - accuracy: 0.8350\n",
            "Выполняется проход 2, оптимизатор adam\n",
            "313/313 - 1s - loss: 0.3821 - accuracy: 0.8854\n",
            "Выполняется проход 2, оптимизатор sgd\n",
            "313/313 - 1s - loss: 0.3919 - accuracy: 0.8604\n",
            "Выполняется проход 2, оптимизатор rmsprop\n",
            "313/313 - 1s - loss: 0.5303 - accuracy: 0.8789\n",
            "Выполняется проход 2, оптимизатор adagrad\n",
            "313/313 - 1s - loss: 0.4815 - accuracy: 0.8345\n",
            "Выполняется проход 3, оптимизатор adam\n",
            "313/313 - 1s - loss: 0.3704 - accuracy: 0.8931\n",
            "Выполняется проход 3, оптимизатор sgd\n",
            "313/313 - 1s - loss: 0.3850 - accuracy: 0.8610\n",
            "Выполняется проход 3, оптимизатор rmsprop\n",
            "313/313 - 1s - loss: 0.5282 - accuracy: 0.8698\n",
            "Выполняется проход 3, оптимизатор adagrad\n",
            "313/313 - 1s - loss: 0.4742 - accuracy: 0.8358\n",
            "Выполняется проход 4, оптимизатор adam\n",
            "313/313 - 1s - loss: 0.3757 - accuracy: 0.8853\n",
            "Выполняется проход 4, оптимизатор sgd\n",
            "313/313 - 1s - loss: 0.3984 - accuracy: 0.8583\n",
            "Выполняется проход 4, оптимизатор rmsprop\n",
            "313/313 - 1s - loss: 0.5975 - accuracy: 0.8845\n",
            "Выполняется проход 4, оптимизатор adagrad\n",
            "313/313 - 1s - loss: 0.4712 - accuracy: 0.8346\n",
            "Выполняется проход 5, оптимизатор adam\n",
            "313/313 - 1s - loss: 0.3408 - accuracy: 0.8937\n",
            "Выполняется проход 5, оптимизатор sgd\n",
            "313/313 - 1s - loss: 0.3896 - accuracy: 0.8646\n",
            "Выполняется проход 5, оптимизатор rmsprop\n",
            "313/313 - 1s - loss: 0.5059 - accuracy: 0.8843\n",
            "Выполняется проход 5, оптимизатор adagrad\n",
            "313/313 - 1s - loss: 0.4754 - accuracy: 0.8361\n",
            "Выполняется проход 6, оптимизатор adam\n",
            "313/313 - 1s - loss: 0.3538 - accuracy: 0.8889\n",
            "Выполняется проход 6, оптимизатор sgd\n",
            "313/313 - 1s - loss: 0.3901 - accuracy: 0.8637\n",
            "Выполняется проход 6, оптимизатор rmsprop\n",
            "313/313 - 1s - loss: 0.5936 - accuracy: 0.8753\n",
            "Выполняется проход 6, оптимизатор adagrad\n",
            "313/313 - 1s - loss: 0.4706 - accuracy: 0.8317\n",
            "Выполняется проход 7, оптимизатор adam\n",
            "313/313 - 1s - loss: 0.3610 - accuracy: 0.8919\n",
            "Выполняется проход 7, оптимизатор sgd\n",
            "313/313 - 1s - loss: 0.3901 - accuracy: 0.8617\n",
            "Выполняется проход 7, оптимизатор rmsprop\n",
            "313/313 - 1s - loss: 0.6420 - accuracy: 0.8657\n",
            "Выполняется проход 7, оптимизатор adagrad\n",
            "313/313 - 1s - loss: 0.4767 - accuracy: 0.8322\n",
            "Выполняется проход 8, оптимизатор adam\n",
            "313/313 - 1s - loss: 0.3657 - accuracy: 0.8924\n",
            "Выполняется проход 8, оптимизатор sgd\n",
            "313/313 - 1s - loss: 0.3893 - accuracy: 0.8615\n",
            "Выполняется проход 8, оптимизатор rmsprop\n",
            "313/313 - 1s - loss: 0.5420 - accuracy: 0.8800\n",
            "Выполняется проход 8, оптимизатор adagrad\n",
            "313/313 - 1s - loss: 0.4891 - accuracy: 0.8292\n",
            "Выполняется проход 9, оптимизатор adam\n",
            "313/313 - 1s - loss: 0.3740 - accuracy: 0.8851\n",
            "Выполняется проход 9, оптимизатор sgd\n",
            "313/313 - 1s - loss: 0.4007 - accuracy: 0.8567\n",
            "Выполняется проход 9, оптимизатор rmsprop\n",
            "313/313 - 1s - loss: 0.5550 - accuracy: 0.8773\n",
            "Выполняется проход 9, оптимизатор adagrad\n",
            "313/313 - 1s - loss: 0.4793 - accuracy: 0.8325\n",
            "Выполняется проход 10, оптимизатор adam\n",
            "313/313 - 1s - loss: 0.3752 - accuracy: 0.8898\n",
            "Выполняется проход 10, оптимизатор sgd\n",
            "313/313 - 1s - loss: 0.3971 - accuracy: 0.8585\n",
            "Выполняется проход 10, оптимизатор rmsprop\n",
            "313/313 - 1s - loss: 0.4792 - accuracy: 0.8783\n",
            "Выполняется проход 10, оптимизатор adagrad\n",
            "313/313 - 1s - loss: 0.4697 - accuracy: 0.8328\n",
            "Выполняется проход 11, оптимизатор adam\n",
            "313/313 - 1s - loss: 0.3924 - accuracy: 0.8853\n",
            "Выполняется проход 11, оптимизатор sgd\n",
            "313/313 - 1s - loss: 0.3904 - accuracy: 0.8628\n",
            "Выполняется проход 11, оптимизатор rmsprop\n",
            "313/313 - 1s - loss: 0.6181 - accuracy: 0.8732\n",
            "Выполняется проход 11, оптимизатор adagrad\n",
            "313/313 - 1s - loss: 0.4649 - accuracy: 0.8368\n",
            "Выполняется проход 12, оптимизатор adam\n",
            "313/313 - 1s - loss: 0.3751 - accuracy: 0.8906\n",
            "Выполняется проход 12, оптимизатор sgd\n",
            "313/313 - 1s - loss: 0.3897 - accuracy: 0.8652\n",
            "Выполняется проход 12, оптимизатор rmsprop\n",
            "313/313 - 1s - loss: 0.5239 - accuracy: 0.8763\n",
            "Выполняется проход 12, оптимизатор adagrad\n",
            "313/313 - 1s - loss: 0.4710 - accuracy: 0.8345\n",
            "Выполняется проход 13, оптимизатор adam\n",
            "313/313 - 1s - loss: 0.4109 - accuracy: 0.8849\n",
            "Выполняется проход 13, оптимизатор sgd\n",
            "313/313 - 1s - loss: 0.3997 - accuracy: 0.8569\n",
            "Выполняется проход 13, оптимизатор rmsprop\n",
            "313/313 - 1s - loss: 0.5822 - accuracy: 0.8861\n",
            "Выполняется проход 13, оптимизатор adagrad\n",
            "313/313 - 1s - loss: 0.4765 - accuracy: 0.8325\n",
            "Выполняется проход 14, оптимизатор adam\n",
            "313/313 - 1s - loss: 0.3747 - accuracy: 0.8888\n",
            "Выполняется проход 14, оптимизатор sgd\n",
            "313/313 - 1s - loss: 0.4028 - accuracy: 0.8578\n",
            "Выполняется проход 14, оптимизатор rmsprop\n",
            "313/313 - 1s - loss: 0.5121 - accuracy: 0.8769\n",
            "Выполняется проход 14, оптимизатор adagrad\n",
            "313/313 - 1s - loss: 0.4862 - accuracy: 0.8312\n",
            "Выполняется проход 15, оптимизатор adam\n",
            "313/313 - 1s - loss: 0.3674 - accuracy: 0.8898\n",
            "Выполняется проход 15, оптимизатор sgd\n",
            "313/313 - 1s - loss: 0.3981 - accuracy: 0.8603\n",
            "Выполняется проход 15, оптимизатор rmsprop\n",
            "313/313 - 1s - loss: 0.4736 - accuracy: 0.8876\n",
            "Выполняется проход 15, оптимизатор adagrad\n",
            "313/313 - 1s - loss: 0.4744 - accuracy: 0.8357\n",
            "Выполняется проход 16, оптимизатор adam\n",
            "313/313 - 1s - loss: 0.3844 - accuracy: 0.8913\n",
            "Выполняется проход 16, оптимизатор sgd\n",
            "313/313 - 1s - loss: 0.4001 - accuracy: 0.8569\n",
            "Выполняется проход 16, оптимизатор rmsprop\n",
            "313/313 - 1s - loss: 0.6090 - accuracy: 0.8788\n",
            "Выполняется проход 16, оптимизатор adagrad\n",
            "313/313 - 1s - loss: 0.4837 - accuracy: 0.8296\n",
            "Выполняется проход 17, оптимизатор adam\n",
            "313/313 - 1s - loss: 0.3712 - accuracy: 0.8877\n",
            "Выполняется проход 17, оптимизатор sgd\n",
            "313/313 - 1s - loss: 0.3901 - accuracy: 0.8602\n",
            "Выполняется проход 17, оптимизатор rmsprop\n",
            "313/313 - 1s - loss: 0.6187 - accuracy: 0.8756\n",
            "Выполняется проход 17, оптимизатор adagrad\n",
            "313/313 - 1s - loss: 0.4804 - accuracy: 0.8354\n",
            "Выполняется проход 18, оптимизатор adam\n",
            "313/313 - 1s - loss: 0.3752 - accuracy: 0.8861\n",
            "Выполняется проход 18, оптимизатор sgd\n",
            "313/313 - 1s - loss: 0.4029 - accuracy: 0.8555\n",
            "Выполняется проход 18, оптимизатор rmsprop\n",
            "313/313 - 1s - loss: 0.6015 - accuracy: 0.8798\n",
            "Выполняется проход 18, оптимизатор adagrad\n",
            "313/313 - 1s - loss: 0.4743 - accuracy: 0.8317\n",
            "Выполняется проход 19, оптимизатор adam\n",
            "313/313 - 1s - loss: 0.3932 - accuracy: 0.8717\n",
            "Выполняется проход 19, оптимизатор sgd\n",
            "313/313 - 1s - loss: 0.3912 - accuracy: 0.8624\n",
            "Выполняется проход 19, оптимизатор rmsprop\n",
            "313/313 - 1s - loss: 0.5826 - accuracy: 0.8852\n",
            "Выполняется проход 19, оптимизатор adagrad\n",
            "313/313 - 1s - loss: 0.4784 - accuracy: 0.8323\n",
            "Выполняется проход 20, оптимизатор adam\n",
            "313/313 - 1s - loss: 0.3576 - accuracy: 0.8904\n",
            "Выполняется проход 20, оптимизатор sgd\n",
            "313/313 - 1s - loss: 0.3922 - accuracy: 0.8582\n",
            "Выполняется проход 20, оптимизатор rmsprop\n",
            "313/313 - 1s - loss: 0.5205 - accuracy: 0.8799\n",
            "Выполняется проход 20, оптимизатор adagrad\n",
            "313/313 - 1s - loss: 0.4705 - accuracy: 0.8341\n",
            "Выполняется проход 21, оптимизатор adam\n",
            "313/313 - 1s - loss: 0.3752 - accuracy: 0.8906\n",
            "Выполняется проход 21, оптимизатор sgd\n",
            "313/313 - 1s - loss: 0.3931 - accuracy: 0.8608\n",
            "Выполняется проход 21, оптимизатор rmsprop\n",
            "313/313 - 1s - loss: 0.4730 - accuracy: 0.8854\n",
            "Выполняется проход 21, оптимизатор adagrad\n",
            "313/313 - 1s - loss: 0.4770 - accuracy: 0.8300\n",
            "Выполняется проход 22, оптимизатор adam\n",
            "313/313 - 1s - loss: 0.3751 - accuracy: 0.8911\n",
            "Выполняется проход 22, оптимизатор sgd\n",
            "313/313 - 1s - loss: 0.3843 - accuracy: 0.8613\n",
            "Выполняется проход 22, оптимизатор rmsprop\n",
            "313/313 - 1s - loss: 0.5146 - accuracy: 0.8859\n",
            "Выполняется проход 22, оптимизатор adagrad\n",
            "313/313 - 1s - loss: 0.4786 - accuracy: 0.8329\n",
            "Выполняется проход 23, оптимизатор adam\n",
            "313/313 - 1s - loss: 0.3729 - accuracy: 0.8917\n",
            "Выполняется проход 23, оптимизатор sgd\n",
            "313/313 - 1s - loss: 0.3954 - accuracy: 0.8596\n",
            "Выполняется проход 23, оптимизатор rmsprop\n",
            "313/313 - 1s - loss: 0.4899 - accuracy: 0.8841\n",
            "Выполняется проход 23, оптимизатор adagrad\n",
            "313/313 - 1s - loss: 0.4781 - accuracy: 0.8291\n",
            "Выполняется проход 24, оптимизатор adam\n",
            "313/313 - 1s - loss: 0.3472 - accuracy: 0.8916\n",
            "Выполняется проход 24, оптимизатор sgd\n",
            "313/313 - 1s - loss: 0.3956 - accuracy: 0.8597\n",
            "Выполняется проход 24, оптимизатор rmsprop\n",
            "313/313 - 1s - loss: 0.5323 - accuracy: 0.8666\n",
            "Выполняется проход 24, оптимизатор adagrad\n",
            "313/313 - 1s - loss: 0.4766 - accuracy: 0.8328\n",
            "Выполняется проход 25, оптимизатор adam\n",
            "313/313 - 1s - loss: 0.3596 - accuracy: 0.8889\n",
            "Выполняется проход 25, оптимизатор sgd\n",
            "313/313 - 1s - loss: 0.3975 - accuracy: 0.8587\n",
            "Выполняется проход 25, оптимизатор rmsprop\n",
            "313/313 - 1s - loss: 0.6388 - accuracy: 0.8753\n",
            "Выполняется проход 25, оптимизатор adagrad\n",
            "313/313 - 1s - loss: 0.4808 - accuracy: 0.8347\n",
            "Выполняется проход 26, оптимизатор adam\n",
            "313/313 - 1s - loss: 0.3659 - accuracy: 0.8890\n",
            "Выполняется проход 26, оптимизатор sgd\n",
            "313/313 - 1s - loss: 0.3858 - accuracy: 0.8598\n",
            "Выполняется проход 26, оптимизатор rmsprop\n",
            "313/313 - 1s - loss: 0.5555 - accuracy: 0.8666\n",
            "Выполняется проход 26, оптимизатор adagrad\n",
            "313/313 - 1s - loss: 0.4703 - accuracy: 0.8352\n",
            "Выполняется проход 27, оптимизатор adam\n",
            "313/313 - 1s - loss: 0.4028 - accuracy: 0.8820\n",
            "Выполняется проход 27, оптимизатор sgd\n",
            "313/313 - 1s - loss: 0.3846 - accuracy: 0.8595\n",
            "Выполняется проход 27, оптимизатор rmsprop\n",
            "313/313 - 1s - loss: 0.5416 - accuracy: 0.8702\n",
            "Выполняется проход 27, оптимизатор adagrad\n",
            "313/313 - 1s - loss: 0.4736 - accuracy: 0.8335\n",
            "Выполняется проход 28, оптимизатор adam\n",
            "313/313 - 1s - loss: 0.3657 - accuracy: 0.8918\n",
            "Выполняется проход 28, оптимизатор sgd\n",
            "313/313 - 1s - loss: 0.3951 - accuracy: 0.8588\n",
            "Выполняется проход 28, оптимизатор rmsprop\n",
            "313/313 - 1s - loss: 0.5185 - accuracy: 0.8835\n",
            "Выполняется проход 28, оптимизатор adagrad\n",
            "313/313 - 1s - loss: 0.4729 - accuracy: 0.8323\n",
            "Выполняется проход 29, оптимизатор adam\n",
            "313/313 - 1s - loss: 0.3677 - accuracy: 0.8853\n",
            "Выполняется проход 29, оптимизатор sgd\n",
            "313/313 - 1s - loss: 0.3918 - accuracy: 0.8599\n",
            "Выполняется проход 29, оптимизатор rmsprop\n",
            "313/313 - 1s - loss: 0.6546 - accuracy: 0.8784\n",
            "Выполняется проход 29, оптимизатор adagrad\n",
            "313/313 - 1s - loss: 0.4767 - accuracy: 0.8333\n",
            "Выполняется проход 30, оптимизатор adam\n",
            "313/313 - 1s - loss: 0.3857 - accuracy: 0.8840\n",
            "Выполняется проход 30, оптимизатор sgd\n",
            "313/313 - 1s - loss: 0.3893 - accuracy: 0.8594\n",
            "Выполняется проход 30, оптимизатор rmsprop\n",
            "313/313 - 1s - loss: 0.4683 - accuracy: 0.8808\n",
            "Выполняется проход 30, оптимизатор adagrad\n",
            "313/313 - 1s - loss: 0.4804 - accuracy: 0.8305\n",
            "Выполняется проход 31, оптимизатор adam\n",
            "313/313 - 1s - loss: 0.3626 - accuracy: 0.8904\n",
            "Выполняется проход 31, оптимизатор sgd\n",
            "313/313 - 1s - loss: 0.3956 - accuracy: 0.8607\n",
            "Выполняется проход 31, оптимизатор rmsprop\n",
            "313/313 - 1s - loss: 0.4548 - accuracy: 0.8867\n",
            "Выполняется проход 31, оптимизатор adagrad\n",
            "313/313 - 1s - loss: 0.4778 - accuracy: 0.8339\n",
            "Выполняется проход 32, оптимизатор adam\n",
            "313/313 - 1s - loss: 0.3817 - accuracy: 0.8880\n",
            "Выполняется проход 32, оптимизатор sgd\n",
            "313/313 - 1s - loss: 0.3912 - accuracy: 0.8646\n",
            "Выполняется проход 32, оптимизатор rmsprop\n",
            "313/313 - 1s - loss: 0.5013 - accuracy: 0.8712\n",
            "Выполняется проход 32, оптимизатор adagrad\n",
            "313/313 - 1s - loss: 0.4823 - accuracy: 0.8282\n",
            "Выполняется проход 33, оптимизатор adam\n",
            "313/313 - 1s - loss: 0.3772 - accuracy: 0.8880\n",
            "Выполняется проход 33, оптимизатор sgd\n",
            "313/313 - 1s - loss: 0.4009 - accuracy: 0.8577\n",
            "Выполняется проход 33, оптимизатор rmsprop\n",
            "313/313 - 1s - loss: 0.5626 - accuracy: 0.8802\n",
            "Выполняется проход 33, оптимизатор adagrad\n",
            "313/313 - 1s - loss: 0.4831 - accuracy: 0.8317\n",
            "Выполняется проход 34, оптимизатор adam\n",
            "313/313 - 1s - loss: 0.3966 - accuracy: 0.8876\n",
            "Выполняется проход 34, оптимизатор sgd\n",
            "313/313 - 1s - loss: 0.4052 - accuracy: 0.8570\n",
            "Выполняется проход 34, оптимизатор rmsprop\n",
            "313/313 - 1s - loss: 0.8788 - accuracy: 0.8305\n",
            "Выполняется проход 34, оптимизатор adagrad\n",
            "313/313 - 1s - loss: 0.4873 - accuracy: 0.8300\n",
            "Выполняется проход 35, оптимизатор adam\n",
            "313/313 - 1s - loss: 0.3738 - accuracy: 0.8888\n",
            "Выполняется проход 35, оптимизатор sgd\n",
            "313/313 - 1s - loss: 0.3875 - accuracy: 0.8610\n",
            "Выполняется проход 35, оптимизатор rmsprop\n",
            "313/313 - 1s - loss: 0.4658 - accuracy: 0.8822\n",
            "Выполняется проход 35, оптимизатор adagrad\n",
            "313/313 - 1s - loss: 0.4898 - accuracy: 0.8310\n",
            "Выполняется проход 36, оптимизатор adam\n",
            "313/313 - 1s - loss: 0.3804 - accuracy: 0.8843\n",
            "Выполняется проход 36, оптимизатор sgd\n",
            "313/313 - 1s - loss: 0.3921 - accuracy: 0.8639\n",
            "Выполняется проход 36, оптимизатор rmsprop\n",
            "313/313 - 1s - loss: 0.5143 - accuracy: 0.8840\n",
            "Выполняется проход 36, оптимизатор adagrad\n",
            "313/313 - 1s - loss: 0.4734 - accuracy: 0.8320\n",
            "Выполняется проход 37, оптимизатор adam\n",
            "313/313 - 1s - loss: 0.3646 - accuracy: 0.8865\n",
            "Выполняется проход 37, оптимизатор sgd\n",
            "313/313 - 1s - loss: 0.3921 - accuracy: 0.8572\n",
            "Выполняется проход 37, оптимизатор rmsprop\n",
            "313/313 - 1s - loss: 0.6033 - accuracy: 0.8737\n",
            "Выполняется проход 37, оптимизатор adagrad\n",
            "313/313 - 1s - loss: 0.4767 - accuracy: 0.8324\n",
            "Выполняется проход 38, оптимизатор adam\n",
            "313/313 - 1s - loss: 0.3731 - accuracy: 0.8890\n",
            "Выполняется проход 38, оптимизатор sgd\n",
            "313/313 - 1s - loss: 0.3956 - accuracy: 0.8632\n",
            "Выполняется проход 38, оптимизатор rmsprop\n",
            "313/313 - 1s - loss: 0.5391 - accuracy: 0.8603\n",
            "Выполняется проход 38, оптимизатор adagrad\n",
            "313/313 - 1s - loss: 0.4796 - accuracy: 0.8319\n",
            "Выполняется проход 39, оптимизатор adam\n",
            "313/313 - 1s - loss: 0.3929 - accuracy: 0.8831\n",
            "Выполняется проход 39, оптимизатор sgd\n",
            "313/313 - 1s - loss: 0.4048 - accuracy: 0.8568\n",
            "Выполняется проход 39, оптимизатор rmsprop\n",
            "313/313 - 1s - loss: 0.4920 - accuracy: 0.8776\n",
            "Выполняется проход 39, оптимизатор adagrad\n",
            "313/313 - 1s - loss: 0.4715 - accuracy: 0.8346\n",
            "Выполняется проход 40, оптимизатор adam\n",
            "313/313 - 1s - loss: 0.3766 - accuracy: 0.8855\n",
            "Выполняется проход 40, оптимизатор sgd\n",
            "313/313 - 1s - loss: 0.3900 - accuracy: 0.8601\n",
            "Выполняется проход 40, оптимизатор rmsprop\n",
            "313/313 - 1s - loss: 0.5710 - accuracy: 0.8810\n",
            "Выполняется проход 40, оптимизатор adagrad\n",
            "313/313 - 1s - loss: 0.4712 - accuracy: 0.8340\n",
            "Выполняется проход 41, оптимизатор adam\n",
            "313/313 - 1s - loss: 0.3714 - accuracy: 0.8866\n",
            "Выполняется проход 41, оптимизатор sgd\n",
            "313/313 - 1s - loss: 0.3897 - accuracy: 0.8614\n",
            "Выполняется проход 41, оптимизатор rmsprop\n",
            "313/313 - 1s - loss: 0.5968 - accuracy: 0.8697\n",
            "Выполняется проход 41, оптимизатор adagrad\n",
            "313/313 - 1s - loss: 0.4737 - accuracy: 0.8339\n",
            "Выполняется проход 42, оптимизатор adam\n",
            "313/313 - 1s - loss: 0.3664 - accuracy: 0.8865\n",
            "Выполняется проход 42, оптимизатор sgd\n",
            "313/313 - 1s - loss: 0.4081 - accuracy: 0.8541\n",
            "Выполняется проход 42, оптимизатор rmsprop\n",
            "313/313 - 1s - loss: 0.5476 - accuracy: 0.8852\n",
            "Выполняется проход 42, оптимизатор adagrad\n",
            "313/313 - 1s - loss: 0.4766 - accuracy: 0.8343\n",
            "Выполняется проход 43, оптимизатор adam\n",
            "313/313 - 1s - loss: 0.3619 - accuracy: 0.8918\n",
            "Выполняется проход 43, оптимизатор sgd\n",
            "313/313 - 1s - loss: 0.3963 - accuracy: 0.8586\n",
            "Выполняется проход 43, оптимизатор rmsprop\n",
            "313/313 - 1s - loss: 0.4948 - accuracy: 0.8862\n",
            "Выполняется проход 43, оптимизатор adagrad\n",
            "313/313 - 1s - loss: 0.4732 - accuracy: 0.8323\n",
            "Выполняется проход 44, оптимизатор adam\n",
            "313/313 - 1s - loss: 0.3821 - accuracy: 0.8840\n",
            "Выполняется проход 44, оптимизатор sgd\n",
            "313/313 - 1s - loss: 0.3888 - accuracy: 0.8622\n",
            "Выполняется проход 44, оптимизатор rmsprop\n",
            "313/313 - 1s - loss: 0.5994 - accuracy: 0.8690\n",
            "Выполняется проход 44, оптимизатор adagrad\n",
            "313/313 - 1s - loss: 0.4732 - accuracy: 0.8332\n",
            "Выполняется проход 45, оптимизатор adam\n",
            "313/313 - 1s - loss: 0.3550 - accuracy: 0.8851\n",
            "Выполняется проход 45, оптимизатор sgd\n",
            "313/313 - 1s - loss: 0.3898 - accuracy: 0.8600\n",
            "Выполняется проход 45, оптимизатор rmsprop\n",
            "313/313 - 1s - loss: 0.5019 - accuracy: 0.8833\n",
            "Выполняется проход 45, оптимизатор adagrad\n",
            "313/313 - 1s - loss: 0.4790 - accuracy: 0.8327\n",
            "Выполняется проход 46, оптимизатор adam\n",
            "313/313 - 1s - loss: 0.3596 - accuracy: 0.8866\n",
            "Выполняется проход 46, оптимизатор sgd\n",
            "313/313 - 1s - loss: 0.3816 - accuracy: 0.8636\n",
            "Выполняется проход 46, оптимизатор rmsprop\n",
            "313/313 - 1s - loss: 0.5845 - accuracy: 0.8839\n",
            "Выполняется проход 46, оптимизатор adagrad\n",
            "313/313 - 1s - loss: 0.4716 - accuracy: 0.8363\n",
            "Выполняется проход 47, оптимизатор adam\n",
            "313/313 - 1s - loss: 0.3914 - accuracy: 0.8871\n",
            "Выполняется проход 47, оптимизатор sgd\n",
            "313/313 - 1s - loss: 0.4408 - accuracy: 0.8382\n",
            "Выполняется проход 47, оптимизатор rmsprop\n",
            "313/313 - 1s - loss: 0.5348 - accuracy: 0.8830\n",
            "Выполняется проход 47, оптимизатор adagrad\n",
            "313/313 - 1s - loss: 0.4785 - accuracy: 0.8315\n",
            "Выполняется проход 48, оптимизатор adam\n",
            "313/313 - 1s - loss: 0.3699 - accuracy: 0.8833\n",
            "Выполняется проход 48, оптимизатор sgd\n",
            "313/313 - 1s - loss: 0.3851 - accuracy: 0.8626\n",
            "Выполняется проход 48, оптимизатор rmsprop\n",
            "313/313 - 1s - loss: 0.4402 - accuracy: 0.8849\n",
            "Выполняется проход 48, оптимизатор adagrad\n",
            "313/313 - 1s - loss: 0.4735 - accuracy: 0.8336\n",
            "Выполняется проход 49, оптимизатор adam\n",
            "313/313 - 1s - loss: 0.3950 - accuracy: 0.8847\n",
            "Выполняется проход 49, оптимизатор sgd\n",
            "313/313 - 1s - loss: 0.3923 - accuracy: 0.8562\n",
            "Выполняется проход 49, оптимизатор rmsprop\n",
            "313/313 - 1s - loss: 0.5278 - accuracy: 0.8820\n",
            "Выполняется проход 49, оптимизатор adagrad\n",
            "313/313 - 1s - loss: 0.4715 - accuracy: 0.8344\n",
            "Выполняется проход 50, оптимизатор adam\n",
            "313/313 - 1s - loss: 0.3560 - accuracy: 0.8896\n",
            "Выполняется проход 50, оптимизатор sgd\n",
            "313/313 - 1s - loss: 0.3801 - accuracy: 0.8617\n",
            "Выполняется проход 50, оптимизатор rmsprop\n",
            "313/313 - 1s - loss: 0.5236 - accuracy: 0.8643\n",
            "Выполняется проход 50, оптимизатор adagrad\n",
            "313/313 - 1s - loss: 0.4674 - accuracy: 0.8342\n"
          ],
          "name": "stdout"
        }
      ]
    },
    {
      "cell_type": "code",
      "metadata": {
        "colab": {
          "base_uri": "https://localhost:8080/",
          "height": 300
        },
        "id": "U7r7cgscCOJc",
        "outputId": "ac0d5a2c-1c3e-45b9-af0a-054c866245c9"
      },
      "source": [
        "models_loss.astype(np.float64).describe()\n"
      ],
      "execution_count": 14,
      "outputs": [
        {
          "output_type": "execute_result",
          "data": {
            "text/html": [
              "<div>\n",
              "<style scoped>\n",
              "    .dataframe tbody tr th:only-of-type {\n",
              "        vertical-align: middle;\n",
              "    }\n",
              "\n",
              "    .dataframe tbody tr th {\n",
              "        vertical-align: top;\n",
              "    }\n",
              "\n",
              "    .dataframe thead th {\n",
              "        text-align: right;\n",
              "    }\n",
              "</style>\n",
              "<table border=\"1\" class=\"dataframe\">\n",
              "  <thead>\n",
              "    <tr style=\"text-align: right;\">\n",
              "      <th></th>\n",
              "      <th>number</th>\n",
              "      <th>adam</th>\n",
              "      <th>sgd</th>\n",
              "      <th>rmsprop</th>\n",
              "      <th>adagrad</th>\n",
              "    </tr>\n",
              "  </thead>\n",
              "  <tbody>\n",
              "    <tr>\n",
              "      <th>count</th>\n",
              "      <td>0.0</td>\n",
              "      <td>50.000000</td>\n",
              "      <td>50.000000</td>\n",
              "      <td>50.000000</td>\n",
              "      <td>50.000000</td>\n",
              "    </tr>\n",
              "    <tr>\n",
              "      <th>mean</th>\n",
              "      <td>NaN</td>\n",
              "      <td>0.373448</td>\n",
              "      <td>0.394177</td>\n",
              "      <td>0.549075</td>\n",
              "      <td>0.476162</td>\n",
              "    </tr>\n",
              "    <tr>\n",
              "      <th>std</th>\n",
              "      <td>NaN</td>\n",
              "      <td>0.013989</td>\n",
              "      <td>0.009156</td>\n",
              "      <td>0.070741</td>\n",
              "      <td>0.005624</td>\n",
              "    </tr>\n",
              "    <tr>\n",
              "      <th>min</th>\n",
              "      <td>NaN</td>\n",
              "      <td>0.340821</td>\n",
              "      <td>0.380063</td>\n",
              "      <td>0.440174</td>\n",
              "      <td>0.464412</td>\n",
              "    </tr>\n",
              "    <tr>\n",
              "      <th>25%</th>\n",
              "      <td>NaN</td>\n",
              "      <td>0.365651</td>\n",
              "      <td>0.389728</td>\n",
              "      <td>0.507449</td>\n",
              "      <td>0.471933</td>\n",
              "    </tr>\n",
              "    <tr>\n",
              "      <th>50%</th>\n",
              "      <td>NaN</td>\n",
              "      <td>0.373431</td>\n",
              "      <td>0.392127</td>\n",
              "      <td>0.533559</td>\n",
              "      <td>0.476542</td>\n",
              "    </tr>\n",
              "    <tr>\n",
              "      <th>75%</th>\n",
              "      <td>NaN</td>\n",
              "      <td>0.381391</td>\n",
              "      <td>0.397973</td>\n",
              "      <td>0.591290</td>\n",
              "      <td>0.479226</td>\n",
              "    </tr>\n",
              "    <tr>\n",
              "      <th>max</th>\n",
              "      <td>NaN</td>\n",
              "      <td>0.410880</td>\n",
              "      <td>0.440758</td>\n",
              "      <td>0.878803</td>\n",
              "      <td>0.489832</td>\n",
              "    </tr>\n",
              "  </tbody>\n",
              "</table>\n",
              "</div>"
            ],
            "text/plain": [
              "       number       adam        sgd    rmsprop    adagrad\n",
              "count     0.0  50.000000  50.000000  50.000000  50.000000\n",
              "mean      NaN   0.373448   0.394177   0.549075   0.476162\n",
              "std       NaN   0.013989   0.009156   0.070741   0.005624\n",
              "min       NaN   0.340821   0.380063   0.440174   0.464412\n",
              "25%       NaN   0.365651   0.389728   0.507449   0.471933\n",
              "50%       NaN   0.373431   0.392127   0.533559   0.476542\n",
              "75%       NaN   0.381391   0.397973   0.591290   0.479226\n",
              "max       NaN   0.410880   0.440758   0.878803   0.489832"
            ]
          },
          "metadata": {
            "tags": []
          },
          "execution_count": 14
        }
      ]
    },
    {
      "cell_type": "code",
      "metadata": {
        "colab": {
          "base_uri": "https://localhost:8080/",
          "height": 300
        },
        "id": "oUguQZzN7X8P",
        "outputId": "814421c0-999f-44e4-d7dc-e39d6f0bb0cc"
      },
      "source": [
        "models_acc.astype(np.float64).describe()"
      ],
      "execution_count": 15,
      "outputs": [
        {
          "output_type": "execute_result",
          "data": {
            "text/html": [
              "<div>\n",
              "<style scoped>\n",
              "    .dataframe tbody tr th:only-of-type {\n",
              "        vertical-align: middle;\n",
              "    }\n",
              "\n",
              "    .dataframe tbody tr th {\n",
              "        vertical-align: top;\n",
              "    }\n",
              "\n",
              "    .dataframe thead th {\n",
              "        text-align: right;\n",
              "    }\n",
              "</style>\n",
              "<table border=\"1\" class=\"dataframe\">\n",
              "  <thead>\n",
              "    <tr style=\"text-align: right;\">\n",
              "      <th></th>\n",
              "      <th>number</th>\n",
              "      <th>adam</th>\n",
              "      <th>sgd</th>\n",
              "      <th>rmsprop</th>\n",
              "      <th>adagrad</th>\n",
              "    </tr>\n",
              "  </thead>\n",
              "  <tbody>\n",
              "    <tr>\n",
              "      <th>count</th>\n",
              "      <td>0.0</td>\n",
              "      <td>50.000000</td>\n",
              "      <td>50.000000</td>\n",
              "      <td>50.000000</td>\n",
              "      <td>50.000000</td>\n",
              "    </tr>\n",
              "    <tr>\n",
              "      <th>mean</th>\n",
              "      <td>NaN</td>\n",
              "      <td>0.887610</td>\n",
              "      <td>0.859630</td>\n",
              "      <td>0.877450</td>\n",
              "      <td>0.832972</td>\n",
              "    </tr>\n",
              "    <tr>\n",
              "      <th>std</th>\n",
              "      <td>NaN</td>\n",
              "      <td>0.003736</td>\n",
              "      <td>0.003994</td>\n",
              "      <td>0.009565</td>\n",
              "      <td>0.001996</td>\n",
              "    </tr>\n",
              "    <tr>\n",
              "      <th>min</th>\n",
              "      <td>NaN</td>\n",
              "      <td>0.871700</td>\n",
              "      <td>0.838200</td>\n",
              "      <td>0.830500</td>\n",
              "      <td>0.828200</td>\n",
              "    </tr>\n",
              "    <tr>\n",
              "      <th>25%</th>\n",
              "      <td>NaN</td>\n",
              "      <td>0.885300</td>\n",
              "      <td>0.858225</td>\n",
              "      <td>0.874100</td>\n",
              "      <td>0.831750</td>\n",
              "    </tr>\n",
              "    <tr>\n",
              "      <th>50%</th>\n",
              "      <td>NaN</td>\n",
              "      <td>0.887850</td>\n",
              "      <td>0.860050</td>\n",
              "      <td>0.879850</td>\n",
              "      <td>0.832850</td>\n",
              "    </tr>\n",
              "    <tr>\n",
              "      <th>75%</th>\n",
              "      <td>NaN</td>\n",
              "      <td>0.890400</td>\n",
              "      <td>0.861650</td>\n",
              "      <td>0.883975</td>\n",
              "      <td>0.834475</td>\n",
              "    </tr>\n",
              "    <tr>\n",
              "      <th>max</th>\n",
              "      <td>NaN</td>\n",
              "      <td>0.893700</td>\n",
              "      <td>0.865200</td>\n",
              "      <td>0.887600</td>\n",
              "      <td>0.836800</td>\n",
              "    </tr>\n",
              "  </tbody>\n",
              "</table>\n",
              "</div>"
            ],
            "text/plain": [
              "       number       adam        sgd    rmsprop    adagrad\n",
              "count     0.0  50.000000  50.000000  50.000000  50.000000\n",
              "mean      NaN   0.887610   0.859630   0.877450   0.832972\n",
              "std       NaN   0.003736   0.003994   0.009565   0.001996\n",
              "min       NaN   0.871700   0.838200   0.830500   0.828200\n",
              "25%       NaN   0.885300   0.858225   0.874100   0.831750\n",
              "50%       NaN   0.887850   0.860050   0.879850   0.832850\n",
              "75%       NaN   0.890400   0.861650   0.883975   0.834475\n",
              "max       NaN   0.893700   0.865200   0.887600   0.836800"
            ]
          },
          "metadata": {
            "tags": []
          },
          "execution_count": 15
        }
      ]
    },
    {
      "cell_type": "code",
      "metadata": {
        "id": "Mfkr50zZfuZ3"
      },
      "source": [
        ""
      ],
      "execution_count": 15,
      "outputs": []
    },
    {
      "cell_type": "markdown",
      "metadata": {
        "id": "HViL3xeNfy8u"
      },
      "source": [
        "#Проверка с одним seed"
      ]
    },
    {
      "cell_type": "code",
      "metadata": {
        "id": "aGf1eINPfwil"
      },
      "source": [
        "columns_1 = (\"number\", \"adam\", \"sgd\", \"rmsprop\", \"adagrad\")\n",
        "models_loss = pd.DataFrame(columns=columns_1)\n",
        "models_acc = pd.DataFrame(columns=columns_1)"
      ],
      "execution_count": 16,
      "outputs": []
    },
    {
      "cell_type": "code",
      "metadata": {
        "id": "0U037sF9fwip"
      },
      "source": [
        "optimizers = [\"adam\", \"sgd\", \"rmsprop\", \"adagrad\"]"
      ],
      "execution_count": 17,
      "outputs": []
    },
    {
      "cell_type": "markdown",
      "metadata": {
        "id": "ISVPMYl-fwir"
      },
      "source": [
        "## Выполняем эксперимент на определение лучшего оптимизатора\n",
        "Эксперимент будет выпоняться 15 раз с разными seed для усреднения при разных начальных состояниях. \n",
        "Записываем loss, acc.\n",
        "\n",
        "Далее результат будет усреднён и выбрана модель с наилучшей комбинацией loss-acc. Учитываться будут средние значения и дисперсии."
      ]
    },
    {
      "cell_type": "code",
      "metadata": {
        "id": "TA3uJ5crfwis"
      },
      "source": [
        "# Количество слоёв выбиралось исходя из уменьшения вдвое числа входов\n",
        "for i in range(1,51):\n",
        "  for opt in optimizers:\n",
        "    print(f\"Выполняется проход {i}, оптимизатор {opt}\")\n",
        "    model = keras.Sequential([\n",
        "        keras.layers.Flatten(input_shape=(28, 28)),\n",
        "        keras.layers.Dense(392, activation='relu',\n",
        "                           kernel_initializer=initializers.RandomNormal(mean=0.0, stddev=0.15,seed=int(42))),\n",
        "        keras.layers.Dense(196, activation='relu',\n",
        "                           kernel_initializer=initializers.RandomNormal(mean=0.0, stddev=0.15,seed=int(42))),\n",
        "        keras.layers.Dense(98, activation='relu',\n",
        "                           kernel_initializer=initializers.RandomNormal(mean=0.0, stddev=0.15,seed=int(42))),\n",
        "        keras.layers.Dense(49, activation='relu',\n",
        "                           kernel_initializer=initializers.RandomNormal(mean=0.0, stddev=0.15,seed=int(42))),\n",
        "        keras.layers.Dense(10,\n",
        "                           kernel_initializer=initializers.RandomNormal(mean=0.0, stddev=0.15,seed=int(42)))\n",
        "    ])\n",
        "\n",
        "    model.compile(optimizer=opt,\n",
        "                  loss=tf.keras.losses.CategoricalCrossentropy(from_logits=True),\n",
        "                  metrics=['accuracy'])\n",
        "\n",
        "    model.fit(train_images, y_train_labels, epochs=18, batch_size=100, verbose=0)\n",
        "\n",
        "    test_loss, test_acc = model.evaluate(test_images,  y_test_labels, verbose=2)\n",
        "    models_loss.loc[i, opt] = test_loss\n",
        "    models_acc.loc[i, opt] = test_acc"
      ],
      "execution_count": null,
      "outputs": []
    },
    {
      "cell_type": "code",
      "metadata": {
        "colab": {
          "base_uri": "https://localhost:8080/",
          "height": 300
        },
        "id": "yqvNmtQ1fwiu",
        "outputId": "af9c8fb9-77b6-4925-8680-8fd9ae38c645"
      },
      "source": [
        "models_loss.astype(np.float64).describe()\n"
      ],
      "execution_count": 29,
      "outputs": [
        {
          "output_type": "execute_result",
          "data": {
            "text/html": [
              "<div>\n",
              "<style scoped>\n",
              "    .dataframe tbody tr th:only-of-type {\n",
              "        vertical-align: middle;\n",
              "    }\n",
              "\n",
              "    .dataframe tbody tr th {\n",
              "        vertical-align: top;\n",
              "    }\n",
              "\n",
              "    .dataframe thead th {\n",
              "        text-align: right;\n",
              "    }\n",
              "</style>\n",
              "<table border=\"1\" class=\"dataframe\">\n",
              "  <thead>\n",
              "    <tr style=\"text-align: right;\">\n",
              "      <th></th>\n",
              "      <th>number</th>\n",
              "      <th>adam</th>\n",
              "      <th>sgd</th>\n",
              "      <th>rmsprop</th>\n",
              "      <th>adagrad</th>\n",
              "    </tr>\n",
              "  </thead>\n",
              "  <tbody>\n",
              "    <tr>\n",
              "      <th>count</th>\n",
              "      <td>0.0</td>\n",
              "      <td>50.000000</td>\n",
              "      <td>50.000000</td>\n",
              "      <td>50.000000</td>\n",
              "      <td>50.000000</td>\n",
              "    </tr>\n",
              "    <tr>\n",
              "      <th>mean</th>\n",
              "      <td>NaN</td>\n",
              "      <td>0.374641</td>\n",
              "      <td>0.391096</td>\n",
              "      <td>0.550405</td>\n",
              "      <td>0.477420</td>\n",
              "    </tr>\n",
              "    <tr>\n",
              "      <th>std</th>\n",
              "      <td>NaN</td>\n",
              "      <td>0.016966</td>\n",
              "      <td>0.008053</td>\n",
              "      <td>0.057247</td>\n",
              "      <td>0.001243</td>\n",
              "    </tr>\n",
              "    <tr>\n",
              "      <th>min</th>\n",
              "      <td>NaN</td>\n",
              "      <td>0.338099</td>\n",
              "      <td>0.380241</td>\n",
              "      <td>0.442757</td>\n",
              "      <td>0.474607</td>\n",
              "    </tr>\n",
              "    <tr>\n",
              "      <th>25%</th>\n",
              "      <td>NaN</td>\n",
              "      <td>0.364294</td>\n",
              "      <td>0.385634</td>\n",
              "      <td>0.517282</td>\n",
              "      <td>0.476771</td>\n",
              "    </tr>\n",
              "    <tr>\n",
              "      <th>50%</th>\n",
              "      <td>NaN</td>\n",
              "      <td>0.373714</td>\n",
              "      <td>0.389420</td>\n",
              "      <td>0.539066</td>\n",
              "      <td>0.477368</td>\n",
              "    </tr>\n",
              "    <tr>\n",
              "      <th>75%</th>\n",
              "      <td>NaN</td>\n",
              "      <td>0.385032</td>\n",
              "      <td>0.393431</td>\n",
              "      <td>0.574520</td>\n",
              "      <td>0.478059</td>\n",
              "    </tr>\n",
              "    <tr>\n",
              "      <th>max</th>\n",
              "      <td>NaN</td>\n",
              "      <td>0.417933</td>\n",
              "      <td>0.417023</td>\n",
              "      <td>0.670928</td>\n",
              "      <td>0.480963</td>\n",
              "    </tr>\n",
              "  </tbody>\n",
              "</table>\n",
              "</div>"
            ],
            "text/plain": [
              "       number       adam        sgd    rmsprop    adagrad\n",
              "count     0.0  50.000000  50.000000  50.000000  50.000000\n",
              "mean      NaN   0.374641   0.391096   0.550405   0.477420\n",
              "std       NaN   0.016966   0.008053   0.057247   0.001243\n",
              "min       NaN   0.338099   0.380241   0.442757   0.474607\n",
              "25%       NaN   0.364294   0.385634   0.517282   0.476771\n",
              "50%       NaN   0.373714   0.389420   0.539066   0.477368\n",
              "75%       NaN   0.385032   0.393431   0.574520   0.478059\n",
              "max       NaN   0.417933   0.417023   0.670928   0.480963"
            ]
          },
          "metadata": {
            "tags": []
          },
          "execution_count": 29
        }
      ]
    },
    {
      "cell_type": "code",
      "metadata": {
        "colab": {
          "base_uri": "https://localhost:8080/",
          "height": 300
        },
        "id": "4gYrmvVlfwix",
        "outputId": "d635f63d-abf4-4388-e548-6caddf0ca3d0"
      },
      "source": [
        "models_acc.astype(np.float64).describe()"
      ],
      "execution_count": 30,
      "outputs": [
        {
          "output_type": "execute_result",
          "data": {
            "text/html": [
              "<div>\n",
              "<style scoped>\n",
              "    .dataframe tbody tr th:only-of-type {\n",
              "        vertical-align: middle;\n",
              "    }\n",
              "\n",
              "    .dataframe tbody tr th {\n",
              "        vertical-align: top;\n",
              "    }\n",
              "\n",
              "    .dataframe thead th {\n",
              "        text-align: right;\n",
              "    }\n",
              "</style>\n",
              "<table border=\"1\" class=\"dataframe\">\n",
              "  <thead>\n",
              "    <tr style=\"text-align: right;\">\n",
              "      <th></th>\n",
              "      <th>number</th>\n",
              "      <th>adam</th>\n",
              "      <th>sgd</th>\n",
              "      <th>rmsprop</th>\n",
              "      <th>adagrad</th>\n",
              "    </tr>\n",
              "  </thead>\n",
              "  <tbody>\n",
              "    <tr>\n",
              "      <th>count</th>\n",
              "      <td>0.0</td>\n",
              "      <td>50.000000</td>\n",
              "      <td>50.000000</td>\n",
              "      <td>50.000000</td>\n",
              "      <td>50.000000</td>\n",
              "    </tr>\n",
              "    <tr>\n",
              "      <th>mean</th>\n",
              "      <td>NaN</td>\n",
              "      <td>0.886936</td>\n",
              "      <td>0.859236</td>\n",
              "      <td>0.878078</td>\n",
              "      <td>0.833742</td>\n",
              "    </tr>\n",
              "    <tr>\n",
              "      <th>std</th>\n",
              "      <td>NaN</td>\n",
              "      <td>0.004751</td>\n",
              "      <td>0.003493</td>\n",
              "      <td>0.008280</td>\n",
              "      <td>0.001203</td>\n",
              "    </tr>\n",
              "    <tr>\n",
              "      <th>min</th>\n",
              "      <td>NaN</td>\n",
              "      <td>0.872800</td>\n",
              "      <td>0.847600</td>\n",
              "      <td>0.851600</td>\n",
              "      <td>0.830900</td>\n",
              "    </tr>\n",
              "    <tr>\n",
              "      <th>25%</th>\n",
              "      <td>NaN</td>\n",
              "      <td>0.884650</td>\n",
              "      <td>0.858325</td>\n",
              "      <td>0.873875</td>\n",
              "      <td>0.832900</td>\n",
              "    </tr>\n",
              "    <tr>\n",
              "      <th>50%</th>\n",
              "      <td>NaN</td>\n",
              "      <td>0.887650</td>\n",
              "      <td>0.859900</td>\n",
              "      <td>0.880050</td>\n",
              "      <td>0.833650</td>\n",
              "    </tr>\n",
              "    <tr>\n",
              "      <th>75%</th>\n",
              "      <td>NaN</td>\n",
              "      <td>0.890275</td>\n",
              "      <td>0.861575</td>\n",
              "      <td>0.883350</td>\n",
              "      <td>0.834775</td>\n",
              "    </tr>\n",
              "    <tr>\n",
              "      <th>max</th>\n",
              "      <td>NaN</td>\n",
              "      <td>0.893600</td>\n",
              "      <td>0.864300</td>\n",
              "      <td>0.890400</td>\n",
              "      <td>0.836000</td>\n",
              "    </tr>\n",
              "  </tbody>\n",
              "</table>\n",
              "</div>"
            ],
            "text/plain": [
              "       number       adam        sgd    rmsprop    adagrad\n",
              "count     0.0  50.000000  50.000000  50.000000  50.000000\n",
              "mean      NaN   0.886936   0.859236   0.878078   0.833742\n",
              "std       NaN   0.004751   0.003493   0.008280   0.001203\n",
              "min       NaN   0.872800   0.847600   0.851600   0.830900\n",
              "25%       NaN   0.884650   0.858325   0.873875   0.832900\n",
              "50%       NaN   0.887650   0.859900   0.880050   0.833650\n",
              "75%       NaN   0.890275   0.861575   0.883350   0.834775\n",
              "max       NaN   0.893600   0.864300   0.890400   0.836000"
            ]
          },
          "metadata": {
            "tags": []
          },
          "execution_count": 30
        }
      ]
    }
  ]
}