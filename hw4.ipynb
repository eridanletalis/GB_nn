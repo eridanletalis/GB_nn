{
  "nbformat": 4,
  "nbformat_minor": 0,
  "metadata": {
    "colab": {
      "name": "hw4.ipynb",
      "provenance": [],
      "collapsed_sections": []
    },
    "kernelspec": {
      "name": "python3",
      "display_name": "Python 3"
    },
    "language_info": {
      "name": "python"
    },
    "accelerator": "GPU"
  },
  "cells": [
    {
      "cell_type": "markdown",
      "metadata": {
        "id": "FGfY6GAA8pBi"
      },
      "source": [
        "# Загрузка библиотек и примеров"
      ]
    },
    {
      "cell_type": "code",
      "source": [
        ""
      ],
      "metadata": {
        "id": "bvWno24ZHrXf"
      },
      "execution_count": null,
      "outputs": []
    },
    {
      "cell_type": "markdown",
      "source": [
        "Временно прошу не проверять - колаб сбросил вычисления на самом интересном месте, сейчас перезапустил на домашнем"
      ],
      "metadata": {
        "id": "X2YaOuoKHrnj"
      }
    },
    {
      "cell_type": "markdown",
      "metadata": {
        "id": "HdsYhVwz3qiJ"
      },
      "source": [
        "Эксперимент со сложной сетью в другом блокноте\n",
        "https://github.com/eridanletalis/GB_nn/blob/main/hw4_2.ipynb"
      ]
    }
  ]
}