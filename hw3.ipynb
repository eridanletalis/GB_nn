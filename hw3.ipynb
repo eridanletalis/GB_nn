{
  "nbformat": 4,
  "nbformat_minor": 0,
  "metadata": {
    "colab": {
      "name": "hw3.ipynb",
      "provenance": [],
      "collapsed_sections": [
        "SDrGZdGmCR2w"
      ],
      "toc_visible": true,
      "authorship_tag": "ABX9TyMt70D9XpK/AwtUJrp34udS",
      "include_colab_link": true
    },
    "kernelspec": {
      "name": "python3",
      "display_name": "Python 3"
    },
    "language_info": {
      "name": "python"
    },
    "accelerator": "GPU"
  },
  "cells": [
    {
      "cell_type": "markdown",
      "metadata": {
        "id": "view-in-github",
        "colab_type": "text"
      },
      "source": [
        "<a href=\"https://colab.research.google.com/github/eridanletalis/GB_nn/blob/main/hw3.ipynb\" target=\"_parent\"><img src=\"https://colab.research.google.com/assets/colab-badge.svg\" alt=\"Open In Colab\"/></a>"
      ]
    },
    {
      "cell_type": "code",
      "metadata": {
        "id": "3cHFxYTYfW0e"
      },
      "source": [
        "#!pip install --upgrade pip\n",
        "#!pip uninstall -y tensorflow-gpu\n",
        "#!pip install tensorflow-gpu==2.4.1\n",
        "#%tensorflow_version 2.4.1"
      ],
      "execution_count": null,
      "outputs": []
    },
    {
      "cell_type": "markdown",
      "metadata": {
        "id": "FyLY_CJqf-FV"
      },
      "source": [
        "Улучшение работы на MNIST\n",
        "\n",
        "Подключаем библиотеки и подгружаем данные"
      ]
    },
    {
      "cell_type": "code",
      "metadata": {
        "colab": {
          "base_uri": "https://localhost:8080/"
        },
        "id": "EdtNDmBigE0W",
        "outputId": "91877718-8a7e-4820-d14d-212d456ef90f"
      },
      "source": [
        "%tensorflow_version 2.x\n",
        "import tensorflow as tf\n",
        "device_name = tf.test.gpu_device_name()\n",
        "if device_name != '/device:GPU:0':\n",
        "  raise SystemError('GPU device not found')\n",
        "print('Found GPU at: {}'.format(device_name))"
      ],
      "execution_count": 1,
      "outputs": [
        {
          "output_type": "stream",
          "name": "stdout",
          "text": [
            "Found GPU at: /device:GPU:0\n"
          ]
        }
      ]
    },
    {
      "cell_type": "code",
      "metadata": {
        "colab": {
          "base_uri": "https://localhost:8080/",
          "height": 36
        },
        "id": "U8Jsb_yho70c",
        "outputId": "a117c80a-b009-45eb-c920-0e0ba0e11d5d"
      },
      "source": [
        "tf.test.gpu_device_name()"
      ],
      "execution_count": 2,
      "outputs": [
        {
          "output_type": "execute_result",
          "data": {
            "text/plain": [
              "'/device:GPU:0'"
            ],
            "application/vnd.google.colaboratory.intrinsic+json": {
              "type": "string"
            }
          },
          "metadata": {},
          "execution_count": 2
        }
      ]
    },
    {
      "cell_type": "code",
      "metadata": {
        "colab": {
          "base_uri": "https://localhost:8080/"
        },
        "id": "LltEzxYXgIPZ",
        "outputId": "16bcd407-2002-47d0-b9af-42128201ca34"
      },
      "source": [
        "# Проверим, что ГПУ включился\n",
        "import timeit\n",
        "\n",
        "device_name = tf.test.gpu_device_name()\n",
        "if device_name != '/device:GPU:0':\n",
        "  print(\n",
        "      '\\n\\nThis error most likely means that this notebook is not '\n",
        "      'configured to use a GPU.  Change this in Notebook Settings via the '\n",
        "      'command palette (cmd/ctrl-shift-P) or the Edit menu.\\n\\n')\n",
        "  raise SystemError('GPU device not found')\n",
        "\n",
        "def cpu():\n",
        "  with tf.device('/cpu:0'):\n",
        "    random_image_cpu = tf.random.normal((100, 100, 100, 3))\n",
        "    net_cpu = tf.keras.layers.Conv2D(32, 7)(random_image_cpu)\n",
        "    return tf.math.reduce_sum(net_cpu)\n",
        "\n",
        "def gpu():\n",
        "  with tf.device('/device:GPU:0'):\n",
        "    random_image_gpu = tf.random.normal((100, 100, 100, 3))\n",
        "    net_gpu = tf.keras.layers.Conv2D(32, 7)(random_image_gpu)\n",
        "    return tf.math.reduce_sum(net_gpu)\n",
        "  \n",
        "# We run each op once to warm up; see: https://stackoverflow.com/a/45067900\n",
        "cpu()\n",
        "gpu()\n",
        "\n",
        "# Run the op several times.\n",
        "print('Time (s) to convolve 32x7x7x3 filter over random 100x100x100x3 images '\n",
        "      '(batch x height x width x channel). Sum of ten runs.')\n",
        "print('CPU (s):')\n",
        "cpu_time = timeit.timeit('cpu()', number=10, setup=\"from __main__ import cpu\")\n",
        "print(cpu_time)\n",
        "print('GPU (s):')\n",
        "gpu_time = timeit.timeit('gpu()', number=10, setup=\"from __main__ import gpu\")\n",
        "print(gpu_time)\n",
        "print('GPU speedup over CPU: {}x'.format(int(cpu_time/gpu_time)))"
      ],
      "execution_count": 3,
      "outputs": [
        {
          "output_type": "stream",
          "name": "stdout",
          "text": [
            "Time (s) to convolve 32x7x7x3 filter over random 100x100x100x3 images (batch x height x width x channel). Sum of ten runs.\n",
            "CPU (s):\n",
            "5.244927325999981\n",
            "GPU (s):\n",
            "0.05722952299998951\n",
            "GPU speedup over CPU: 91x\n"
          ]
        }
      ]
    },
    {
      "cell_type": "code",
      "metadata": {
        "colab": {
          "base_uri": "https://localhost:8080/"
        },
        "id": "BlCUyR8lnOpD",
        "outputId": "eda69125-22a7-4e20-ad00-b92e1f5aea81"
      },
      "source": [
        "tf.config.experimental.list_physical_devices()"
      ],
      "execution_count": 4,
      "outputs": [
        {
          "output_type": "execute_result",
          "data": {
            "text/plain": [
              "[PhysicalDevice(name='/physical_device:CPU:0', device_type='CPU'),\n",
              " PhysicalDevice(name='/physical_device:GPU:0', device_type='GPU')]"
            ]
          },
          "metadata": {},
          "execution_count": 4
        }
      ]
    },
    {
      "cell_type": "code",
      "metadata": {
        "id": "QLPbZqKil7dQ"
      },
      "source": [
        "# сразу подключим оптимизаторы, слои и прочее\n",
        "from tensorflow.keras.optimizers import Adam, SGD, RMSprop, Adagrad\n",
        "from __future__ import absolute_import, division, print_function, unicode_literals\n",
        "from tensorflow import keras\n",
        "from tensorflow.keras.models import Sequential\n",
        "from tensorflow.keras.layers import Dense\n",
        "from tensorflow.keras.utils import to_categorical\n",
        "from tensorflow.keras.layers import Input, Flatten\n",
        "from tensorflow.keras.models import Model\n",
        "import tensorflow\n",
        "\n",
        "# Helper libraries\n",
        "import numpy as np\n",
        "import matplotlib.pyplot as plt"
      ],
      "execution_count": 5,
      "outputs": []
    },
    {
      "cell_type": "code",
      "metadata": {
        "id": "ApUQOn8znHq0"
      },
      "source": [
        ""
      ],
      "execution_count": null,
      "outputs": []
    },
    {
      "cell_type": "markdown",
      "metadata": {
        "id": "aQFSrqpPnJ6k"
      },
      "source": [
        "Загружаем исходные данные"
      ]
    },
    {
      "cell_type": "code",
      "metadata": {
        "id": "wkLr7Ac6nMuD",
        "colab": {
          "base_uri": "https://localhost:8080/"
        },
        "outputId": "3ed1aeb2-583f-4b9c-caf3-8bc488d53578"
      },
      "source": [
        "fashion_mnist = keras.datasets.fashion_mnist\n",
        "\n",
        "(train_images, train_labels), (test_images, test_labels) = fashion_mnist.load_data()"
      ],
      "execution_count": 6,
      "outputs": [
        {
          "output_type": "stream",
          "name": "stdout",
          "text": [
            "Downloading data from https://storage.googleapis.com/tensorflow/tf-keras-datasets/train-labels-idx1-ubyte.gz\n",
            "32768/29515 [=================================] - 0s 0us/step\n",
            "40960/29515 [=========================================] - 0s 0us/step\n",
            "Downloading data from https://storage.googleapis.com/tensorflow/tf-keras-datasets/train-images-idx3-ubyte.gz\n",
            "26427392/26421880 [==============================] - 0s 0us/step\n",
            "26435584/26421880 [==============================] - 0s 0us/step\n",
            "Downloading data from https://storage.googleapis.com/tensorflow/tf-keras-datasets/t10k-labels-idx1-ubyte.gz\n",
            "16384/5148 [===============================================================================================] - 0s 0us/step\n",
            "Downloading data from https://storage.googleapis.com/tensorflow/tf-keras-datasets/t10k-images-idx3-ubyte.gz\n",
            "4423680/4422102 [==============================] - 0s 0us/step\n",
            "4431872/4422102 [==============================] - 0s 0us/step\n"
          ]
        }
      ]
    },
    {
      "cell_type": "code",
      "metadata": {
        "id": "HnIeYpqEnrZx"
      },
      "source": [
        "class_names = ['T-shirt/top', 'Trouser', 'Pullover', 'Dress', 'Coat',\n",
        "               'Sandal', 'Shirt', 'Sneaker', 'Bag', 'Ankle boot']"
      ],
      "execution_count": 7,
      "outputs": []
    },
    {
      "cell_type": "code",
      "metadata": {
        "id": "5yeIAGflqAMo"
      },
      "source": [
        "y_train_labels = to_categorical(train_labels)\n",
        "y_test_labels = to_categorical(test_labels)"
      ],
      "execution_count": 8,
      "outputs": []
    },
    {
      "cell_type": "code",
      "metadata": {
        "colab": {
          "base_uri": "https://localhost:8080/",
          "height": 265
        },
        "id": "JPY6JVfuqBij",
        "outputId": "7eaebaa8-15cb-468a-8ce1-3b8d85220ae9"
      },
      "source": [
        "plt.figure()\n",
        "plt.imshow(train_images[8879])\n",
        "plt.colorbar()\n",
        "plt.grid(False)\n",
        "plt.show()"
      ],
      "execution_count": 9,
      "outputs": [
        {
          "output_type": "display_data",
          "data": {
            "text/plain": [
              "<Figure size 432x288 with 2 Axes>"
            ],
            "image/png": "[encoded data removed]"
          },
          "metadata": {
            "needs_background": "light"
          }
        }
      ]
    },
    {
      "cell_type": "code",
      "metadata": {
        "id": "HDEyQpK0qG5k"
      },
      "source": [
        "train_images = train_images / 255.0\n",
        "\n",
        "test_images = test_images / 255.0"
      ],
      "execution_count": 10,
      "outputs": []
    },
    {
      "cell_type": "code",
      "metadata": {
        "colab": {
          "base_uri": "https://localhost:8080/",
          "height": 589
        },
        "id": "o6SLk8j9qMf5",
        "outputId": "fc45dbda-2150-4871-fe7c-bbadaed721c3"
      },
      "source": [
        "plt.figure(figsize=(10,10))\n",
        "for i in range(154,179):\n",
        "    plt.subplot(5,5,i+1-154)\n",
        "    plt.xticks([])\n",
        "    plt.yticks([])\n",
        "    plt.grid(False)\n",
        "    plt.imshow(train_images[i], cmap=plt.cm.binary)\n",
        "    plt.xlabel(class_names[train_labels[i]])\n",
        "plt.show()"
      ],
      "execution_count": 11,
      "outputs": [
        {
          "output_type": "display_data",
          "data": {
            "text/plain": [
              "<Figure size 720x720 with 25 Axes>"
            ],
            "image/png": "[encoded data removed]"
          },
          "metadata": {}
        }
      ]
    },
    {
      "cell_type": "code",
      "metadata": {
        "id": "n--UwyU_qdB6"
      },
      "source": [
        ""
      ],
      "execution_count": null,
      "outputs": []
    },
    {
      "cell_type": "markdown",
      "metadata": {
        "id": "m8X6XYnozJGe"
      },
      "source": [
        "# Строим ИНС\n",
        "Помня о том, что во второй работе увеличение колиества нейронов в слое не давало высокого прироста, а чрезмерное увеличение количества слоёв увеличивало переобучение, применим копромисное решение.\n",
        "\n",
        "<strong>Вывод первый интересный: как и в биологической системе, в информационной решающее значение оказвыает число узлов нейронов - синапсов. Это увеличивает разнообразие возможных состояний сети.</strong>\n",
        "\n",
        "<strong>Наблюдение из прошлого дз : чем больше нейронных связей, тем больше (до определённого предела) потребуется эпох, чтобы ИНС обучилась. Смотреть за переобучением можно с использованием <i>не рассмотренной на лекции</i> callback функции monitor. </strong> Реализовывать не стал - не успел.\n"
      ]
    },
    {
      "cell_type": "code",
      "metadata": {
        "id": "rpVDwJLl5ZJk"
      },
      "source": [
        ""
      ],
      "execution_count": null,
      "outputs": []
    },
    {
      "cell_type": "code",
      "metadata": {
        "id": "jwa4UfwMqWf9"
      },
      "source": [
        "# Количество слоёв выбиралось исходя из уменьшения вдвое числа входов\n",
        "model = keras.Sequential([\n",
        "    keras.layers.Flatten(input_shape=(28, 28)),\n",
        "    keras.layers.Dense(392, activation='relu'),\n",
        "    keras.layers.LayerNormalization(),\n",
        "    keras.layers.Dense(196, activation='relu'),\n",
        "    keras.layers.Dense(98, activation='relu'),\n",
        "    keras.layers.Dense(49, activation='relu'),\n",
        "    keras.layers.Dropout(0.15),\n",
        "    keras.layers.Dense(10)\n",
        "])"
      ],
      "execution_count": 12,
      "outputs": []
    },
    {
      "cell_type": "code",
      "metadata": {
        "colab": {
          "base_uri": "https://localhost:8080/"
        },
        "id": "r6ORlosuqhRH",
        "outputId": "e8d89f07-9d9f-4d68-c07d-25cb46ba230e"
      },
      "source": [
        "model.summary()"
      ],
      "execution_count": 13,
      "outputs": [
        {
          "output_type": "stream",
          "name": "stdout",
          "text": [
            "Model: \"sequential\"\n",
            "_________________________________________________________________\n",
            " Layer (type)                Output Shape              Param #   \n",
            "=================================================================\n",
            " flatten (Flatten)           (None, 784)               0         \n",
            "                                                                 \n",
            " dense (Dense)               (None, 392)               307720    \n",
            "                                                                 \n",
            " layer_normalization (LayerN  (None, 392)              784       \n",
            " ormalization)                                                   \n",
            "                                                                 \n",
            " dense_1 (Dense)             (None, 196)               77028     \n",
            "                                                                 \n",
            " dense_2 (Dense)             (None, 98)                19306     \n",
            "                                                                 \n",
            " dense_3 (Dense)             (None, 49)                4851      \n",
            "                                                                 \n",
            " dropout (Dropout)           (None, 49)                0         \n",
            "                                                                 \n",
            " dense_4 (Dense)             (None, 10)                500       \n",
            "                                                                 \n",
            "=================================================================\n",
            "Total params: 410,189\n",
            "Trainable params: 410,189\n",
            "Non-trainable params: 0\n",
            "_________________________________________________________________\n"
          ]
        }
      ]
    },
    {
      "cell_type": "code",
      "metadata": {
        "id": "rsUtChehqtS5"
      },
      "source": [
        "model.compile(optimizer='adam',\n",
        "              loss=tf.keras.losses.CategoricalCrossentropy(from_logits=True),\n",
        "              metrics=['accuracy'])"
      ],
      "execution_count": 14,
      "outputs": []
    },
    {
      "cell_type": "code",
      "metadata": {
        "colab": {
          "base_uri": "https://localhost:8080/"
        },
        "id": "0b9nkcU3qxwb",
        "outputId": "05b57b2d-75bd-42b4-f32d-78a8f4e42ed3"
      },
      "source": [
        "# Путём тестов выяснил, что аккуратность не растёт сильно после 32 эпохи\n",
        "model.fit(train_images, y_train_labels, epochs=32, batch_size=64)"
      ],
      "execution_count": 15,
      "outputs": [
        {
          "output_type": "stream",
          "name": "stdout",
          "text": [
            "Epoch 1/32\n",
            "938/938 [==============================] - 6s 4ms/step - loss: 0.5238 - accuracy: 0.8141\n",
            "Epoch 2/32\n",
            "938/938 [==============================] - 5s 5ms/step - loss: 0.3825 - accuracy: 0.8627\n",
            "Epoch 3/32\n",
            "938/938 [==============================] - 5s 6ms/step - loss: 0.3433 - accuracy: 0.8753\n",
            "Epoch 4/32\n",
            "938/938 [==============================] - 5s 6ms/step - loss: 0.3185 - accuracy: 0.8842\n",
            "Epoch 5/32\n",
            "938/938 [==============================] - 4s 5ms/step - loss: 0.3013 - accuracy: 0.8897\n",
            "Epoch 6/32\n",
            "938/938 [==============================] - 3s 4ms/step - loss: 0.2858 - accuracy: 0.8934\n",
            "Epoch 7/32\n",
            "938/938 [==============================] - 4s 4ms/step - loss: 0.2721 - accuracy: 0.8985\n",
            "Epoch 8/32\n",
            "938/938 [==============================] - 5s 5ms/step - loss: 0.2618 - accuracy: 0.9034\n",
            "Epoch 9/32\n",
            "938/938 [==============================] - 4s 4ms/step - loss: 0.2514 - accuracy: 0.9049\n",
            "Epoch 10/32\n",
            "938/938 [==============================] - 3s 4ms/step - loss: 0.2421 - accuracy: 0.9089\n",
            "Epoch 11/32\n",
            "938/938 [==============================] - 4s 4ms/step - loss: 0.2350 - accuracy: 0.9118\n",
            "Epoch 12/32\n",
            "938/938 [==============================] - 5s 5ms/step - loss: 0.2246 - accuracy: 0.9156\n",
            "Epoch 13/32\n",
            "938/938 [==============================] - 5s 5ms/step - loss: 0.2174 - accuracy: 0.9182\n",
            "Epoch 14/32\n",
            "938/938 [==============================] - 5s 5ms/step - loss: 0.2117 - accuracy: 0.9207\n",
            "Epoch 15/32\n",
            "938/938 [==============================] - 5s 6ms/step - loss: 0.2011 - accuracy: 0.9240\n",
            "Epoch 16/32\n",
            "938/938 [==============================] - 5s 5ms/step - loss: 0.1979 - accuracy: 0.9253\n",
            "Epoch 17/32\n",
            "938/938 [==============================] - 5s 6ms/step - loss: 0.1889 - accuracy: 0.9283\n",
            "Epoch 18/32\n",
            "938/938 [==============================] - 4s 5ms/step - loss: 0.1849 - accuracy: 0.9307\n",
            "Epoch 19/32\n",
            "938/938 [==============================] - 5s 5ms/step - loss: 0.1788 - accuracy: 0.9322\n",
            "Epoch 20/32\n",
            "938/938 [==============================] - 5s 5ms/step - loss: 0.1757 - accuracy: 0.9335\n",
            "Epoch 21/32\n",
            "938/938 [==============================] - 5s 5ms/step - loss: 0.1698 - accuracy: 0.9345\n",
            "Epoch 22/32\n",
            "938/938 [==============================] - 6s 6ms/step - loss: 0.1670 - accuracy: 0.9369\n",
            "Epoch 23/32\n",
            "938/938 [==============================] - 5s 6ms/step - loss: 0.1577 - accuracy: 0.9402\n",
            "Epoch 24/32\n",
            "938/938 [==============================] - 5s 5ms/step - loss: 0.1566 - accuracy: 0.9409\n",
            "Epoch 25/32\n",
            "938/938 [==============================] - 5s 5ms/step - loss: 0.1523 - accuracy: 0.9412\n",
            "Epoch 26/32\n",
            "938/938 [==============================] - 5s 5ms/step - loss: 0.1474 - accuracy: 0.9438\n",
            "Epoch 27/32\n",
            "938/938 [==============================] - 5s 5ms/step - loss: 0.1417 - accuracy: 0.9455\n",
            "Epoch 28/32\n",
            "938/938 [==============================] - 5s 5ms/step - loss: 0.1407 - accuracy: 0.9471\n",
            "Epoch 29/32\n",
            "938/938 [==============================] - 4s 4ms/step - loss: 0.1391 - accuracy: 0.9470\n",
            "Epoch 30/32\n",
            "938/938 [==============================] - 3s 4ms/step - loss: 0.1300 - accuracy: 0.9498\n",
            "Epoch 31/32\n",
            "938/938 [==============================] - 3s 4ms/step - loss: 0.1299 - accuracy: 0.9500\n",
            "Epoch 32/32\n",
            "938/938 [==============================] - 3s 4ms/step - loss: 0.1269 - accuracy: 0.9514\n"
          ]
        },
        {
          "output_type": "execute_result",
          "data": {
            "text/plain": [
              "<keras.callbacks.History at 0x7f427664fb90>"
            ]
          },
          "metadata": {},
          "execution_count": 15
        }
      ]
    },
    {
      "cell_type": "code",
      "metadata": {
        "colab": {
          "base_uri": "https://localhost:8080/"
        },
        "id": "46nX0L7Iq1bm",
        "outputId": "1ac3718b-71e1-4bf6-9b46-1e499492b494"
      },
      "source": [
        "# Добившись немного лучших показателей, чем на лекции, решил остановиться на этом варианте сети\n",
        "test_loss, test_acc = model.evaluate(test_images,  y_test_labels, verbose=2)\n",
        "\n",
        "print('\\nTest accuracy:', test_acc)"
      ],
      "execution_count": 16,
      "outputs": [
        {
          "output_type": "stream",
          "name": "stdout",
          "text": [
            "313/313 - 1s - loss: 0.4403 - accuracy: 0.8968 - 804ms/epoch - 3ms/step\n",
            "\n",
            "Test accuracy: 0.8967999815940857\n"
          ]
        }
      ]
    },
    {
      "cell_type": "code",
      "metadata": {
        "colab": {
          "base_uri": "https://localhost:8080/"
        },
        "id": "WPb4q7N3q1ea",
        "outputId": "331d922f-3122-4f9b-8f9e-35c4522153ee"
      },
      "source": [
        "y_p = model.predict(test_images[:1,:,:])\n",
        "y_p"
      ],
      "execution_count": 17,
      "outputs": [
        {
          "output_type": "execute_result",
          "data": {
            "text/plain": [
              "array([[-18.474373 , -22.490831 , -10.878454 , -16.836466 , -13.485521 ,\n",
              "          2.063386 , -20.92947  ,   4.9425817, -15.134223 ,  16.458357 ]],\n",
              "      dtype=float32)"
            ]
          },
          "metadata": {},
          "execution_count": 17
        }
      ]
    },
    {
      "cell_type": "code",
      "metadata": {
        "id": "7i0-vivRq7Fx"
      },
      "source": [
        ""
      ],
      "execution_count": null,
      "outputs": []
    },
    {
      "cell_type": "code",
      "metadata": {
        "id": "DnfNA0CrQLSD"
      },
      "source": [
        "probability_model = tf.keras.Sequential([model, \n",
        "                                         tf.keras.layers.Softmax()])"
      ],
      "execution_count": 18,
      "outputs": []
    },
    {
      "cell_type": "code",
      "metadata": {
        "id": "Gl91RPhdCaXI"
      },
      "source": [
        "predictions = probability_model.predict(test_images)"
      ],
      "execution_count": 19,
      "outputs": []
    },
    {
      "cell_type": "code",
      "metadata": {
        "id": "qsqenuPnCaXO",
        "colab": {
          "base_uri": "https://localhost:8080/"
        },
        "outputId": "1733637f-5afd-45f6-a135-1dac4ac955e0"
      },
      "source": [
        "np.argmax(predictions[0])"
      ],
      "execution_count": 20,
      "outputs": [
        {
          "output_type": "execute_result",
          "data": {
            "text/plain": [
              "9"
            ]
          },
          "metadata": {},
          "execution_count": 20
        }
      ]
    },
    {
      "cell_type": "code",
      "metadata": {
        "id": "Sd7Pgsu6CaXP",
        "colab": {
          "base_uri": "https://localhost:8080/"
        },
        "outputId": "45040c0d-001a-4728-a4d9-ddc37df5dab5"
      },
      "source": [
        "test_labels[0]"
      ],
      "execution_count": 21,
      "outputs": [
        {
          "output_type": "execute_result",
          "data": {
            "text/plain": [
              "9"
            ]
          },
          "metadata": {},
          "execution_count": 21
        }
      ]
    },
    {
      "cell_type": "code",
      "metadata": {
        "id": "DvYmmrpIy6Y1"
      },
      "source": [
        "def plot_image(i, predictions_array, true_label, img):\n",
        "  predictions_array, true_label, img = predictions_array, true_label[i], img[i]\n",
        "  plt.grid(False)\n",
        "  plt.xticks([])\n",
        "  plt.yticks([])\n",
        "\n",
        "  plt.imshow(img, cmap=plt.cm.binary)\n",
        "\n",
        "  predicted_label = np.argmax(predictions_array)\n",
        "  if predicted_label == true_label:\n",
        "    color = 'blue'\n",
        "  else:\n",
        "    color = 'red'\n",
        "\n",
        "  plt.xlabel(\"{} {:2.0f}% ({})\".format(class_names[predicted_label],\n",
        "                                100*np.max(predictions_array),\n",
        "                                class_names[true_label]),\n",
        "                                color=color)\n",
        "\n",
        "def plot_value_array(i, predictions_array, true_label):\n",
        "  predictions_array, true_label = predictions_array, true_label[i]\n",
        "  plt.grid(False)\n",
        "  plt.xticks(range(10))\n",
        "  plt.yticks([])\n",
        "  thisplot = plt.bar(range(10), predictions_array, color=\"#777777\")\n",
        "  plt.ylim([0, 1])\n",
        "  predicted_label = np.argmax(predictions_array)\n",
        "\n",
        "  thisplot[predicted_label].set_color('red')\n",
        "  thisplot[true_label].set_color('blue')"
      ],
      "execution_count": 22,
      "outputs": []
    },
    {
      "cell_type": "code",
      "metadata": {
        "id": "wE7E3vtorNG4"
      },
      "source": [
        ""
      ],
      "execution_count": null,
      "outputs": []
    },
    {
      "cell_type": "code",
      "metadata": {
        "id": "hQlnbqaw2Qu_",
        "colab": {
          "base_uri": "https://localhost:8080/",
          "height": 729
        },
        "outputId": "f4d6a553-6d5d-4c2b-a3e1-3a8c0c165891"
      },
      "source": [
        "\n",
        "num_rows = 5\n",
        "num_cols = 3\n",
        "num_images = num_rows*num_cols\n",
        "plt.figure(figsize=(2*2*num_cols, 2*num_rows))\n",
        "for i in range(num_images):\n",
        "  plt.subplot(num_rows, 2*num_cols, 2*i+1)\n",
        "  plot_image(i, predictions[i], test_labels, test_images)\n",
        "  plt.subplot(num_rows, 2*num_cols, 2*i+2)\n",
        "  plot_value_array(i, predictions[i], test_labels)\n",
        "plt.tight_layout()\n",
        "plt.show()"
      ],
      "execution_count": 23,
      "outputs": [
        {
          "output_type": "display_data",
          "data": {
            "text/plain": [
              "<Figure size 864x720 with 30 Axes>"
            ],
            "image/png": "[encoded data removed]"
          },
          "metadata": {
            "needs_background": "light"
          }
        }
      ]
    },
    {
      "cell_type": "markdown",
      "metadata": {
        "id": "wW8UQ8D57L79"
      },
      "source": [
        "#Теперь поработаем с тестами разных оптимизаторов для подобранной сети"
      ]
    },
    {
      "cell_type": "code",
      "metadata": {
        "id": "oxQowaYh_xlG"
      },
      "source": [
        "import pandas as pd\n",
        "from datetime import datetime\n",
        "from tensorflow.keras import initializers"
      ],
      "execution_count": 24,
      "outputs": []
    },
    {
      "cell_type": "code",
      "metadata": {
        "id": "TWOK1yUH_0bE"
      },
      "source": [
        "columns_1 = (\"adam\", \"sgd\", \"rmsprop\", \"adagrad\")\n",
        "models_loss = pd.DataFrame(columns=columns_1)\n",
        "models_acc = pd.DataFrame(columns=columns_1)"
      ],
      "execution_count": 25,
      "outputs": []
    },
    {
      "cell_type": "code",
      "metadata": {
        "id": "wCpHDydf7TTV"
      },
      "source": [
        "optimizers = [\"adam\", \"sgd\", \"rmsprop\", \"adagrad\"]"
      ],
      "execution_count": 26,
      "outputs": []
    },
    {
      "cell_type": "markdown",
      "metadata": {
        "id": "QOvkkJoXBgZj"
      },
      "source": [
        "## Выполняем эксперимент на определение лучшего оптимизатора\n",
        "Эксперимент будет выпоняться 15 раз с разными seed для усреднения при разных начальных состояниях. \n",
        "Записываем loss, acc.\n",
        "\n",
        "Далее результат будет усреднён и выбрана модель с наилучшей комбинацией loss-acc. Учитываться будут средние значения и дисперсии."
      ]
    },
    {
      "cell_type": "code",
      "metadata": {
        "id": "n5PKasrU7X8M",
        "colab": {
          "base_uri": "https://localhost:8080/"
        },
        "outputId": "d9fc99b3-4a1b-4b27-9e40-c2a9a8e8ed95"
      },
      "source": [
        "# Количество слоёв выбиралось исходя из уменьшения вдвое числа входов\n",
        "for i in range(1,16):\n",
        "  for opt in optimizers:\n",
        "    print(f\"Выполняется проход {i}, оптимизатор {opt}\")\n",
        "    model = keras.Sequential([\n",
        "        keras.layers.Flatten(input_shape=(28, 28)),\n",
        "        keras.layers.Dense(392, activation='relu',\n",
        "                           kernel_initializer=initializers.RandomNormal(mean=0.0, \n",
        "                                                                  stddev=0.15, \n",
        "                                      seed=int(datetime.now().timestamp()))),\n",
        "        keras.layers.Dense(196, activation='relu',\n",
        "                           kernel_initializer=initializers.RandomNormal(mean=0.0, \n",
        "                                                                  stddev=0.15, \n",
        "                                      seed=int(datetime.now().timestamp()))),\n",
        "        keras.layers.LayerNormalization(),                      \n",
        "        keras.layers.Dense(98, activation='relu',\n",
        "                           kernel_initializer=initializers.RandomNormal(mean=0.0, \n",
        "                                                                  stddev=0.15, \n",
        "                                      seed=int(datetime.now().timestamp()))),\n",
        "        keras.layers.Dense(49, activation='relu',\n",
        "                           kernel_initializer=initializers.RandomNormal(mean=0.0, \n",
        "                                                                  stddev=0.15, \n",
        "                                      seed=int(datetime.now().timestamp()))),\n",
        "        keras.layers.Dropout(0.15),\n",
        "        keras.layers.Dense(10,\n",
        "                           kernel_initializer=initializers.RandomNormal(mean=0.0, \n",
        "                                                                  stddev=0.15, \n",
        "                                      seed=int(datetime.now().timestamp())))\n",
        "    ])\n",
        "\n",
        "    model.compile(optimizer=opt,\n",
        "                  loss=tf.keras.losses.CategoricalCrossentropy(from_logits=True),\n",
        "                  metrics=['accuracy'])\n",
        "\n",
        "    model.fit(train_images, y_train_labels, epochs=32, batch_size=64, verbose=0)\n",
        "\n",
        "    test_loss, test_acc = model.evaluate(test_images,  y_test_labels, verbose=2)\n",
        "    models_loss.loc[i, opt] = test_loss\n",
        "    models_acc.loc[i, opt] = test_acc"
      ],
      "execution_count": 27,
      "outputs": [
        {
          "output_type": "stream",
          "name": "stdout",
          "text": [
            "Выполняется проход 1, оптимизатор adam\n",
            "313/313 - 1s - loss: 0.4483 - accuracy: 0.8929 - 1s/epoch - 4ms/step\n",
            "Выполняется проход 1, оптимизатор sgd\n",
            "313/313 - 1s - loss: 0.3916 - accuracy: 0.8650 - 798ms/epoch - 3ms/step\n",
            "Выполняется проход 1, оптимизатор rmsprop\n",
            "313/313 - 1s - loss: 0.6081 - accuracy: 0.8710 - 784ms/epoch - 3ms/step\n",
            "Выполняется проход 1, оптимизатор adagrad\n",
            "313/313 - 1s - loss: 0.4295 - accuracy: 0.8485 - 798ms/epoch - 3ms/step\n",
            "Выполняется проход 2, оптимизатор adam\n",
            "313/313 - 1s - loss: 0.3922 - accuracy: 0.8927 - 772ms/epoch - 2ms/step\n",
            "Выполняется проход 2, оптимизатор sgd\n",
            "313/313 - 1s - loss: 0.3621 - accuracy: 0.8706 - 779ms/epoch - 2ms/step\n",
            "Выполняется проход 2, оптимизатор rmsprop\n",
            "313/313 - 1s - loss: 0.5542 - accuracy: 0.8790 - 788ms/epoch - 3ms/step\n",
            "Выполняется проход 2, оптимизатор adagrad\n",
            "313/313 - 1s - loss: 0.4282 - accuracy: 0.8489 - 800ms/epoch - 3ms/step\n",
            "Выполняется проход 3, оптимизатор adam\n",
            "313/313 - 1s - loss: 0.4744 - accuracy: 0.8896 - 799ms/epoch - 3ms/step\n",
            "Выполняется проход 3, оптимизатор sgd\n",
            "313/313 - 1s - loss: 0.3732 - accuracy: 0.8698 - 803ms/epoch - 3ms/step\n",
            "Выполняется проход 3, оптимизатор rmsprop\n",
            "313/313 - 1s - loss: 0.5179 - accuracy: 0.8904 - 778ms/epoch - 2ms/step\n",
            "Выполняется проход 3, оптимизатор adagrad\n",
            "313/313 - 1s - loss: 0.4277 - accuracy: 0.8494 - 788ms/epoch - 3ms/step\n",
            "Выполняется проход 4, оптимизатор adam\n",
            "313/313 - 1s - loss: 0.4193 - accuracy: 0.8910 - 779ms/epoch - 2ms/step\n",
            "Выполняется проход 4, оптимизатор sgd\n",
            "313/313 - 1s - loss: 0.3621 - accuracy: 0.8719 - 781ms/epoch - 2ms/step\n",
            "Выполняется проход 4, оптимизатор rmsprop\n",
            "313/313 - 1s - loss: 0.5263 - accuracy: 0.8775 - 773ms/epoch - 2ms/step\n",
            "Выполняется проход 4, оптимизатор adagrad\n",
            "313/313 - 1s - loss: 0.4296 - accuracy: 0.8464 - 773ms/epoch - 2ms/step\n",
            "Выполняется проход 5, оптимизатор adam\n",
            "313/313 - 1s - loss: 0.4143 - accuracy: 0.8974 - 763ms/epoch - 2ms/step\n",
            "Выполняется проход 5, оптимизатор sgd\n",
            "313/313 - 1s - loss: 0.3674 - accuracy: 0.8657 - 777ms/epoch - 2ms/step\n",
            "Выполняется проход 5, оптимизатор rmsprop\n",
            "313/313 - 1s - loss: 0.5084 - accuracy: 0.8783 - 805ms/epoch - 3ms/step\n",
            "Выполняется проход 5, оптимизатор adagrad\n",
            "313/313 - 1s - loss: 0.4287 - accuracy: 0.8490 - 783ms/epoch - 3ms/step\n",
            "Выполняется проход 6, оптимизатор adam\n",
            "313/313 - 1s - loss: 0.4060 - accuracy: 0.8903 - 751ms/epoch - 2ms/step\n",
            "Выполняется проход 6, оптимизатор sgd\n",
            "313/313 - 1s - loss: 0.3561 - accuracy: 0.8746 - 752ms/epoch - 2ms/step\n",
            "Выполняется проход 6, оптимизатор rmsprop\n",
            "313/313 - 1s - loss: 0.6417 - accuracy: 0.8817 - 773ms/epoch - 2ms/step\n",
            "Выполняется проход 6, оптимизатор adagrad\n",
            "313/313 - 1s - loss: 0.4296 - accuracy: 0.8446 - 771ms/epoch - 2ms/step\n",
            "Выполняется проход 7, оптимизатор adam\n",
            "313/313 - 1s - loss: 0.4112 - accuracy: 0.8934 - 757ms/epoch - 2ms/step\n",
            "Выполняется проход 7, оптимизатор sgd\n",
            "313/313 - 1s - loss: 0.3525 - accuracy: 0.8732 - 785ms/epoch - 3ms/step\n",
            "Выполняется проход 7, оптимизатор rmsprop\n",
            "313/313 - 1s - loss: 0.4845 - accuracy: 0.8908 - 802ms/epoch - 3ms/step\n",
            "Выполняется проход 7, оптимизатор adagrad\n",
            "313/313 - 1s - loss: 0.4323 - accuracy: 0.8443 - 766ms/epoch - 2ms/step\n",
            "Выполняется проход 8, оптимизатор adam\n",
            "313/313 - 1s - loss: 0.4010 - accuracy: 0.8966 - 771ms/epoch - 2ms/step\n",
            "Выполняется проход 8, оптимизатор sgd\n",
            "313/313 - 1s - loss: 0.3719 - accuracy: 0.8686 - 769ms/epoch - 2ms/step\n",
            "Выполняется проход 8, оптимизатор rmsprop\n",
            "313/313 - 1s - loss: 0.5910 - accuracy: 0.8855 - 771ms/epoch - 2ms/step\n",
            "Выполняется проход 8, оптимизатор adagrad\n",
            "313/313 - 1s - loss: 0.4377 - accuracy: 0.8427 - 743ms/epoch - 2ms/step\n",
            "Выполняется проход 9, оптимизатор adam\n",
            "313/313 - 1s - loss: 0.4415 - accuracy: 0.8900 - 768ms/epoch - 2ms/step\n",
            "Выполняется проход 9, оптимизатор sgd\n",
            "313/313 - 1s - loss: 0.3685 - accuracy: 0.8684 - 783ms/epoch - 3ms/step\n",
            "Выполняется проход 9, оптимизатор rmsprop\n",
            "313/313 - 1s - loss: 0.5906 - accuracy: 0.8701 - 775ms/epoch - 2ms/step\n",
            "Выполняется проход 9, оптимизатор adagrad\n",
            "313/313 - 1s - loss: 0.4259 - accuracy: 0.8453 - 1s/epoch - 4ms/step\n",
            "Выполняется проход 10, оптимизатор adam\n",
            "313/313 - 1s - loss: 0.4475 - accuracy: 0.8879 - 769ms/epoch - 2ms/step\n",
            "Выполняется проход 10, оптимизатор sgd\n",
            "313/313 - 1s - loss: 0.3725 - accuracy: 0.8670 - 800ms/epoch - 3ms/step\n",
            "Выполняется проход 10, оптимизатор rmsprop\n",
            "313/313 - 1s - loss: 0.7191 - accuracy: 0.8575 - 788ms/epoch - 3ms/step\n",
            "Выполняется проход 10, оптимизатор adagrad\n",
            "313/313 - 1s - loss: 0.4399 - accuracy: 0.8395 - 772ms/epoch - 2ms/step\n",
            "Выполняется проход 11, оптимизатор adam\n",
            "313/313 - 1s - loss: 0.4262 - accuracy: 0.8940 - 786ms/epoch - 3ms/step\n",
            "Выполняется проход 11, оптимизатор sgd\n",
            "313/313 - 1s - loss: 0.3683 - accuracy: 0.8695 - 760ms/epoch - 2ms/step\n",
            "Выполняется проход 11, оптимизатор rmsprop\n",
            "313/313 - 1s - loss: 0.5762 - accuracy: 0.8796 - 771ms/epoch - 2ms/step\n",
            "Выполняется проход 11, оптимизатор adagrad\n",
            "313/313 - 1s - loss: 0.4236 - accuracy: 0.8513 - 774ms/epoch - 2ms/step\n",
            "Выполняется проход 12, оптимизатор adam\n",
            "313/313 - 1s - loss: 0.3972 - accuracy: 0.8982 - 767ms/epoch - 2ms/step\n",
            "Выполняется проход 12, оптимизатор sgd\n",
            "313/313 - 1s - loss: 0.3627 - accuracy: 0.8729 - 786ms/epoch - 3ms/step\n",
            "Выполняется проход 12, оптимизатор rmsprop\n",
            "313/313 - 1s - loss: 0.5667 - accuracy: 0.8905 - 771ms/epoch - 2ms/step\n",
            "Выполняется проход 12, оптимизатор adagrad\n",
            "313/313 - 1s - loss: 0.4302 - accuracy: 0.8438 - 779ms/epoch - 2ms/step\n",
            "Выполняется проход 13, оптимизатор adam\n",
            "313/313 - 1s - loss: 0.4404 - accuracy: 0.8943 - 754ms/epoch - 2ms/step\n",
            "Выполняется проход 13, оптимизатор sgd\n",
            "313/313 - 1s - loss: 0.3698 - accuracy: 0.8680 - 743ms/epoch - 2ms/step\n",
            "Выполняется проход 13, оптимизатор rmsprop\n",
            "313/313 - 1s - loss: 0.5707 - accuracy: 0.8760 - 774ms/epoch - 2ms/step\n",
            "Выполняется проход 13, оптимизатор adagrad\n",
            "313/313 - 1s - loss: 0.4276 - accuracy: 0.8472 - 770ms/epoch - 2ms/step\n",
            "Выполняется проход 14, оптимизатор adam\n",
            "313/313 - 1s - loss: 0.4259 - accuracy: 0.8947 - 785ms/epoch - 3ms/step\n",
            "Выполняется проход 14, оптимизатор sgd\n",
            "313/313 - 1s - loss: 0.3667 - accuracy: 0.8745 - 771ms/epoch - 2ms/step\n",
            "Выполняется проход 14, оптимизатор rmsprop\n",
            "313/313 - 1s - loss: 0.5559 - accuracy: 0.8770 - 776ms/epoch - 2ms/step\n",
            "Выполняется проход 14, оптимизатор adagrad\n",
            "313/313 - 1s - loss: 0.4310 - accuracy: 0.8455 - 792ms/epoch - 3ms/step\n",
            "Выполняется проход 15, оптимизатор adam\n",
            "313/313 - 1s - loss: 0.4146 - accuracy: 0.8931 - 776ms/epoch - 2ms/step\n",
            "Выполняется проход 15, оптимизатор sgd\n",
            "313/313 - 1s - loss: 0.3564 - accuracy: 0.8728 - 774ms/epoch - 2ms/step\n",
            "Выполняется проход 15, оптимизатор rmsprop\n",
            "313/313 - 1s - loss: 0.4637 - accuracy: 0.8892 - 778ms/epoch - 2ms/step\n",
            "Выполняется проход 15, оптимизатор adagrad\n",
            "313/313 - 1s - loss: 0.4297 - accuracy: 0.8467 - 792ms/epoch - 3ms/step\n"
          ]
        }
      ]
    },
    {
      "cell_type": "code",
      "metadata": {
        "colab": {
          "base_uri": "https://localhost:8080/",
          "height": 300
        },
        "id": "U7r7cgscCOJc",
        "outputId": "3391f460-afae-4976-c9be-1257c24483a9"
      },
      "source": [
        "models_loss.astype(np.float64).describe()\n"
      ],
      "execution_count": 28,
      "outputs": [
        {
          "output_type": "execute_result",
          "data": {
            "text/plain": [
              "            adam        sgd    rmsprop    adagrad\n",
              "count  15.000000  15.000000  15.000000  15.000000\n",
              "mean    0.424011   0.366776   0.565012   0.430075\n",
              "std     0.022704   0.009339   0.063722   0.004130\n",
              "min     0.392230   0.352472   0.463690   0.423553\n",
              "25%     0.408602   0.362104   0.522091   0.427932\n",
              "50%     0.419294   0.367353   0.566726   0.429560\n",
              "75%     0.440967   0.370855   0.590798   0.430601\n",
              "max     0.474427   0.391631   0.719102   0.439911"
            ],
            "text/html": [
              "\n",
              "  <div id=\"df-4306f3bb-c6cb-4f4f-9a63-ed74362a3a3b\">\n",
              "    <div class=\"colab-df-container\">\n",
              "      <div>\n",
              "<style scoped>\n",
              "    .dataframe tbody tr th:only-of-type {\n",
              "        vertical-align: middle;\n",
              "    }\n",
              "\n",
              "    .dataframe tbody tr th {\n",
              "        vertical-align: top;\n",
              "    }\n",
              "\n",
              "    .dataframe thead th {\n",
              "        text-align: right;\n",
              "    }\n",
              "</style>\n",
              "<table border=\"1\" class=\"dataframe\">\n",
              "  <thead>\n",
              "    <tr style=\"text-align: right;\">\n",
              "      <th></th>\n",
              "      <th>adam</th>\n",
              "      <th>sgd</th>\n",
              "      <th>rmsprop</th>\n",
              "      <th>adagrad</th>\n",
              "    </tr>\n",
              "  </thead>\n",
              "  <tbody>\n",
              "    <tr>\n",
              "      <th>count</th>\n",
              "      <td>15.000000</td>\n",
              "      <td>15.000000</td>\n",
              "      <td>15.000000</td>\n",
              "      <td>15.000000</td>\n",
              "    </tr>\n",
              "    <tr>\n",
              "      <th>mean</th>\n",
              "      <td>0.424011</td>\n",
              "      <td>0.366776</td>\n",
              "      <td>0.565012</td>\n",
              "      <td>0.430075</td>\n",
              "    </tr>\n",
              "    <tr>\n",
              "      <th>std</th>\n",
              "      <td>0.022704</td>\n",
              "      <td>0.009339</td>\n",
              "      <td>0.063722</td>\n",
              "      <td>0.004130</td>\n",
              "    </tr>\n",
              "    <tr>\n",
              "      <th>min</th>\n",
              "      <td>0.392230</td>\n",
              "      <td>0.352472</td>\n",
              "      <td>0.463690</td>\n",
              "      <td>0.423553</td>\n",
              "    </tr>\n",
              "    <tr>\n",
              "      <th>25%</th>\n",
              "      <td>0.408602</td>\n",
              "      <td>0.362104</td>\n",
              "      <td>0.522091</td>\n",
              "      <td>0.427932</td>\n",
              "    </tr>\n",
              "    <tr>\n",
              "      <th>50%</th>\n",
              "      <td>0.419294</td>\n",
              "      <td>0.367353</td>\n",
              "      <td>0.566726</td>\n",
              "      <td>0.429560</td>\n",
              "    </tr>\n",
              "    <tr>\n",
              "      <th>75%</th>\n",
              "      <td>0.440967</td>\n",
              "      <td>0.370855</td>\n",
              "      <td>0.590798</td>\n",
              "      <td>0.430601</td>\n",
              "    </tr>\n",
              "    <tr>\n",
              "      <th>max</th>\n",
              "      <td>0.474427</td>\n",
              "      <td>0.391631</td>\n",
              "      <td>0.719102</td>\n",
              "      <td>0.439911</td>\n",
              "    </tr>\n",
              "  </tbody>\n",
              "</table>\n",
              "</div>\n",
              "      <button class=\"colab-df-convert\" onclick=\"convertToInteractive('df-4306f3bb-c6cb-4f4f-9a63-ed74362a3a3b')\"\n",
              "              title=\"Convert this dataframe to an interactive table.\"\n",
              "              style=\"display:none;\">\n",
              "        \n",
              "  <svg xmlns=\"http://www.w3.org/2000/svg\" height=\"24px\"viewBox=\"0 0 24 24\"\n",
              "       width=\"24px\">\n",
              "    <path d=\"M0 0h24v24H0V0z\" fill=\"none\"/>\n",
              "    <path d=\"M18.56 5.44l.94 2.06.94-2.06 2.06-.94-2.06-.94-.94-2.06-.94 2.06-2.06.94zm-11 1L8.5 8.5l.94-2.06 2.06-.94-2.06-.94L8.5 2.5l-.94 2.06-2.06.94zm10 10l.94 2.06.94-2.06 2.06-.94-2.06-.94-.94-2.06-.94 2.06-2.06.94z\"/><path d=\"M17.41 7.96l-1.37-1.37c-.4-.4-.92-.59-1.43-.59-.52 0-1.04.2-1.43.59L10.3 9.45l-7.72 7.72c-.78.78-.78 2.05 0 2.83L4 21.41c.39.39.9.59 1.41.59.51 0 1.02-.2 1.41-.59l7.78-7.78 2.81-2.81c.8-.78.8-2.07 0-2.86zM5.41 20L4 18.59l7.72-7.72 1.47 1.35L5.41 20z\"/>\n",
              "  </svg>\n",
              "      </button>\n",
              "      \n",
              "  <style>\n",
              "    .colab-df-container {\n",
              "      display:flex;\n",
              "      flex-wrap:wrap;\n",
              "      gap: 12px;\n",
              "    }\n",
              "\n",
              "    .colab-df-convert {\n",
              "      background-color: #E8F0FE;\n",
              "      border: none;\n",
              "      border-radius: 50%;\n",
              "      cursor: pointer;\n",
              "      display: none;\n",
              "      fill: #1967D2;\n",
              "      height: 32px;\n",
              "      padding: 0 0 0 0;\n",
              "      width: 32px;\n",
              "    }\n",
              "\n",
              "    .colab-df-convert:hover {\n",
              "      background-color: #E2EBFA;\n",
              "      box-shadow: 0px 1px 2px rgba(60, 64, 67, 0.3), 0px 1px 3px 1px rgba(60, 64, 67, 0.15);\n",
              "      fill: #174EA6;\n",
              "    }\n",
              "\n",
              "    [theme=dark] .colab-df-convert {\n",
              "      background-color: #3B4455;\n",
              "      fill: #D2E3FC;\n",
              "    }\n",
              "\n",
              "    [theme=dark] .colab-df-convert:hover {\n",
              "      background-color: #434B5C;\n",
              "      box-shadow: 0px 1px 3px 1px rgba(0, 0, 0, 0.15);\n",
              "      filter: drop-shadow(0px 1px 2px rgba(0, 0, 0, 0.3));\n",
              "      fill: #FFFFFF;\n",
              "    }\n",
              "  </style>\n",
              "\n",
              "      <script>\n",
              "        const buttonEl =\n",
              "          document.querySelector('#df-4306f3bb-c6cb-4f4f-9a63-ed74362a3a3b button.colab-df-convert');\n",
              "        buttonEl.style.display =\n",
              "          google.colab.kernel.accessAllowed ? 'block' : 'none';\n",
              "\n",
              "        async function convertToInteractive(key) {\n",
              "          const element = document.querySelector('#df-4306f3bb-c6cb-4f4f-9a63-ed74362a3a3b');\n",
              "          const dataTable =\n",
              "            await google.colab.kernel.invokeFunction('convertToInteractive',\n",
              "                                                     [key], {});\n",
              "          if (!dataTable) return;\n",
              "\n",
              "          const docLinkHtml = 'Like what you see? Visit the ' +\n",
              "            '<a target=\"_blank\" href=https://colab.research.google.com/notebooks/data_table.ipynb>data table notebook</a>'\n",
              "            + ' to learn more about interactive tables.';\n",
              "          element.innerHTML = '';\n",
              "          dataTable['output_type'] = 'display_data';\n",
              "          await google.colab.output.renderOutput(dataTable, element);\n",
              "          const docLink = document.createElement('div');\n",
              "          docLink.innerHTML = docLinkHtml;\n",
              "          element.appendChild(docLink);\n",
              "        }\n",
              "      </script>\n",
              "    </div>\n",
              "  </div>\n",
              "  "
            ]
          },
          "metadata": {},
          "execution_count": 28
        }
      ]
    },
    {
      "cell_type": "code",
      "metadata": {
        "colab": {
          "base_uri": "https://localhost:8080/",
          "height": 300
        },
        "id": "oUguQZzN7X8P",
        "outputId": "7c104d4d-30b1-4320-958c-1253f38d07fa"
      },
      "source": [
        "models_acc.astype(np.float64).describe()"
      ],
      "execution_count": 29,
      "outputs": [
        {
          "output_type": "execute_result",
          "data": {
            "text/plain": [
              "            adam        sgd    rmsprop    adagrad\n",
              "count  15.000000  15.000000  15.000000  15.000000\n",
              "mean    0.893073   0.870167   0.879607   0.846207\n",
              "std     0.002964   0.003079   0.009146   0.003028\n",
              "min     0.887900   0.865000   0.857500   0.839500\n",
              "25%     0.890650   0.868200   0.876500   0.844450\n",
              "50%     0.893100   0.869800   0.879000   0.846400\n",
              "75%     0.894500   0.872850   0.887350   0.848700\n",
              "max     0.898200   0.874600   0.890800   0.851300"
            ],
            "text/html": [
              "\n",
              "  <div id=\"df-2647dbf6-a71e-4fe6-9c16-dea03b31a00b\">\n",
              "    <div class=\"colab-df-container\">\n",
              "      <div>\n",
              "<style scoped>\n",
              "    .dataframe tbody tr th:only-of-type {\n",
              "        vertical-align: middle;\n",
              "    }\n",
              "\n",
              "    .dataframe tbody tr th {\n",
              "        vertical-align: top;\n",
              "    }\n",
              "\n",
              "    .dataframe thead th {\n",
              "        text-align: right;\n",
              "    }\n",
              "</style>\n",
              "<table border=\"1\" class=\"dataframe\">\n",
              "  <thead>\n",
              "    <tr style=\"text-align: right;\">\n",
              "      <th></th>\n",
              "      <th>adam</th>\n",
              "      <th>sgd</th>\n",
              "      <th>rmsprop</th>\n",
              "      <th>adagrad</th>\n",
              "    </tr>\n",
              "  </thead>\n",
              "  <tbody>\n",
              "    <tr>\n",
              "      <th>count</th>\n",
              "      <td>15.000000</td>\n",
              "      <td>15.000000</td>\n",
              "      <td>15.000000</td>\n",
              "      <td>15.000000</td>\n",
              "    </tr>\n",
              "    <tr>\n",
              "      <th>mean</th>\n",
              "      <td>0.893073</td>\n",
              "      <td>0.870167</td>\n",
              "      <td>0.879607</td>\n",
              "      <td>0.846207</td>\n",
              "    </tr>\n",
              "    <tr>\n",
              "      <th>std</th>\n",
              "      <td>0.002964</td>\n",
              "      <td>0.003079</td>\n",
              "      <td>0.009146</td>\n",
              "      <td>0.003028</td>\n",
              "    </tr>\n",
              "    <tr>\n",
              "      <th>min</th>\n",
              "      <td>0.887900</td>\n",
              "      <td>0.865000</td>\n",
              "      <td>0.857500</td>\n",
              "      <td>0.839500</td>\n",
              "    </tr>\n",
              "    <tr>\n",
              "      <th>25%</th>\n",
              "      <td>0.890650</td>\n",
              "      <td>0.868200</td>\n",
              "      <td>0.876500</td>\n",
              "      <td>0.844450</td>\n",
              "    </tr>\n",
              "    <tr>\n",
              "      <th>50%</th>\n",
              "      <td>0.893100</td>\n",
              "      <td>0.869800</td>\n",
              "      <td>0.879000</td>\n",
              "      <td>0.846400</td>\n",
              "    </tr>\n",
              "    <tr>\n",
              "      <th>75%</th>\n",
              "      <td>0.894500</td>\n",
              "      <td>0.872850</td>\n",
              "      <td>0.887350</td>\n",
              "      <td>0.848700</td>\n",
              "    </tr>\n",
              "    <tr>\n",
              "      <th>max</th>\n",
              "      <td>0.898200</td>\n",
              "      <td>0.874600</td>\n",
              "      <td>0.890800</td>\n",
              "      <td>0.851300</td>\n",
              "    </tr>\n",
              "  </tbody>\n",
              "</table>\n",
              "</div>\n",
              "      <button class=\"colab-df-convert\" onclick=\"convertToInteractive('df-2647dbf6-a71e-4fe6-9c16-dea03b31a00b')\"\n",
              "              title=\"Convert this dataframe to an interactive table.\"\n",
              "              style=\"display:none;\">\n",
              "        \n",
              "  <svg xmlns=\"http://www.w3.org/2000/svg\" height=\"24px\"viewBox=\"0 0 24 24\"\n",
              "       width=\"24px\">\n",
              "    <path d=\"M0 0h24v24H0V0z\" fill=\"none\"/>\n",
              "    <path d=\"M18.56 5.44l.94 2.06.94-2.06 2.06-.94-2.06-.94-.94-2.06-.94 2.06-2.06.94zm-11 1L8.5 8.5l.94-2.06 2.06-.94-2.06-.94L8.5 2.5l-.94 2.06-2.06.94zm10 10l.94 2.06.94-2.06 2.06-.94-2.06-.94-.94-2.06-.94 2.06-2.06.94z\"/><path d=\"M17.41 7.96l-1.37-1.37c-.4-.4-.92-.59-1.43-.59-.52 0-1.04.2-1.43.59L10.3 9.45l-7.72 7.72c-.78.78-.78 2.05 0 2.83L4 21.41c.39.39.9.59 1.41.59.51 0 1.02-.2 1.41-.59l7.78-7.78 2.81-2.81c.8-.78.8-2.07 0-2.86zM5.41 20L4 18.59l7.72-7.72 1.47 1.35L5.41 20z\"/>\n",
              "  </svg>\n",
              "      </button>\n",
              "      \n",
              "  <style>\n",
              "    .colab-df-container {\n",
              "      display:flex;\n",
              "      flex-wrap:wrap;\n",
              "      gap: 12px;\n",
              "    }\n",
              "\n",
              "    .colab-df-convert {\n",
              "      background-color: #E8F0FE;\n",
              "      border: none;\n",
              "      border-radius: 50%;\n",
              "      cursor: pointer;\n",
              "      display: none;\n",
              "      fill: #1967D2;\n",
              "      height: 32px;\n",
              "      padding: 0 0 0 0;\n",
              "      width: 32px;\n",
              "    }\n",
              "\n",
              "    .colab-df-convert:hover {\n",
              "      background-color: #E2EBFA;\n",
              "      box-shadow: 0px 1px 2px rgba(60, 64, 67, 0.3), 0px 1px 3px 1px rgba(60, 64, 67, 0.15);\n",
              "      fill: #174EA6;\n",
              "    }\n",
              "\n",
              "    [theme=dark] .colab-df-convert {\n",
              "      background-color: #3B4455;\n",
              "      fill: #D2E3FC;\n",
              "    }\n",
              "\n",
              "    [theme=dark] .colab-df-convert:hover {\n",
              "      background-color: #434B5C;\n",
              "      box-shadow: 0px 1px 3px 1px rgba(0, 0, 0, 0.15);\n",
              "      filter: drop-shadow(0px 1px 2px rgba(0, 0, 0, 0.3));\n",
              "      fill: #FFFFFF;\n",
              "    }\n",
              "  </style>\n",
              "\n",
              "      <script>\n",
              "        const buttonEl =\n",
              "          document.querySelector('#df-2647dbf6-a71e-4fe6-9c16-dea03b31a00b button.colab-df-convert');\n",
              "        buttonEl.style.display =\n",
              "          google.colab.kernel.accessAllowed ? 'block' : 'none';\n",
              "\n",
              "        async function convertToInteractive(key) {\n",
              "          const element = document.querySelector('#df-2647dbf6-a71e-4fe6-9c16-dea03b31a00b');\n",
              "          const dataTable =\n",
              "            await google.colab.kernel.invokeFunction('convertToInteractive',\n",
              "                                                     [key], {});\n",
              "          if (!dataTable) return;\n",
              "\n",
              "          const docLinkHtml = 'Like what you see? Visit the ' +\n",
              "            '<a target=\"_blank\" href=https://colab.research.google.com/notebooks/data_table.ipynb>data table notebook</a>'\n",
              "            + ' to learn more about interactive tables.';\n",
              "          element.innerHTML = '';\n",
              "          dataTable['output_type'] = 'display_data';\n",
              "          await google.colab.output.renderOutput(dataTable, element);\n",
              "          const docLink = document.createElement('div');\n",
              "          docLink.innerHTML = docLinkHtml;\n",
              "          element.appendChild(docLink);\n",
              "        }\n",
              "      </script>\n",
              "    </div>\n",
              "  </div>\n",
              "  "
            ]
          },
          "metadata": {},
          "execution_count": 29
        }
      ]
    },
    {
      "cell_type": "markdown",
      "metadata": {
        "id": "kvveu6BiIUzT"
      },
      "source": [
        "По совокупности факторов (самая лучшая accuracy и самый низкий разброс accuracy) лучшим оптимизатором для этой сети выходит adam.\n",
        "следующие эксперименты будут использовать этот оптимизатор, кроме эксперимента с разными функциями потерь\n",
        "\n",
        "<strong>Наблюдение 2: У Adam самый высокий разброс loss, но низкий разброс Accuracy значений. Возможно, следовало выбрать adagrad, т.к. высокий разброс может говорить о низкой стабильности сети - при разных начальных условиях получаем разные результаты. </strong>"
      ]
    },
    {
      "cell_type": "code",
      "metadata": {
        "id": "i2aYNsUJ7X8Q"
      },
      "source": [
        ""
      ],
      "execution_count": null,
      "outputs": []
    },
    {
      "cell_type": "markdown",
      "metadata": {
        "id": "qvW51qr7eBMD"
      },
      "source": [
        "#Выполняем эксперимент на выявление лучшей структуры ИНС\n",
        "\n",
        "Текущую модель примем за базовую и выполним проверку с моделями, у которых:\n",
        "1. Добавлены два слоя на перед первым (392*4,392*2)\n",
        "2. Добавлен слой перед первым (392*2)\n",
        "3. Убран первый слой \n",
        "4. Убран первый и второй слои\n"
      ]
    },
    {
      "cell_type": "markdown",
      "metadata": {
        "id": "Flmoq19LeUp1"
      },
      "source": [
        "Примечание: после тестового запуска решил увеличить число эпох для х4 до 23, для х2 до 20. Для х0,25 уменьшить до 15"
      ]
    },
    {
      "cell_type": "code",
      "metadata": {
        "id": "JRxcbfDheb_d"
      },
      "source": [
        "columns_2 = (\"x4\", \"x2\", \"baseline\", \"x0.5\", \"x0.25\")\n",
        "models_loss = pd.DataFrame(columns=columns_2)\n",
        "models_acc = pd.DataFrame(columns=columns_2)"
      ],
      "execution_count": 30,
      "outputs": []
    },
    {
      "cell_type": "code",
      "metadata": {
        "colab": {
          "base_uri": "https://localhost:8080/",
          "height": 49
        },
        "id": "Y7cA4309kCQi",
        "outputId": "05b81983-8523-4ab8-9ada-7eda5d6d4494"
      },
      "source": [
        "models_acc"
      ],
      "execution_count": 31,
      "outputs": [
        {
          "output_type": "execute_result",
          "data": {
            "text/plain": [
              "Empty DataFrame\n",
              "Columns: [x4, x2, baseline, x0.5, x0.25]\n",
              "Index: []"
            ],
            "text/html": [
              "\n",
              "  <div id=\"df-733b346d-d8a8-4422-96e3-2ad2012e17e0\">\n",
              "    <div class=\"colab-df-container\">\n",
              "      <div>\n",
              "<style scoped>\n",
              "    .dataframe tbody tr th:only-of-type {\n",
              "        vertical-align: middle;\n",
              "    }\n",
              "\n",
              "    .dataframe tbody tr th {\n",
              "        vertical-align: top;\n",
              "    }\n",
              "\n",
              "    .dataframe thead th {\n",
              "        text-align: right;\n",
              "    }\n",
              "</style>\n",
              "<table border=\"1\" class=\"dataframe\">\n",
              "  <thead>\n",
              "    <tr style=\"text-align: right;\">\n",
              "      <th></th>\n",
              "      <th>x4</th>\n",
              "      <th>x2</th>\n",
              "      <th>baseline</th>\n",
              "      <th>x0.5</th>\n",
              "      <th>x0.25</th>\n",
              "    </tr>\n",
              "  </thead>\n",
              "  <tbody>\n",
              "  </tbody>\n",
              "</table>\n",
              "</div>\n",
              "      <button class=\"colab-df-convert\" onclick=\"convertToInteractive('df-733b346d-d8a8-4422-96e3-2ad2012e17e0')\"\n",
              "              title=\"Convert this dataframe to an interactive table.\"\n",
              "              style=\"display:none;\">\n",
              "        \n",
              "  <svg xmlns=\"http://www.w3.org/2000/svg\" height=\"24px\"viewBox=\"0 0 24 24\"\n",
              "       width=\"24px\">\n",
              "    <path d=\"M0 0h24v24H0V0z\" fill=\"none\"/>\n",
              "    <path d=\"M18.56 5.44l.94 2.06.94-2.06 2.06-.94-2.06-.94-.94-2.06-.94 2.06-2.06.94zm-11 1L8.5 8.5l.94-2.06 2.06-.94-2.06-.94L8.5 2.5l-.94 2.06-2.06.94zm10 10l.94 2.06.94-2.06 2.06-.94-2.06-.94-.94-2.06-.94 2.06-2.06.94z\"/><path d=\"M17.41 7.96l-1.37-1.37c-.4-.4-.92-.59-1.43-.59-.52 0-1.04.2-1.43.59L10.3 9.45l-7.72 7.72c-.78.78-.78 2.05 0 2.83L4 21.41c.39.39.9.59 1.41.59.51 0 1.02-.2 1.41-.59l7.78-7.78 2.81-2.81c.8-.78.8-2.07 0-2.86zM5.41 20L4 18.59l7.72-7.72 1.47 1.35L5.41 20z\"/>\n",
              "  </svg>\n",
              "      </button>\n",
              "      \n",
              "  <style>\n",
              "    .colab-df-container {\n",
              "      display:flex;\n",
              "      flex-wrap:wrap;\n",
              "      gap: 12px;\n",
              "    }\n",
              "\n",
              "    .colab-df-convert {\n",
              "      background-color: #E8F0FE;\n",
              "      border: none;\n",
              "      border-radius: 50%;\n",
              "      cursor: pointer;\n",
              "      display: none;\n",
              "      fill: #1967D2;\n",
              "      height: 32px;\n",
              "      padding: 0 0 0 0;\n",
              "      width: 32px;\n",
              "    }\n",
              "\n",
              "    .colab-df-convert:hover {\n",
              "      background-color: #E2EBFA;\n",
              "      box-shadow: 0px 1px 2px rgba(60, 64, 67, 0.3), 0px 1px 3px 1px rgba(60, 64, 67, 0.15);\n",
              "      fill: #174EA6;\n",
              "    }\n",
              "\n",
              "    [theme=dark] .colab-df-convert {\n",
              "      background-color: #3B4455;\n",
              "      fill: #D2E3FC;\n",
              "    }\n",
              "\n",
              "    [theme=dark] .colab-df-convert:hover {\n",
              "      background-color: #434B5C;\n",
              "      box-shadow: 0px 1px 3px 1px rgba(0, 0, 0, 0.15);\n",
              "      filter: drop-shadow(0px 1px 2px rgba(0, 0, 0, 0.3));\n",
              "      fill: #FFFFFF;\n",
              "    }\n",
              "  </style>\n",
              "\n",
              "      <script>\n",
              "        const buttonEl =\n",
              "          document.querySelector('#df-733b346d-d8a8-4422-96e3-2ad2012e17e0 button.colab-df-convert');\n",
              "        buttonEl.style.display =\n",
              "          google.colab.kernel.accessAllowed ? 'block' : 'none';\n",
              "\n",
              "        async function convertToInteractive(key) {\n",
              "          const element = document.querySelector('#df-733b346d-d8a8-4422-96e3-2ad2012e17e0');\n",
              "          const dataTable =\n",
              "            await google.colab.kernel.invokeFunction('convertToInteractive',\n",
              "                                                     [key], {});\n",
              "          if (!dataTable) return;\n",
              "\n",
              "          const docLinkHtml = 'Like what you see? Visit the ' +\n",
              "            '<a target=\"_blank\" href=https://colab.research.google.com/notebooks/data_table.ipynb>data table notebook</a>'\n",
              "            + ' to learn more about interactive tables.';\n",
              "          element.innerHTML = '';\n",
              "          dataTable['output_type'] = 'display_data';\n",
              "          await google.colab.output.renderOutput(dataTable, element);\n",
              "          const docLink = document.createElement('div');\n",
              "          docLink.innerHTML = docLinkHtml;\n",
              "          element.appendChild(docLink);\n",
              "        }\n",
              "      </script>\n",
              "    </div>\n",
              "  </div>\n",
              "  "
            ]
          },
          "metadata": {},
          "execution_count": 31
        }
      ]
    },
    {
      "cell_type": "code",
      "metadata": {
        "colab": {
          "base_uri": "https://localhost:8080/",
          "height": 49
        },
        "id": "Vo7pYbURkBGj",
        "outputId": "2e70b136-725d-4b0e-c204-57541893c54a"
      },
      "source": [
        "models_loss"
      ],
      "execution_count": 32,
      "outputs": [
        {
          "output_type": "execute_result",
          "data": {
            "text/plain": [
              "Empty DataFrame\n",
              "Columns: [x4, x2, baseline, x0.5, x0.25]\n",
              "Index: []"
            ],
            "text/html": [
              "\n",
              "  <div id=\"df-a01afae1-a603-4ab0-a9bb-b19e50066dc0\">\n",
              "    <div class=\"colab-df-container\">\n",
              "      <div>\n",
              "<style scoped>\n",
              "    .dataframe tbody tr th:only-of-type {\n",
              "        vertical-align: middle;\n",
              "    }\n",
              "\n",
              "    .dataframe tbody tr th {\n",
              "        vertical-align: top;\n",
              "    }\n",
              "\n",
              "    .dataframe thead th {\n",
              "        text-align: right;\n",
              "    }\n",
              "</style>\n",
              "<table border=\"1\" class=\"dataframe\">\n",
              "  <thead>\n",
              "    <tr style=\"text-align: right;\">\n",
              "      <th></th>\n",
              "      <th>x4</th>\n",
              "      <th>x2</th>\n",
              "      <th>baseline</th>\n",
              "      <th>x0.5</th>\n",
              "      <th>x0.25</th>\n",
              "    </tr>\n",
              "  </thead>\n",
              "  <tbody>\n",
              "  </tbody>\n",
              "</table>\n",
              "</div>\n",
              "      <button class=\"colab-df-convert\" onclick=\"convertToInteractive('df-a01afae1-a603-4ab0-a9bb-b19e50066dc0')\"\n",
              "              title=\"Convert this dataframe to an interactive table.\"\n",
              "              style=\"display:none;\">\n",
              "        \n",
              "  <svg xmlns=\"http://www.w3.org/2000/svg\" height=\"24px\"viewBox=\"0 0 24 24\"\n",
              "       width=\"24px\">\n",
              "    <path d=\"M0 0h24v24H0V0z\" fill=\"none\"/>\n",
              "    <path d=\"M18.56 5.44l.94 2.06.94-2.06 2.06-.94-2.06-.94-.94-2.06-.94 2.06-2.06.94zm-11 1L8.5 8.5l.94-2.06 2.06-.94-2.06-.94L8.5 2.5l-.94 2.06-2.06.94zm10 10l.94 2.06.94-2.06 2.06-.94-2.06-.94-.94-2.06-.94 2.06-2.06.94z\"/><path d=\"M17.41 7.96l-1.37-1.37c-.4-.4-.92-.59-1.43-.59-.52 0-1.04.2-1.43.59L10.3 9.45l-7.72 7.72c-.78.78-.78 2.05 0 2.83L4 21.41c.39.39.9.59 1.41.59.51 0 1.02-.2 1.41-.59l7.78-7.78 2.81-2.81c.8-.78.8-2.07 0-2.86zM5.41 20L4 18.59l7.72-7.72 1.47 1.35L5.41 20z\"/>\n",
              "  </svg>\n",
              "      </button>\n",
              "      \n",
              "  <style>\n",
              "    .colab-df-container {\n",
              "      display:flex;\n",
              "      flex-wrap:wrap;\n",
              "      gap: 12px;\n",
              "    }\n",
              "\n",
              "    .colab-df-convert {\n",
              "      background-color: #E8F0FE;\n",
              "      border: none;\n",
              "      border-radius: 50%;\n",
              "      cursor: pointer;\n",
              "      display: none;\n",
              "      fill: #1967D2;\n",
              "      height: 32px;\n",
              "      padding: 0 0 0 0;\n",
              "      width: 32px;\n",
              "    }\n",
              "\n",
              "    .colab-df-convert:hover {\n",
              "      background-color: #E2EBFA;\n",
              "      box-shadow: 0px 1px 2px rgba(60, 64, 67, 0.3), 0px 1px 3px 1px rgba(60, 64, 67, 0.15);\n",
              "      fill: #174EA6;\n",
              "    }\n",
              "\n",
              "    [theme=dark] .colab-df-convert {\n",
              "      background-color: #3B4455;\n",
              "      fill: #D2E3FC;\n",
              "    }\n",
              "\n",
              "    [theme=dark] .colab-df-convert:hover {\n",
              "      background-color: #434B5C;\n",
              "      box-shadow: 0px 1px 3px 1px rgba(0, 0, 0, 0.15);\n",
              "      filter: drop-shadow(0px 1px 2px rgba(0, 0, 0, 0.3));\n",
              "      fill: #FFFFFF;\n",
              "    }\n",
              "  </style>\n",
              "\n",
              "      <script>\n",
              "        const buttonEl =\n",
              "          document.querySelector('#df-a01afae1-a603-4ab0-a9bb-b19e50066dc0 button.colab-df-convert');\n",
              "        buttonEl.style.display =\n",
              "          google.colab.kernel.accessAllowed ? 'block' : 'none';\n",
              "\n",
              "        async function convertToInteractive(key) {\n",
              "          const element = document.querySelector('#df-a01afae1-a603-4ab0-a9bb-b19e50066dc0');\n",
              "          const dataTable =\n",
              "            await google.colab.kernel.invokeFunction('convertToInteractive',\n",
              "                                                     [key], {});\n",
              "          if (!dataTable) return;\n",
              "\n",
              "          const docLinkHtml = 'Like what you see? Visit the ' +\n",
              "            '<a target=\"_blank\" href=https://colab.research.google.com/notebooks/data_table.ipynb>data table notebook</a>'\n",
              "            + ' to learn more about interactive tables.';\n",
              "          element.innerHTML = '';\n",
              "          dataTable['output_type'] = 'display_data';\n",
              "          await google.colab.output.renderOutput(dataTable, element);\n",
              "          const docLink = document.createElement('div');\n",
              "          docLink.innerHTML = docLinkHtml;\n",
              "          element.appendChild(docLink);\n",
              "        }\n",
              "      </script>\n",
              "    </div>\n",
              "  </div>\n",
              "  "
            ]
          },
          "metadata": {},
          "execution_count": 32
        }
      ]
    },
    {
      "cell_type": "code",
      "metadata": {
        "colab": {
          "base_uri": "https://localhost:8080/"
        },
        "id": "uQQS02UchEP8",
        "outputId": "8501b79f-29fd-4e7a-c6a2-218796aa0877"
      },
      "source": [
        "print(392*4)\n",
        "print(392*2)"
      ],
      "execution_count": 33,
      "outputs": [
        {
          "output_type": "stream",
          "name": "stdout",
          "text": [
            "1568\n",
            "784\n"
          ]
        }
      ]
    },
    {
      "cell_type": "code",
      "metadata": {
        "colab": {
          "base_uri": "https://localhost:8080/"
        },
        "id": "KmUGiH4j7X8R",
        "outputId": "c0519486-df8a-4b1c-8731-6c97baec0fcb"
      },
      "source": [
        "# Добившись немного лучших показателей, чем на лекции, решил остановиться на этом варианте сети\n",
        "for i in range(1, 16):\n",
        "  print(f\"Выполняется проход {i} сеть х4\")\n",
        "  model = keras.Sequential([\n",
        "      keras.layers.Flatten(input_shape=(28, 28)),\n",
        "      keras.layers.Dense(1568, activation='relu',\n",
        "                          kernel_initializer=initializers.RandomNormal(mean=0.0, \n",
        "                                                                stddev=0.15, \n",
        "                                    seed=int(datetime.now().timestamp()))),\n",
        "      keras.layers.Dense(784, activation='relu',\n",
        "                          kernel_initializer=initializers.RandomNormal(mean=0.0, \n",
        "                                                                stddev=0.15, \n",
        "                                    seed=int(datetime.now().timestamp()))),\n",
        "      keras.layers.Dense(392, activation='relu',\n",
        "                          kernel_initializer=initializers.RandomNormal(mean=0.0, \n",
        "                                                                stddev=0.15, \n",
        "                                    seed=int(datetime.now().timestamp()))),\n",
        "      keras.layers.LayerNormalization(),                      \n",
        "      keras.layers.Dense(196, activation='relu',\n",
        "                          kernel_initializer=initializers.RandomNormal(mean=0.0, \n",
        "                                                                stddev=0.15, \n",
        "                                    seed=int(datetime.now().timestamp()))),\n",
        "      keras.layers.Dense(98, activation='relu',\n",
        "                          kernel_initializer=initializers.RandomNormal(mean=0.0, \n",
        "                                                                stddev=0.15, \n",
        "                                    seed=int(datetime.now().timestamp()))),\n",
        "      keras.layers.Dense(49, activation='relu',\n",
        "                          kernel_initializer=initializers.RandomNormal(mean=0.0, \n",
        "                                                                stddev=0.15, \n",
        "                                    seed=int(datetime.now().timestamp()))),\n",
        "      keras.layers.Dropout(0.15),\n",
        "      keras.layers.Dense(10,\n",
        "                          kernel_initializer=initializers.RandomNormal(mean=0.0, \n",
        "                                                                stddev=0.15, \n",
        "                                    seed=int(datetime.now().timestamp())))\n",
        "  ])\n",
        "\n",
        "  model.compile(optimizer='adam',\n",
        "                loss=tf.keras.losses.CategoricalCrossentropy(from_logits=True),\n",
        "                metrics=['accuracy'])\n",
        "\n",
        "  model.fit(train_images, y_train_labels, epochs=64, batch_size=64, verbose=0)\n",
        "\n",
        "  test_loss, test_acc = model.evaluate(test_images,  y_test_labels, verbose=2)\n",
        "  models_loss.loc[i, \"x4\"] = test_loss\n",
        "  models_acc.loc[i, \"x4\"] = test_acc\n",
        "\n",
        "  print(f\"Выполняется проход {i} сеть х2\")\n",
        "  model = keras.Sequential([\n",
        "      keras.layers.Flatten(input_shape=(28, 28)),\n",
        "      keras.layers.Dense(784, activation='relu',\n",
        "                          kernel_initializer=initializers.RandomNormal(mean=0.0, \n",
        "                                                                stddev=0.15, \n",
        "                                    seed=int(datetime.now().timestamp()))),\n",
        "      keras.layers.Dense(392, activation='relu',\n",
        "                          kernel_initializer=initializers.RandomNormal(mean=0.0, \n",
        "                                                                stddev=0.15, \n",
        "                                    seed=int(datetime.now().timestamp()))),\n",
        "      keras.layers.LayerNormalization(),                      \n",
        "      keras.layers.Dense(196, activation='relu',\n",
        "                          kernel_initializer=initializers.RandomNormal(mean=0.0, \n",
        "                                                                stddev=0.15, \n",
        "                                    seed=int(datetime.now().timestamp()))),\n",
        "      keras.layers.Dense(98, activation='relu',\n",
        "                          kernel_initializer=initializers.RandomNormal(mean=0.0, \n",
        "                                                                stddev=0.15, \n",
        "                                    seed=int(datetime.now().timestamp()))),\n",
        "      keras.layers.Dense(49, activation='relu',\n",
        "                          kernel_initializer=initializers.RandomNormal(mean=0.0, \n",
        "                                                                stddev=0.15, \n",
        "                                    seed=int(datetime.now().timestamp()))),\n",
        "      keras.layers.Dropout(0.15),                      \n",
        "      keras.layers.Dense(10,\n",
        "                          kernel_initializer=initializers.RandomNormal(mean=0.0, \n",
        "                                                                stddev=0.15, \n",
        "                                    seed=int(datetime.now().timestamp())))\n",
        "  ])\n",
        "\n",
        "  model.compile(optimizer='adam',\n",
        "                loss=tf.keras.losses.CategoricalCrossentropy(from_logits=True),\n",
        "                metrics=['accuracy'])\n",
        "\n",
        "  model.fit(train_images, y_train_labels, epochs=32, batch_size=64, verbose=0)\n",
        "\n",
        "  test_loss, test_acc = model.evaluate(test_images,  y_test_labels, verbose=2)\n",
        "  models_loss.loc[i, \"x2\"] = test_loss\n",
        "  models_acc.loc[i, \"x2\"] = test_acc\n",
        "\n",
        "  print(f\"Выполняется проход {i} сеть baseline\")\n",
        "  model = keras.Sequential([\n",
        "      keras.layers.Flatten(input_shape=(28, 28)),\n",
        "      keras.layers.Dense(392, activation='relu',\n",
        "                          kernel_initializer=initializers.RandomNormal(mean=0.0, \n",
        "                                                                stddev=0.15, \n",
        "                                    seed=int(datetime.now().timestamp()))),\n",
        "      keras.layers.Dense(196, activation='relu',\n",
        "                          kernel_initializer=initializers.RandomNormal(mean=0.0, \n",
        "                                                                stddev=0.15, \n",
        "                                    seed=int(datetime.now().timestamp()))),\n",
        "      keras.layers.LayerNormalization(),                      \n",
        "      keras.layers.Dense(98, activation='relu',\n",
        "                          kernel_initializer=initializers.RandomNormal(mean=0.0, \n",
        "                                                                stddev=0.15, \n",
        "                                    seed=int(datetime.now().timestamp()))),\n",
        "      keras.layers.Dense(49, activation='relu',\n",
        "                          kernel_initializer=initializers.RandomNormal(mean=0.0, \n",
        "                                                                stddev=0.15, \n",
        "                                    seed=int(datetime.now().timestamp()))),\n",
        "      keras.layers.Dropout(0.15),\n",
        "      keras.layers.Dense(10,\n",
        "                          kernel_initializer=initializers.RandomNormal(mean=0.0, \n",
        "                                                                stddev=0.15, \n",
        "                                    seed=int(datetime.now().timestamp())))\n",
        "  ])\n",
        "\n",
        "  model.compile(optimizer='adam',\n",
        "                loss=tf.keras.losses.CategoricalCrossentropy(from_logits=True),\n",
        "                metrics=['accuracy'])\n",
        "\n",
        "  model.fit(train_images, y_train_labels, epochs=32, batch_size=64, verbose=0)\n",
        "\n",
        "  test_loss, test_acc = model.evaluate(test_images,  y_test_labels, verbose=2)\n",
        "  models_loss.loc[i, \"baseline\"] = test_loss\n",
        "  models_acc.loc[i, \"baseline\"] = test_acc\n",
        " \n",
        "  print(f\"Выполняется проход {i} сеть x0.5\")\n",
        "  model = keras.Sequential([\n",
        "      keras.layers.Flatten(input_shape=(28, 28)),\n",
        "      keras.layers.Dense(196, activation='relu',\n",
        "                          kernel_initializer=initializers.RandomNormal(mean=0.0, \n",
        "                                                                stddev=0.15, \n",
        "                                    seed=int(datetime.now().timestamp()))),\n",
        "      keras.layers.Dense(98, activation='relu',\n",
        "                          kernel_initializer=initializers.RandomNormal(mean=0.0, \n",
        "                                                                stddev=0.15, \n",
        "                                    seed=int(datetime.now().timestamp()))),\n",
        "      keras.layers.LayerNormalization(),                      \n",
        "      keras.layers.Dense(49, activation='relu',\n",
        "                          kernel_initializer=initializers.RandomNormal(mean=0.0, \n",
        "                                                                stddev=0.15, \n",
        "                                    seed=int(datetime.now().timestamp()))),\n",
        "      keras.layers.Dropout(0.15),\n",
        "      keras.layers.Dense(10,\n",
        "                          kernel_initializer=initializers.RandomNormal(mean=0.0, \n",
        "                                                                stddev=0.15, \n",
        "                                    seed=int(datetime.now().timestamp())))\n",
        "  ])\n",
        "\n",
        "  model.compile(optimizer='adam',\n",
        "                loss=tf.keras.losses.CategoricalCrossentropy(from_logits=True),\n",
        "                metrics=['accuracy'])\n",
        "\n",
        "  model.fit(train_images, y_train_labels, epochs=32, batch_size=64, verbose=0)\n",
        "\n",
        "  test_loss, test_acc = model.evaluate(test_images,  y_test_labels, verbose=2)\n",
        "  models_loss.loc[i, \"x0.5\"] = test_loss\n",
        "  models_acc.loc[i, \"x0.5\"] = test_acc\n",
        "\n",
        "  print(f\"Выполняется проход {i} сеть x0.25\")\n",
        "  model = keras.Sequential([\n",
        "      keras.layers.Flatten(input_shape=(28, 28)),\n",
        "      keras.layers.Dense(98, activation='relu',\n",
        "                          kernel_initializer=initializers.RandomNormal(mean=0.0, \n",
        "                                                                stddev=0.15, \n",
        "                                    seed=int(datetime.now().timestamp()))),\n",
        "      keras.layers.LayerNormalization(),                      \n",
        "      keras.layers.Dense(49, activation='relu',\n",
        "                          kernel_initializer=initializers.RandomNormal(mean=0.0, \n",
        "                                                                stddev=0.15, \n",
        "                                    seed=int(datetime.now().timestamp()))),\n",
        "      keras.layers.Dropout(0.15),\n",
        "      keras.layers.Dense(10,\n",
        "                          kernel_initializer=initializers.RandomNormal(mean=0.0, \n",
        "                                                                stddev=0.15, \n",
        "                                    seed=int(datetime.now().timestamp())))\n",
        "  ])\n",
        "\n",
        "  model.compile(optimizer='adam',\n",
        "                loss=tf.keras.losses.CategoricalCrossentropy(from_logits=True),\n",
        "                metrics=['accuracy'])\n",
        "\n",
        "  model.fit(train_images, y_train_labels, epochs=32, batch_size=64, verbose=0)\n",
        "\n",
        "  test_loss, test_acc = model.evaluate(test_images,  y_test_labels, verbose=2)\n",
        "  models_loss.loc[i, \"x0.25\"] = test_loss\n",
        "  models_acc.loc[i, \"x0.25\"] = test_acc\n"
      ],
      "execution_count": 34,
      "outputs": [
        {
          "output_type": "stream",
          "name": "stdout",
          "text": [
            "Выполняется проход 1 сеть х4\n",
            "313/313 - 1s - loss: 0.6112 - accuracy: 0.9020 - 827ms/epoch - 3ms/step\n",
            "Выполняется проход 1 сеть х2\n",
            "313/313 - 1s - loss: 0.4351 - accuracy: 0.8890 - 840ms/epoch - 3ms/step\n",
            "Выполняется проход 1 сеть baseline\n",
            "313/313 - 1s - loss: 0.4216 - accuracy: 0.8922 - 799ms/epoch - 3ms/step\n",
            "Выполняется проход 1 сеть x0.5\n",
            "313/313 - 1s - loss: 0.4054 - accuracy: 0.8933 - 762ms/epoch - 2ms/step\n",
            "Выполняется проход 1 сеть x0.25\n",
            "313/313 - 1s - loss: 0.3871 - accuracy: 0.8882 - 762ms/epoch - 2ms/step\n",
            "Выполняется проход 2 сеть х4\n",
            "313/313 - 1s - loss: 0.6401 - accuracy: 0.8993 - 831ms/epoch - 3ms/step\n",
            "Выполняется проход 2 сеть х2\n",
            "313/313 - 1s - loss: 0.4056 - accuracy: 0.8951 - 805ms/epoch - 3ms/step\n",
            "Выполняется проход 2 сеть baseline\n",
            "313/313 - 1s - loss: 0.3973 - accuracy: 0.8981 - 785ms/epoch - 3ms/step\n",
            "Выполняется проход 2 сеть x0.5\n",
            "313/313 - 1s - loss: 0.4245 - accuracy: 0.8846 - 775ms/epoch - 2ms/step\n",
            "Выполняется проход 2 сеть x0.25\n",
            "313/313 - 1s - loss: 0.4039 - accuracy: 0.8813 - 1s/epoch - 4ms/step\n",
            "Выполняется проход 3 сеть х4\n",
            "313/313 - 1s - loss: 0.5671 - accuracy: 0.8992 - 841ms/epoch - 3ms/step\n",
            "Выполняется проход 3 сеть х2\n",
            "313/313 - 1s - loss: 0.3826 - accuracy: 0.8970 - 804ms/epoch - 3ms/step\n",
            "Выполняется проход 3 сеть baseline\n",
            "313/313 - 1s - loss: 0.4850 - accuracy: 0.8915 - 781ms/epoch - 2ms/step\n",
            "Выполняется проход 3 сеть x0.5\n",
            "313/313 - 1s - loss: 0.4342 - accuracy: 0.8887 - 758ms/epoch - 2ms/step\n",
            "Выполняется проход 3 сеть x0.25\n",
            "313/313 - 1s - loss: 0.3625 - accuracy: 0.8873 - 717ms/epoch - 2ms/step\n",
            "Выполняется проход 4 сеть х4\n",
            "313/313 - 1s - loss: 0.5686 - accuracy: 0.9009 - 821ms/epoch - 3ms/step\n",
            "Выполняется проход 4 сеть х2\n",
            "313/313 - 1s - loss: 0.4079 - accuracy: 0.8964 - 826ms/epoch - 3ms/step\n",
            "Выполняется проход 4 сеть baseline\n",
            "313/313 - 1s - loss: 0.4459 - accuracy: 0.8950 - 783ms/epoch - 3ms/step\n",
            "Выполняется проход 4 сеть x0.5\n",
            "313/313 - 1s - loss: 0.3862 - accuracy: 0.8929 - 769ms/epoch - 2ms/step\n",
            "Выполняется проход 4 сеть x0.25\n",
            "313/313 - 1s - loss: 0.3960 - accuracy: 0.8829 - 749ms/epoch - 2ms/step\n",
            "Выполняется проход 5 сеть х4\n",
            "313/313 - 1s - loss: 0.5892 - accuracy: 0.8994 - 857ms/epoch - 3ms/step\n",
            "Выполняется проход 5 сеть х2\n",
            "313/313 - 1s - loss: 0.3931 - accuracy: 0.8982 - 825ms/epoch - 3ms/step\n",
            "Выполняется проход 5 сеть baseline\n",
            "313/313 - 1s - loss: 0.4526 - accuracy: 0.8904 - 793ms/epoch - 3ms/step\n",
            "Выполняется проход 5 сеть x0.5\n",
            "313/313 - 1s - loss: 0.4137 - accuracy: 0.8929 - 754ms/epoch - 2ms/step\n",
            "Выполняется проход 5 сеть x0.25\n",
            "313/313 - 1s - loss: 0.3707 - accuracy: 0.8885 - 761ms/epoch - 2ms/step\n",
            "Выполняется проход 6 сеть х4\n",
            "313/313 - 1s - loss: 0.5497 - accuracy: 0.9008 - 841ms/epoch - 3ms/step\n",
            "Выполняется проход 6 сеть х2\n",
            "313/313 - 1s - loss: 0.4189 - accuracy: 0.8908 - 1s/epoch - 4ms/step\n",
            "Выполняется проход 6 сеть baseline\n",
            "313/313 - 1s - loss: 0.4245 - accuracy: 0.8928 - 786ms/epoch - 3ms/step\n",
            "Выполняется проход 6 сеть x0.5\n",
            "313/313 - 1s - loss: 0.3905 - accuracy: 0.8910 - 977ms/epoch - 3ms/step\n",
            "Выполняется проход 6 сеть x0.25\n",
            "313/313 - 1s - loss: 0.3823 - accuracy: 0.8906 - 734ms/epoch - 2ms/step\n",
            "Выполняется проход 7 сеть х4\n",
            "313/313 - 1s - loss: 0.6356 - accuracy: 0.9001 - 829ms/epoch - 3ms/step\n",
            "Выполняется проход 7 сеть х2\n",
            "313/313 - 1s - loss: 0.4258 - accuracy: 0.8977 - 828ms/epoch - 3ms/step\n",
            "Выполняется проход 7 сеть baseline\n",
            "313/313 - 1s - loss: 0.4411 - accuracy: 0.8901 - 796ms/epoch - 3ms/step\n",
            "Выполняется проход 7 сеть x0.5\n",
            "313/313 - 1s - loss: 0.4279 - accuracy: 0.8897 - 769ms/epoch - 2ms/step\n",
            "Выполняется проход 7 сеть x0.25\n",
            "313/313 - 1s - loss: 0.3660 - accuracy: 0.8878 - 745ms/epoch - 2ms/step\n",
            "Выполняется проход 8 сеть х4\n",
            "313/313 - 1s - loss: 0.6637 - accuracy: 0.8992 - 841ms/epoch - 3ms/step\n",
            "Выполняется проход 8 сеть х2\n",
            "313/313 - 1s - loss: 0.4328 - accuracy: 0.8910 - 818ms/epoch - 3ms/step\n",
            "Выполняется проход 8 сеть baseline\n",
            "313/313 - 1s - loss: 0.4399 - accuracy: 0.8904 - 761ms/epoch - 2ms/step\n",
            "Выполняется проход 8 сеть x0.5\n",
            "313/313 - 1s - loss: 0.4526 - accuracy: 0.8876 - 751ms/epoch - 2ms/step\n",
            "Выполняется проход 8 сеть x0.25\n",
            "313/313 - 1s - loss: 0.4134 - accuracy: 0.8848 - 740ms/epoch - 2ms/step\n",
            "Выполняется проход 9 сеть х4\n",
            "313/313 - 1s - loss: 0.6710 - accuracy: 0.9026 - 842ms/epoch - 3ms/step\n",
            "Выполняется проход 9 сеть х2\n",
            "313/313 - 1s - loss: 0.4311 - accuracy: 0.8928 - 799ms/epoch - 3ms/step\n",
            "Выполняется проход 9 сеть baseline\n",
            "313/313 - 1s - loss: 0.4428 - accuracy: 0.8949 - 772ms/epoch - 2ms/step\n",
            "Выполняется проход 9 сеть x0.5\n",
            "313/313 - 1s - loss: 0.3929 - accuracy: 0.8919 - 750ms/epoch - 2ms/step\n",
            "Выполняется проход 9 сеть x0.25\n",
            "313/313 - 1s - loss: 0.3821 - accuracy: 0.8846 - 720ms/epoch - 2ms/step\n",
            "Выполняется проход 10 сеть х4\n",
            "313/313 - 1s - loss: 0.6894 - accuracy: 0.8976 - 802ms/epoch - 3ms/step\n",
            "Выполняется проход 10 сеть х2\n",
            "313/313 - 1s - loss: 0.4315 - accuracy: 0.8956 - 789ms/epoch - 3ms/step\n",
            "Выполняется проход 10 сеть baseline\n",
            "313/313 - 1s - loss: 0.4509 - accuracy: 0.8951 - 756ms/epoch - 2ms/step\n",
            "Выполняется проход 10 сеть x0.5\n",
            "313/313 - 1s - loss: 0.3931 - accuracy: 0.8943 - 754ms/epoch - 2ms/step\n",
            "Выполняется проход 10 сеть x0.25\n",
            "313/313 - 1s - loss: 0.3897 - accuracy: 0.8870 - 727ms/epoch - 2ms/step\n",
            "Выполняется проход 11 сеть х4\n",
            "313/313 - 1s - loss: 0.6475 - accuracy: 0.8994 - 824ms/epoch - 3ms/step\n",
            "Выполняется проход 11 сеть х2\n",
            "313/313 - 1s - loss: 0.4217 - accuracy: 0.8947 - 777ms/epoch - 2ms/step\n",
            "Выполняется проход 11 сеть baseline\n",
            "313/313 - 1s - loss: 0.4339 - accuracy: 0.8968 - 765ms/epoch - 2ms/step\n",
            "Выполняется проход 11 сеть x0.5\n",
            "313/313 - 1s - loss: 0.4239 - accuracy: 0.8898 - 732ms/epoch - 2ms/step\n",
            "Выполняется проход 11 сеть x0.25\n",
            "313/313 - 1s - loss: 0.3910 - accuracy: 0.8828 - 717ms/epoch - 2ms/step\n",
            "Выполняется проход 12 сеть х4\n",
            "313/313 - 1s - loss: 0.5298 - accuracy: 0.8975 - 810ms/epoch - 3ms/step\n",
            "Выполняется проход 12 сеть х2\n",
            "313/313 - 1s - loss: 0.4167 - accuracy: 0.8874 - 792ms/epoch - 3ms/step\n",
            "Выполняется проход 12 сеть baseline\n",
            "313/313 - 1s - loss: 0.4219 - accuracy: 0.8923 - 761ms/epoch - 2ms/step\n",
            "Выполняется проход 12 сеть x0.5\n",
            "313/313 - 1s - loss: 0.4436 - accuracy: 0.8923 - 723ms/epoch - 2ms/step\n",
            "Выполняется проход 12 сеть x0.25\n",
            "313/313 - 1s - loss: 0.4022 - accuracy: 0.8826 - 711ms/epoch - 2ms/step\n",
            "Выполняется проход 13 сеть х4\n",
            "313/313 - 1s - loss: 0.5427 - accuracy: 0.8950 - 803ms/epoch - 3ms/step\n",
            "Выполняется проход 13 сеть х2\n",
            "313/313 - 1s - loss: 0.4476 - accuracy: 0.8976 - 792ms/epoch - 3ms/step\n",
            "Выполняется проход 13 сеть baseline\n",
            "313/313 - 1s - loss: 0.4457 - accuracy: 0.8949 - 771ms/epoch - 2ms/step\n",
            "Выполняется проход 13 сеть x0.5\n",
            "313/313 - 1s - loss: 0.4374 - accuracy: 0.8920 - 727ms/epoch - 2ms/step\n",
            "Выполняется проход 13 сеть x0.25\n",
            "313/313 - 1s - loss: 0.3831 - accuracy: 0.8827 - 704ms/epoch - 2ms/step\n",
            "Выполняется проход 14 сеть х4\n",
            "313/313 - 1s - loss: 0.5700 - accuracy: 0.8978 - 799ms/epoch - 3ms/step\n",
            "Выполняется проход 14 сеть х2\n",
            "313/313 - 1s - loss: 0.4236 - accuracy: 0.8965 - 811ms/epoch - 3ms/step\n",
            "Выполняется проход 14 сеть baseline\n",
            "313/313 - 1s - loss: 0.4088 - accuracy: 0.8954 - 778ms/epoch - 2ms/step\n",
            "Выполняется проход 14 сеть x0.5\n",
            "313/313 - 1s - loss: 0.4063 - accuracy: 0.8883 - 739ms/epoch - 2ms/step\n",
            "Выполняется проход 14 сеть x0.25\n",
            "313/313 - 1s - loss: 0.3700 - accuracy: 0.8862 - 731ms/epoch - 2ms/step\n",
            "Выполняется проход 15 сеть х4\n",
            "313/313 - 1s - loss: 0.6273 - accuracy: 0.8938 - 812ms/epoch - 3ms/step\n",
            "Выполняется проход 15 сеть х2\n",
            "313/313 - 1s - loss: 0.4235 - accuracy: 0.8987 - 778ms/epoch - 2ms/step\n",
            "Выполняется проход 15 сеть baseline\n",
            "313/313 - 1s - loss: 0.4622 - accuracy: 0.8898 - 761ms/epoch - 2ms/step\n",
            "Выполняется проход 15 сеть x0.5\n",
            "313/313 - 1s - loss: 0.4157 - accuracy: 0.8949 - 734ms/epoch - 2ms/step\n",
            "Выполняется проход 15 сеть x0.25\n",
            "313/313 - 1s - loss: 0.3938 - accuracy: 0.8854 - 732ms/epoch - 2ms/step\n"
          ]
        }
      ]
    },
    {
      "cell_type": "code",
      "metadata": {
        "id": "F25MBbsZjLLj",
        "colab": {
          "base_uri": "https://localhost:8080/",
          "height": 300
        },
        "outputId": "05809c3e-f68f-49d7-c5da-783fa83dfe89"
      },
      "source": [
        "models_loss.astype(np.float64).describe()"
      ],
      "execution_count": 35,
      "outputs": [
        {
          "output_type": "execute_result",
          "data": {
            "text/plain": [
              "              x4         x2   baseline       x0.5      x0.25\n",
              "count  15.000000  15.000000  15.000000  15.000000  15.000000\n",
              "mean    0.606862   0.419843   0.438274   0.416537   0.386258\n",
              "std     0.050870   0.016814   0.021666   0.020654   0.014664\n",
              "min     0.529774   0.382618   0.397329   0.386242   0.362519\n",
              "25%     0.567866   0.412312   0.423196   0.399246   0.376396\n",
              "50%     0.611223   0.423528   0.441076   0.415673   0.387106\n",
              "75%     0.643797   0.431316   0.448422   0.431075   0.394917\n",
              "max     0.689412   0.447593   0.485010   0.452607   0.413379"
            ],
            "text/html": [
              "\n",
              "  <div id=\"df-45438f9f-f697-437d-8e23-c6415c24dbfb\">\n",
              "    <div class=\"colab-df-container\">\n",
              "      <div>\n",
              "<style scoped>\n",
              "    .dataframe tbody tr th:only-of-type {\n",
              "        vertical-align: middle;\n",
              "    }\n",
              "\n",
              "    .dataframe tbody tr th {\n",
              "        vertical-align: top;\n",
              "    }\n",
              "\n",
              "    .dataframe thead th {\n",
              "        text-align: right;\n",
              "    }\n",
              "</style>\n",
              "<table border=\"1\" class=\"dataframe\">\n",
              "  <thead>\n",
              "    <tr style=\"text-align: right;\">\n",
              "      <th></th>\n",
              "      <th>x4</th>\n",
              "      <th>x2</th>\n",
              "      <th>baseline</th>\n",
              "      <th>x0.5</th>\n",
              "      <th>x0.25</th>\n",
              "    </tr>\n",
              "  </thead>\n",
              "  <tbody>\n",
              "    <tr>\n",
              "      <th>count</th>\n",
              "      <td>15.000000</td>\n",
              "      <td>15.000000</td>\n",
              "      <td>15.000000</td>\n",
              "      <td>15.000000</td>\n",
              "      <td>15.000000</td>\n",
              "    </tr>\n",
              "    <tr>\n",
              "      <th>mean</th>\n",
              "      <td>0.606862</td>\n",
              "      <td>0.419843</td>\n",
              "      <td>0.438274</td>\n",
              "      <td>0.416537</td>\n",
              "      <td>0.386258</td>\n",
              "    </tr>\n",
              "    <tr>\n",
              "      <th>std</th>\n",
              "      <td>0.050870</td>\n",
              "      <td>0.016814</td>\n",
              "      <td>0.021666</td>\n",
              "      <td>0.020654</td>\n",
              "      <td>0.014664</td>\n",
              "    </tr>\n",
              "    <tr>\n",
              "      <th>min</th>\n",
              "      <td>0.529774</td>\n",
              "      <td>0.382618</td>\n",
              "      <td>0.397329</td>\n",
              "      <td>0.386242</td>\n",
              "      <td>0.362519</td>\n",
              "    </tr>\n",
              "    <tr>\n",
              "      <th>25%</th>\n",
              "      <td>0.567866</td>\n",
              "      <td>0.412312</td>\n",
              "      <td>0.423196</td>\n",
              "      <td>0.399246</td>\n",
              "      <td>0.376396</td>\n",
              "    </tr>\n",
              "    <tr>\n",
              "      <th>50%</th>\n",
              "      <td>0.611223</td>\n",
              "      <td>0.423528</td>\n",
              "      <td>0.441076</td>\n",
              "      <td>0.415673</td>\n",
              "      <td>0.387106</td>\n",
              "    </tr>\n",
              "    <tr>\n",
              "      <th>75%</th>\n",
              "      <td>0.643797</td>\n",
              "      <td>0.431316</td>\n",
              "      <td>0.448422</td>\n",
              "      <td>0.431075</td>\n",
              "      <td>0.394917</td>\n",
              "    </tr>\n",
              "    <tr>\n",
              "      <th>max</th>\n",
              "      <td>0.689412</td>\n",
              "      <td>0.447593</td>\n",
              "      <td>0.485010</td>\n",
              "      <td>0.452607</td>\n",
              "      <td>0.413379</td>\n",
              "    </tr>\n",
              "  </tbody>\n",
              "</table>\n",
              "</div>\n",
              "      <button class=\"colab-df-convert\" onclick=\"convertToInteractive('df-45438f9f-f697-437d-8e23-c6415c24dbfb')\"\n",
              "              title=\"Convert this dataframe to an interactive table.\"\n",
              "              style=\"display:none;\">\n",
              "        \n",
              "  <svg xmlns=\"http://www.w3.org/2000/svg\" height=\"24px\"viewBox=\"0 0 24 24\"\n",
              "       width=\"24px\">\n",
              "    <path d=\"M0 0h24v24H0V0z\" fill=\"none\"/>\n",
              "    <path d=\"M18.56 5.44l.94 2.06.94-2.06 2.06-.94-2.06-.94-.94-2.06-.94 2.06-2.06.94zm-11 1L8.5 8.5l.94-2.06 2.06-.94-2.06-.94L8.5 2.5l-.94 2.06-2.06.94zm10 10l.94 2.06.94-2.06 2.06-.94-2.06-.94-.94-2.06-.94 2.06-2.06.94z\"/><path d=\"M17.41 7.96l-1.37-1.37c-.4-.4-.92-.59-1.43-.59-.52 0-1.04.2-1.43.59L10.3 9.45l-7.72 7.72c-.78.78-.78 2.05 0 2.83L4 21.41c.39.39.9.59 1.41.59.51 0 1.02-.2 1.41-.59l7.78-7.78 2.81-2.81c.8-.78.8-2.07 0-2.86zM5.41 20L4 18.59l7.72-7.72 1.47 1.35L5.41 20z\"/>\n",
              "  </svg>\n",
              "      </button>\n",
              "      \n",
              "  <style>\n",
              "    .colab-df-container {\n",
              "      display:flex;\n",
              "      flex-wrap:wrap;\n",
              "      gap: 12px;\n",
              "    }\n",
              "\n",
              "    .colab-df-convert {\n",
              "      background-color: #E8F0FE;\n",
              "      border: none;\n",
              "      border-radius: 50%;\n",
              "      cursor: pointer;\n",
              "      display: none;\n",
              "      fill: #1967D2;\n",
              "      height: 32px;\n",
              "      padding: 0 0 0 0;\n",
              "      width: 32px;\n",
              "    }\n",
              "\n",
              "    .colab-df-convert:hover {\n",
              "      background-color: #E2EBFA;\n",
              "      box-shadow: 0px 1px 2px rgba(60, 64, 67, 0.3), 0px 1px 3px 1px rgba(60, 64, 67, 0.15);\n",
              "      fill: #174EA6;\n",
              "    }\n",
              "\n",
              "    [theme=dark] .colab-df-convert {\n",
              "      background-color: #3B4455;\n",
              "      fill: #D2E3FC;\n",
              "    }\n",
              "\n",
              "    [theme=dark] .colab-df-convert:hover {\n",
              "      background-color: #434B5C;\n",
              "      box-shadow: 0px 1px 3px 1px rgba(0, 0, 0, 0.15);\n",
              "      filter: drop-shadow(0px 1px 2px rgba(0, 0, 0, 0.3));\n",
              "      fill: #FFFFFF;\n",
              "    }\n",
              "  </style>\n",
              "\n",
              "      <script>\n",
              "        const buttonEl =\n",
              "          document.querySelector('#df-45438f9f-f697-437d-8e23-c6415c24dbfb button.colab-df-convert');\n",
              "        buttonEl.style.display =\n",
              "          google.colab.kernel.accessAllowed ? 'block' : 'none';\n",
              "\n",
              "        async function convertToInteractive(key) {\n",
              "          const element = document.querySelector('#df-45438f9f-f697-437d-8e23-c6415c24dbfb');\n",
              "          const dataTable =\n",
              "            await google.colab.kernel.invokeFunction('convertToInteractive',\n",
              "                                                     [key], {});\n",
              "          if (!dataTable) return;\n",
              "\n",
              "          const docLinkHtml = 'Like what you see? Visit the ' +\n",
              "            '<a target=\"_blank\" href=https://colab.research.google.com/notebooks/data_table.ipynb>data table notebook</a>'\n",
              "            + ' to learn more about interactive tables.';\n",
              "          element.innerHTML = '';\n",
              "          dataTable['output_type'] = 'display_data';\n",
              "          await google.colab.output.renderOutput(dataTable, element);\n",
              "          const docLink = document.createElement('div');\n",
              "          docLink.innerHTML = docLinkHtml;\n",
              "          element.appendChild(docLink);\n",
              "        }\n",
              "      </script>\n",
              "    </div>\n",
              "  </div>\n",
              "  "
            ]
          },
          "metadata": {},
          "execution_count": 35
        }
      ]
    },
    {
      "cell_type": "code",
      "source": [
        "print(12345)"
      ],
      "metadata": {
        "id": "swqvjwGo8lSh"
      },
      "execution_count": null,
      "outputs": []
    },
    {
      "cell_type": "code",
      "metadata": {
        "id": "88-k4dh4jO5S",
        "colab": {
          "base_uri": "https://localhost:8080/",
          "height": 300
        },
        "outputId": "3586d352-788d-4af6-abc8-8eadd9096ec5"
      },
      "source": [
        "models_acc.astype(np.float64).describe()"
      ],
      "execution_count": 36,
      "outputs": [
        {
          "output_type": "execute_result",
          "data": {
            "text/plain": [
              "              x4         x2   baseline       x0.5      x0.25\n",
              "count  15.000000  15.000000  15.000000  15.000000  15.000000\n",
              "mean    0.898973   0.894567   0.893313   0.890947   0.885513\n",
              "std     0.002378   0.003546   0.002618   0.002807   0.002710\n",
              "min     0.893800   0.887400   0.889800   0.884600   0.881300\n",
              "25%     0.897700   0.891900   0.890950   0.889200   0.882850\n",
              "50%     0.899300   0.895600   0.892800   0.891900   0.885400\n",
              "75%     0.900450   0.897300   0.895050   0.892900   0.887550\n",
              "max     0.902600   0.898700   0.898100   0.894900   0.890600"
            ],
            "text/html": [
              "\n",
              "  <div id=\"df-f6a63b13-84a6-4de0-9dae-ec951298a134\">\n",
              "    <div class=\"colab-df-container\">\n",
              "      <div>\n",
              "<style scoped>\n",
              "    .dataframe tbody tr th:only-of-type {\n",
              "        vertical-align: middle;\n",
              "    }\n",
              "\n",
              "    .dataframe tbody tr th {\n",
              "        vertical-align: top;\n",
              "    }\n",
              "\n",
              "    .dataframe thead th {\n",
              "        text-align: right;\n",
              "    }\n",
              "</style>\n",
              "<table border=\"1\" class=\"dataframe\">\n",
              "  <thead>\n",
              "    <tr style=\"text-align: right;\">\n",
              "      <th></th>\n",
              "      <th>x4</th>\n",
              "      <th>x2</th>\n",
              "      <th>baseline</th>\n",
              "      <th>x0.5</th>\n",
              "      <th>x0.25</th>\n",
              "    </tr>\n",
              "  </thead>\n",
              "  <tbody>\n",
              "    <tr>\n",
              "      <th>count</th>\n",
              "      <td>15.000000</td>\n",
              "      <td>15.000000</td>\n",
              "      <td>15.000000</td>\n",
              "      <td>15.000000</td>\n",
              "      <td>15.000000</td>\n",
              "    </tr>\n",
              "    <tr>\n",
              "      <th>mean</th>\n",
              "      <td>0.898973</td>\n",
              "      <td>0.894567</td>\n",
              "      <td>0.893313</td>\n",
              "      <td>0.890947</td>\n",
              "      <td>0.885513</td>\n",
              "    </tr>\n",
              "    <tr>\n",
              "      <th>std</th>\n",
              "      <td>0.002378</td>\n",
              "      <td>0.003546</td>\n",
              "      <td>0.002618</td>\n",
              "      <td>0.002807</td>\n",
              "      <td>0.002710</td>\n",
              "    </tr>\n",
              "    <tr>\n",
              "      <th>min</th>\n",
              "      <td>0.893800</td>\n",
              "      <td>0.887400</td>\n",
              "      <td>0.889800</td>\n",
              "      <td>0.884600</td>\n",
              "      <td>0.881300</td>\n",
              "    </tr>\n",
              "    <tr>\n",
              "      <th>25%</th>\n",
              "      <td>0.897700</td>\n",
              "      <td>0.891900</td>\n",
              "      <td>0.890950</td>\n",
              "      <td>0.889200</td>\n",
              "      <td>0.882850</td>\n",
              "    </tr>\n",
              "    <tr>\n",
              "      <th>50%</th>\n",
              "      <td>0.899300</td>\n",
              "      <td>0.895600</td>\n",
              "      <td>0.892800</td>\n",
              "      <td>0.891900</td>\n",
              "      <td>0.885400</td>\n",
              "    </tr>\n",
              "    <tr>\n",
              "      <th>75%</th>\n",
              "      <td>0.900450</td>\n",
              "      <td>0.897300</td>\n",
              "      <td>0.895050</td>\n",
              "      <td>0.892900</td>\n",
              "      <td>0.887550</td>\n",
              "    </tr>\n",
              "    <tr>\n",
              "      <th>max</th>\n",
              "      <td>0.902600</td>\n",
              "      <td>0.898700</td>\n",
              "      <td>0.898100</td>\n",
              "      <td>0.894900</td>\n",
              "      <td>0.890600</td>\n",
              "    </tr>\n",
              "  </tbody>\n",
              "</table>\n",
              "</div>\n",
              "      <button class=\"colab-df-convert\" onclick=\"convertToInteractive('df-f6a63b13-84a6-4de0-9dae-ec951298a134')\"\n",
              "              title=\"Convert this dataframe to an interactive table.\"\n",
              "              style=\"display:none;\">\n",
              "        \n",
              "  <svg xmlns=\"http://www.w3.org/2000/svg\" height=\"24px\"viewBox=\"0 0 24 24\"\n",
              "       width=\"24px\">\n",
              "    <path d=\"M0 0h24v24H0V0z\" fill=\"none\"/>\n",
              "    <path d=\"M18.56 5.44l.94 2.06.94-2.06 2.06-.94-2.06-.94-.94-2.06-.94 2.06-2.06.94zm-11 1L8.5 8.5l.94-2.06 2.06-.94-2.06-.94L8.5 2.5l-.94 2.06-2.06.94zm10 10l.94 2.06.94-2.06 2.06-.94-2.06-.94-.94-2.06-.94 2.06-2.06.94z\"/><path d=\"M17.41 7.96l-1.37-1.37c-.4-.4-.92-.59-1.43-.59-.52 0-1.04.2-1.43.59L10.3 9.45l-7.72 7.72c-.78.78-.78 2.05 0 2.83L4 21.41c.39.39.9.59 1.41.59.51 0 1.02-.2 1.41-.59l7.78-7.78 2.81-2.81c.8-.78.8-2.07 0-2.86zM5.41 20L4 18.59l7.72-7.72 1.47 1.35L5.41 20z\"/>\n",
              "  </svg>\n",
              "      </button>\n",
              "      \n",
              "  <style>\n",
              "    .colab-df-container {\n",
              "      display:flex;\n",
              "      flex-wrap:wrap;\n",
              "      gap: 12px;\n",
              "    }\n",
              "\n",
              "    .colab-df-convert {\n",
              "      background-color: #E8F0FE;\n",
              "      border: none;\n",
              "      border-radius: 50%;\n",
              "      cursor: pointer;\n",
              "      display: none;\n",
              "      fill: #1967D2;\n",
              "      height: 32px;\n",
              "      padding: 0 0 0 0;\n",
              "      width: 32px;\n",
              "    }\n",
              "\n",
              "    .colab-df-convert:hover {\n",
              "      background-color: #E2EBFA;\n",
              "      box-shadow: 0px 1px 2px rgba(60, 64, 67, 0.3), 0px 1px 3px 1px rgba(60, 64, 67, 0.15);\n",
              "      fill: #174EA6;\n",
              "    }\n",
              "\n",
              "    [theme=dark] .colab-df-convert {\n",
              "      background-color: #3B4455;\n",
              "      fill: #D2E3FC;\n",
              "    }\n",
              "\n",
              "    [theme=dark] .colab-df-convert:hover {\n",
              "      background-color: #434B5C;\n",
              "      box-shadow: 0px 1px 3px 1px rgba(0, 0, 0, 0.15);\n",
              "      filter: drop-shadow(0px 1px 2px rgba(0, 0, 0, 0.3));\n",
              "      fill: #FFFFFF;\n",
              "    }\n",
              "  </style>\n",
              "\n",
              "      <script>\n",
              "        const buttonEl =\n",
              "          document.querySelector('#df-f6a63b13-84a6-4de0-9dae-ec951298a134 button.colab-df-convert');\n",
              "        buttonEl.style.display =\n",
              "          google.colab.kernel.accessAllowed ? 'block' : 'none';\n",
              "\n",
              "        async function convertToInteractive(key) {\n",
              "          const element = document.querySelector('#df-f6a63b13-84a6-4de0-9dae-ec951298a134');\n",
              "          const dataTable =\n",
              "            await google.colab.kernel.invokeFunction('convertToInteractive',\n",
              "                                                     [key], {});\n",
              "          if (!dataTable) return;\n",
              "\n",
              "          const docLinkHtml = 'Like what you see? Visit the ' +\n",
              "            '<a target=\"_blank\" href=https://colab.research.google.com/notebooks/data_table.ipynb>data table notebook</a>'\n",
              "            + ' to learn more about interactive tables.';\n",
              "          element.innerHTML = '';\n",
              "          dataTable['output_type'] = 'display_data';\n",
              "          await google.colab.output.renderOutput(dataTable, element);\n",
              "          const docLink = document.createElement('div');\n",
              "          docLink.innerHTML = docLinkHtml;\n",
              "          element.appendChild(docLink);\n",
              "        }\n",
              "      </script>\n",
              "    </div>\n",
              "  </div>\n",
              "  "
            ]
          },
          "metadata": {},
          "execution_count": 36
        }
      ]
    },
    {
      "cell_type": "markdown",
      "metadata": {
        "id": "6nEX5dMFpDtO"
      },
      "source": [
        "Модель x0.25 показала наилучшие результаты. у неё самый низкий показатель функции потерь и самый низкий разброс при разных начальных значениях. Она будет использована при проверках разных функций потерь"
      ]
    },
    {
      "cell_type": "markdown",
      "metadata": {
        "id": "hqHqplwSpUB6"
      },
      "source": [
        "# Выполняем тестирование функций потерь"
      ]
    },
    {
      "cell_type": "code",
      "metadata": {
        "id": "ssZlyVSjpRnJ"
      },
      "source": [
        "models_loss = pd.DataFrame(columns=columns_1)\n",
        "models_acc = pd.DataFrame(columns=columns_1)\n",
        "\n",
        "models_loss_std = pd.DataFrame(columns=columns_1)\n",
        "models_acc_std = pd.DataFrame(columns=columns_1)"
      ],
      "execution_count": 37,
      "outputs": []
    },
    {
      "cell_type": "code",
      "metadata": {
        "colab": {
          "base_uri": "https://localhost:8080/",
          "height": 49
        },
        "id": "5J6Dxh51sR7z",
        "outputId": "b436aeaa-e7e7-46eb-ba62-373164eeb930"
      },
      "source": [
        "models_loss"
      ],
      "execution_count": 38,
      "outputs": [
        {
          "output_type": "execute_result",
          "data": {
            "text/plain": [
              "Empty DataFrame\n",
              "Columns: [adam, sgd, rmsprop, adagrad]\n",
              "Index: []"
            ],
            "text/html": [
              "\n",
              "  <div id=\"df-9adfcf90-9e9b-47fb-8ed2-72a9e2c6f3be\">\n",
              "    <div class=\"colab-df-container\">\n",
              "      <div>\n",
              "<style scoped>\n",
              "    .dataframe tbody tr th:only-of-type {\n",
              "        vertical-align: middle;\n",
              "    }\n",
              "\n",
              "    .dataframe tbody tr th {\n",
              "        vertical-align: top;\n",
              "    }\n",
              "\n",
              "    .dataframe thead th {\n",
              "        text-align: right;\n",
              "    }\n",
              "</style>\n",
              "<table border=\"1\" class=\"dataframe\">\n",
              "  <thead>\n",
              "    <tr style=\"text-align: right;\">\n",
              "      <th></th>\n",
              "      <th>adam</th>\n",
              "      <th>sgd</th>\n",
              "      <th>rmsprop</th>\n",
              "      <th>adagrad</th>\n",
              "    </tr>\n",
              "  </thead>\n",
              "  <tbody>\n",
              "  </tbody>\n",
              "</table>\n",
              "</div>\n",
              "      <button class=\"colab-df-convert\" onclick=\"convertToInteractive('df-9adfcf90-9e9b-47fb-8ed2-72a9e2c6f3be')\"\n",
              "              title=\"Convert this dataframe to an interactive table.\"\n",
              "              style=\"display:none;\">\n",
              "        \n",
              "  <svg xmlns=\"http://www.w3.org/2000/svg\" height=\"24px\"viewBox=\"0 0 24 24\"\n",
              "       width=\"24px\">\n",
              "    <path d=\"M0 0h24v24H0V0z\" fill=\"none\"/>\n",
              "    <path d=\"M18.56 5.44l.94 2.06.94-2.06 2.06-.94-2.06-.94-.94-2.06-.94 2.06-2.06.94zm-11 1L8.5 8.5l.94-2.06 2.06-.94-2.06-.94L8.5 2.5l-.94 2.06-2.06.94zm10 10l.94 2.06.94-2.06 2.06-.94-2.06-.94-.94-2.06-.94 2.06-2.06.94z\"/><path d=\"M17.41 7.96l-1.37-1.37c-.4-.4-.92-.59-1.43-.59-.52 0-1.04.2-1.43.59L10.3 9.45l-7.72 7.72c-.78.78-.78 2.05 0 2.83L4 21.41c.39.39.9.59 1.41.59.51 0 1.02-.2 1.41-.59l7.78-7.78 2.81-2.81c.8-.78.8-2.07 0-2.86zM5.41 20L4 18.59l7.72-7.72 1.47 1.35L5.41 20z\"/>\n",
              "  </svg>\n",
              "      </button>\n",
              "      \n",
              "  <style>\n",
              "    .colab-df-container {\n",
              "      display:flex;\n",
              "      flex-wrap:wrap;\n",
              "      gap: 12px;\n",
              "    }\n",
              "\n",
              "    .colab-df-convert {\n",
              "      background-color: #E8F0FE;\n",
              "      border: none;\n",
              "      border-radius: 50%;\n",
              "      cursor: pointer;\n",
              "      display: none;\n",
              "      fill: #1967D2;\n",
              "      height: 32px;\n",
              "      padding: 0 0 0 0;\n",
              "      width: 32px;\n",
              "    }\n",
              "\n",
              "    .colab-df-convert:hover {\n",
              "      background-color: #E2EBFA;\n",
              "      box-shadow: 0px 1px 2px rgba(60, 64, 67, 0.3), 0px 1px 3px 1px rgba(60, 64, 67, 0.15);\n",
              "      fill: #174EA6;\n",
              "    }\n",
              "\n",
              "    [theme=dark] .colab-df-convert {\n",
              "      background-color: #3B4455;\n",
              "      fill: #D2E3FC;\n",
              "    }\n",
              "\n",
              "    [theme=dark] .colab-df-convert:hover {\n",
              "      background-color: #434B5C;\n",
              "      box-shadow: 0px 1px 3px 1px rgba(0, 0, 0, 0.15);\n",
              "      filter: drop-shadow(0px 1px 2px rgba(0, 0, 0, 0.3));\n",
              "      fill: #FFFFFF;\n",
              "    }\n",
              "  </style>\n",
              "\n",
              "      <script>\n",
              "        const buttonEl =\n",
              "          document.querySelector('#df-9adfcf90-9e9b-47fb-8ed2-72a9e2c6f3be button.colab-df-convert');\n",
              "        buttonEl.style.display =\n",
              "          google.colab.kernel.accessAllowed ? 'block' : 'none';\n",
              "\n",
              "        async function convertToInteractive(key) {\n",
              "          const element = document.querySelector('#df-9adfcf90-9e9b-47fb-8ed2-72a9e2c6f3be');\n",
              "          const dataTable =\n",
              "            await google.colab.kernel.invokeFunction('convertToInteractive',\n",
              "                                                     [key], {});\n",
              "          if (!dataTable) return;\n",
              "\n",
              "          const docLinkHtml = 'Like what you see? Visit the ' +\n",
              "            '<a target=\"_blank\" href=https://colab.research.google.com/notebooks/data_table.ipynb>data table notebook</a>'\n",
              "            + ' to learn more about interactive tables.';\n",
              "          element.innerHTML = '';\n",
              "          dataTable['output_type'] = 'display_data';\n",
              "          await google.colab.output.renderOutput(dataTable, element);\n",
              "          const docLink = document.createElement('div');\n",
              "          docLink.innerHTML = docLinkHtml;\n",
              "          element.appendChild(docLink);\n",
              "        }\n",
              "      </script>\n",
              "    </div>\n",
              "  </div>\n",
              "  "
            ]
          },
          "metadata": {},
          "execution_count": 38
        }
      ]
    },
    {
      "cell_type": "code",
      "metadata": {
        "colab": {
          "base_uri": "https://localhost:8080/",
          "height": 49
        },
        "id": "WLOJFeRAuxmn",
        "outputId": "89365808-90db-4298-8033-7a5a27657fef"
      },
      "source": [
        "models_loss_std"
      ],
      "execution_count": 39,
      "outputs": [
        {
          "output_type": "execute_result",
          "data": {
            "text/plain": [
              "Empty DataFrame\n",
              "Columns: [adam, sgd, rmsprop, adagrad]\n",
              "Index: []"
            ],
            "text/html": [
              "\n",
              "  <div id=\"df-6b5ca3b6-63b9-43cb-8b85-9e30bbe7e3ee\">\n",
              "    <div class=\"colab-df-container\">\n",
              "      <div>\n",
              "<style scoped>\n",
              "    .dataframe tbody tr th:only-of-type {\n",
              "        vertical-align: middle;\n",
              "    }\n",
              "\n",
              "    .dataframe tbody tr th {\n",
              "        vertical-align: top;\n",
              "    }\n",
              "\n",
              "    .dataframe thead th {\n",
              "        text-align: right;\n",
              "    }\n",
              "</style>\n",
              "<table border=\"1\" class=\"dataframe\">\n",
              "  <thead>\n",
              "    <tr style=\"text-align: right;\">\n",
              "      <th></th>\n",
              "      <th>adam</th>\n",
              "      <th>sgd</th>\n",
              "      <th>rmsprop</th>\n",
              "      <th>adagrad</th>\n",
              "    </tr>\n",
              "  </thead>\n",
              "  <tbody>\n",
              "  </tbody>\n",
              "</table>\n",
              "</div>\n",
              "      <button class=\"colab-df-convert\" onclick=\"convertToInteractive('df-6b5ca3b6-63b9-43cb-8b85-9e30bbe7e3ee')\"\n",
              "              title=\"Convert this dataframe to an interactive table.\"\n",
              "              style=\"display:none;\">\n",
              "        \n",
              "  <svg xmlns=\"http://www.w3.org/2000/svg\" height=\"24px\"viewBox=\"0 0 24 24\"\n",
              "       width=\"24px\">\n",
              "    <path d=\"M0 0h24v24H0V0z\" fill=\"none\"/>\n",
              "    <path d=\"M18.56 5.44l.94 2.06.94-2.06 2.06-.94-2.06-.94-.94-2.06-.94 2.06-2.06.94zm-11 1L8.5 8.5l.94-2.06 2.06-.94-2.06-.94L8.5 2.5l-.94 2.06-2.06.94zm10 10l.94 2.06.94-2.06 2.06-.94-2.06-.94-.94-2.06-.94 2.06-2.06.94z\"/><path d=\"M17.41 7.96l-1.37-1.37c-.4-.4-.92-.59-1.43-.59-.52 0-1.04.2-1.43.59L10.3 9.45l-7.72 7.72c-.78.78-.78 2.05 0 2.83L4 21.41c.39.39.9.59 1.41.59.51 0 1.02-.2 1.41-.59l7.78-7.78 2.81-2.81c.8-.78.8-2.07 0-2.86zM5.41 20L4 18.59l7.72-7.72 1.47 1.35L5.41 20z\"/>\n",
              "  </svg>\n",
              "      </button>\n",
              "      \n",
              "  <style>\n",
              "    .colab-df-container {\n",
              "      display:flex;\n",
              "      flex-wrap:wrap;\n",
              "      gap: 12px;\n",
              "    }\n",
              "\n",
              "    .colab-df-convert {\n",
              "      background-color: #E8F0FE;\n",
              "      border: none;\n",
              "      border-radius: 50%;\n",
              "      cursor: pointer;\n",
              "      display: none;\n",
              "      fill: #1967D2;\n",
              "      height: 32px;\n",
              "      padding: 0 0 0 0;\n",
              "      width: 32px;\n",
              "    }\n",
              "\n",
              "    .colab-df-convert:hover {\n",
              "      background-color: #E2EBFA;\n",
              "      box-shadow: 0px 1px 2px rgba(60, 64, 67, 0.3), 0px 1px 3px 1px rgba(60, 64, 67, 0.15);\n",
              "      fill: #174EA6;\n",
              "    }\n",
              "\n",
              "    [theme=dark] .colab-df-convert {\n",
              "      background-color: #3B4455;\n",
              "      fill: #D2E3FC;\n",
              "    }\n",
              "\n",
              "    [theme=dark] .colab-df-convert:hover {\n",
              "      background-color: #434B5C;\n",
              "      box-shadow: 0px 1px 3px 1px rgba(0, 0, 0, 0.15);\n",
              "      filter: drop-shadow(0px 1px 2px rgba(0, 0, 0, 0.3));\n",
              "      fill: #FFFFFF;\n",
              "    }\n",
              "  </style>\n",
              "\n",
              "      <script>\n",
              "        const buttonEl =\n",
              "          document.querySelector('#df-6b5ca3b6-63b9-43cb-8b85-9e30bbe7e3ee button.colab-df-convert');\n",
              "        buttonEl.style.display =\n",
              "          google.colab.kernel.accessAllowed ? 'block' : 'none';\n",
              "\n",
              "        async function convertToInteractive(key) {\n",
              "          const element = document.querySelector('#df-6b5ca3b6-63b9-43cb-8b85-9e30bbe7e3ee');\n",
              "          const dataTable =\n",
              "            await google.colab.kernel.invokeFunction('convertToInteractive',\n",
              "                                                     [key], {});\n",
              "          if (!dataTable) return;\n",
              "\n",
              "          const docLinkHtml = 'Like what you see? Visit the ' +\n",
              "            '<a target=\"_blank\" href=https://colab.research.google.com/notebooks/data_table.ipynb>data table notebook</a>'\n",
              "            + ' to learn more about interactive tables.';\n",
              "          element.innerHTML = '';\n",
              "          dataTable['output_type'] = 'display_data';\n",
              "          await google.colab.output.renderOutput(dataTable, element);\n",
              "          const docLink = document.createElement('div');\n",
              "          docLink.innerHTML = docLinkHtml;\n",
              "          element.appendChild(docLink);\n",
              "        }\n",
              "      </script>\n",
              "    </div>\n",
              "  </div>\n",
              "  "
            ]
          },
          "metadata": {},
          "execution_count": 39
        }
      ]
    },
    {
      "cell_type": "code",
      "metadata": {
        "colab": {
          "base_uri": "https://localhost:8080/",
          "height": 49
        },
        "id": "7jcSQQE8sSBf",
        "outputId": "11ff94c7-db1e-4dad-b08f-534bde4e51b5"
      },
      "source": [
        "models_acc"
      ],
      "execution_count": 40,
      "outputs": [
        {
          "output_type": "execute_result",
          "data": {
            "text/plain": [
              "Empty DataFrame\n",
              "Columns: [adam, sgd, rmsprop, adagrad]\n",
              "Index: []"
            ],
            "text/html": [
              "\n",
              "  <div id=\"df-e9285f00-a768-4972-9703-08f511c4c740\">\n",
              "    <div class=\"colab-df-container\">\n",
              "      <div>\n",
              "<style scoped>\n",
              "    .dataframe tbody tr th:only-of-type {\n",
              "        vertical-align: middle;\n",
              "    }\n",
              "\n",
              "    .dataframe tbody tr th {\n",
              "        vertical-align: top;\n",
              "    }\n",
              "\n",
              "    .dataframe thead th {\n",
              "        text-align: right;\n",
              "    }\n",
              "</style>\n",
              "<table border=\"1\" class=\"dataframe\">\n",
              "  <thead>\n",
              "    <tr style=\"text-align: right;\">\n",
              "      <th></th>\n",
              "      <th>adam</th>\n",
              "      <th>sgd</th>\n",
              "      <th>rmsprop</th>\n",
              "      <th>adagrad</th>\n",
              "    </tr>\n",
              "  </thead>\n",
              "  <tbody>\n",
              "  </tbody>\n",
              "</table>\n",
              "</div>\n",
              "      <button class=\"colab-df-convert\" onclick=\"convertToInteractive('df-e9285f00-a768-4972-9703-08f511c4c740')\"\n",
              "              title=\"Convert this dataframe to an interactive table.\"\n",
              "              style=\"display:none;\">\n",
              "        \n",
              "  <svg xmlns=\"http://www.w3.org/2000/svg\" height=\"24px\"viewBox=\"0 0 24 24\"\n",
              "       width=\"24px\">\n",
              "    <path d=\"M0 0h24v24H0V0z\" fill=\"none\"/>\n",
              "    <path d=\"M18.56 5.44l.94 2.06.94-2.06 2.06-.94-2.06-.94-.94-2.06-.94 2.06-2.06.94zm-11 1L8.5 8.5l.94-2.06 2.06-.94-2.06-.94L8.5 2.5l-.94 2.06-2.06.94zm10 10l.94 2.06.94-2.06 2.06-.94-2.06-.94-.94-2.06-.94 2.06-2.06.94z\"/><path d=\"M17.41 7.96l-1.37-1.37c-.4-.4-.92-.59-1.43-.59-.52 0-1.04.2-1.43.59L10.3 9.45l-7.72 7.72c-.78.78-.78 2.05 0 2.83L4 21.41c.39.39.9.59 1.41.59.51 0 1.02-.2 1.41-.59l7.78-7.78 2.81-2.81c.8-.78.8-2.07 0-2.86zM5.41 20L4 18.59l7.72-7.72 1.47 1.35L5.41 20z\"/>\n",
              "  </svg>\n",
              "      </button>\n",
              "      \n",
              "  <style>\n",
              "    .colab-df-container {\n",
              "      display:flex;\n",
              "      flex-wrap:wrap;\n",
              "      gap: 12px;\n",
              "    }\n",
              "\n",
              "    .colab-df-convert {\n",
              "      background-color: #E8F0FE;\n",
              "      border: none;\n",
              "      border-radius: 50%;\n",
              "      cursor: pointer;\n",
              "      display: none;\n",
              "      fill: #1967D2;\n",
              "      height: 32px;\n",
              "      padding: 0 0 0 0;\n",
              "      width: 32px;\n",
              "    }\n",
              "\n",
              "    .colab-df-convert:hover {\n",
              "      background-color: #E2EBFA;\n",
              "      box-shadow: 0px 1px 2px rgba(60, 64, 67, 0.3), 0px 1px 3px 1px rgba(60, 64, 67, 0.15);\n",
              "      fill: #174EA6;\n",
              "    }\n",
              "\n",
              "    [theme=dark] .colab-df-convert {\n",
              "      background-color: #3B4455;\n",
              "      fill: #D2E3FC;\n",
              "    }\n",
              "\n",
              "    [theme=dark] .colab-df-convert:hover {\n",
              "      background-color: #434B5C;\n",
              "      box-shadow: 0px 1px 3px 1px rgba(0, 0, 0, 0.15);\n",
              "      filter: drop-shadow(0px 1px 2px rgba(0, 0, 0, 0.3));\n",
              "      fill: #FFFFFF;\n",
              "    }\n",
              "  </style>\n",
              "\n",
              "      <script>\n",
              "        const buttonEl =\n",
              "          document.querySelector('#df-e9285f00-a768-4972-9703-08f511c4c740 button.colab-df-convert');\n",
              "        buttonEl.style.display =\n",
              "          google.colab.kernel.accessAllowed ? 'block' : 'none';\n",
              "\n",
              "        async function convertToInteractive(key) {\n",
              "          const element = document.querySelector('#df-e9285f00-a768-4972-9703-08f511c4c740');\n",
              "          const dataTable =\n",
              "            await google.colab.kernel.invokeFunction('convertToInteractive',\n",
              "                                                     [key], {});\n",
              "          if (!dataTable) return;\n",
              "\n",
              "          const docLinkHtml = 'Like what you see? Visit the ' +\n",
              "            '<a target=\"_blank\" href=https://colab.research.google.com/notebooks/data_table.ipynb>data table notebook</a>'\n",
              "            + ' to learn more about interactive tables.';\n",
              "          element.innerHTML = '';\n",
              "          dataTable['output_type'] = 'display_data';\n",
              "          await google.colab.output.renderOutput(dataTable, element);\n",
              "          const docLink = document.createElement('div');\n",
              "          docLink.innerHTML = docLinkHtml;\n",
              "          element.appendChild(docLink);\n",
              "        }\n",
              "      </script>\n",
              "    </div>\n",
              "  </div>\n",
              "  "
            ]
          },
          "metadata": {},
          "execution_count": 40
        }
      ]
    },
    {
      "cell_type": "code",
      "metadata": {
        "colab": {
          "base_uri": "https://localhost:8080/",
          "height": 49
        },
        "id": "Hf9nNilwuzQV",
        "outputId": "0d785cc7-c9f0-451f-c90d-6af2bb977a2b"
      },
      "source": [
        "models_acc_std"
      ],
      "execution_count": 41,
      "outputs": [
        {
          "output_type": "execute_result",
          "data": {
            "text/plain": [
              "Empty DataFrame\n",
              "Columns: [adam, sgd, rmsprop, adagrad]\n",
              "Index: []"
            ],
            "text/html": [
              "\n",
              "  <div id=\"df-8a1fdbc1-ce3d-4fe5-ab57-a469833d2fd5\">\n",
              "    <div class=\"colab-df-container\">\n",
              "      <div>\n",
              "<style scoped>\n",
              "    .dataframe tbody tr th:only-of-type {\n",
              "        vertical-align: middle;\n",
              "    }\n",
              "\n",
              "    .dataframe tbody tr th {\n",
              "        vertical-align: top;\n",
              "    }\n",
              "\n",
              "    .dataframe thead th {\n",
              "        text-align: right;\n",
              "    }\n",
              "</style>\n",
              "<table border=\"1\" class=\"dataframe\">\n",
              "  <thead>\n",
              "    <tr style=\"text-align: right;\">\n",
              "      <th></th>\n",
              "      <th>adam</th>\n",
              "      <th>sgd</th>\n",
              "      <th>rmsprop</th>\n",
              "      <th>adagrad</th>\n",
              "    </tr>\n",
              "  </thead>\n",
              "  <tbody>\n",
              "  </tbody>\n",
              "</table>\n",
              "</div>\n",
              "      <button class=\"colab-df-convert\" onclick=\"convertToInteractive('df-8a1fdbc1-ce3d-4fe5-ab57-a469833d2fd5')\"\n",
              "              title=\"Convert this dataframe to an interactive table.\"\n",
              "              style=\"display:none;\">\n",
              "        \n",
              "  <svg xmlns=\"http://www.w3.org/2000/svg\" height=\"24px\"viewBox=\"0 0 24 24\"\n",
              "       width=\"24px\">\n",
              "    <path d=\"M0 0h24v24H0V0z\" fill=\"none\"/>\n",
              "    <path d=\"M18.56 5.44l.94 2.06.94-2.06 2.06-.94-2.06-.94-.94-2.06-.94 2.06-2.06.94zm-11 1L8.5 8.5l.94-2.06 2.06-.94-2.06-.94L8.5 2.5l-.94 2.06-2.06.94zm10 10l.94 2.06.94-2.06 2.06-.94-2.06-.94-.94-2.06-.94 2.06-2.06.94z\"/><path d=\"M17.41 7.96l-1.37-1.37c-.4-.4-.92-.59-1.43-.59-.52 0-1.04.2-1.43.59L10.3 9.45l-7.72 7.72c-.78.78-.78 2.05 0 2.83L4 21.41c.39.39.9.59 1.41.59.51 0 1.02-.2 1.41-.59l7.78-7.78 2.81-2.81c.8-.78.8-2.07 0-2.86zM5.41 20L4 18.59l7.72-7.72 1.47 1.35L5.41 20z\"/>\n",
              "  </svg>\n",
              "      </button>\n",
              "      \n",
              "  <style>\n",
              "    .colab-df-container {\n",
              "      display:flex;\n",
              "      flex-wrap:wrap;\n",
              "      gap: 12px;\n",
              "    }\n",
              "\n",
              "    .colab-df-convert {\n",
              "      background-color: #E8F0FE;\n",
              "      border: none;\n",
              "      border-radius: 50%;\n",
              "      cursor: pointer;\n",
              "      display: none;\n",
              "      fill: #1967D2;\n",
              "      height: 32px;\n",
              "      padding: 0 0 0 0;\n",
              "      width: 32px;\n",
              "    }\n",
              "\n",
              "    .colab-df-convert:hover {\n",
              "      background-color: #E2EBFA;\n",
              "      box-shadow: 0px 1px 2px rgba(60, 64, 67, 0.3), 0px 1px 3px 1px rgba(60, 64, 67, 0.15);\n",
              "      fill: #174EA6;\n",
              "    }\n",
              "\n",
              "    [theme=dark] .colab-df-convert {\n",
              "      background-color: #3B4455;\n",
              "      fill: #D2E3FC;\n",
              "    }\n",
              "\n",
              "    [theme=dark] .colab-df-convert:hover {\n",
              "      background-color: #434B5C;\n",
              "      box-shadow: 0px 1px 3px 1px rgba(0, 0, 0, 0.15);\n",
              "      filter: drop-shadow(0px 1px 2px rgba(0, 0, 0, 0.3));\n",
              "      fill: #FFFFFF;\n",
              "    }\n",
              "  </style>\n",
              "\n",
              "      <script>\n",
              "        const buttonEl =\n",
              "          document.querySelector('#df-8a1fdbc1-ce3d-4fe5-ab57-a469833d2fd5 button.colab-df-convert');\n",
              "        buttonEl.style.display =\n",
              "          google.colab.kernel.accessAllowed ? 'block' : 'none';\n",
              "\n",
              "        async function convertToInteractive(key) {\n",
              "          const element = document.querySelector('#df-8a1fdbc1-ce3d-4fe5-ab57-a469833d2fd5');\n",
              "          const dataTable =\n",
              "            await google.colab.kernel.invokeFunction('convertToInteractive',\n",
              "                                                     [key], {});\n",
              "          if (!dataTable) return;\n",
              "\n",
              "          const docLinkHtml = 'Like what you see? Visit the ' +\n",
              "            '<a target=\"_blank\" href=https://colab.research.google.com/notebooks/data_table.ipynb>data table notebook</a>'\n",
              "            + ' to learn more about interactive tables.';\n",
              "          element.innerHTML = '';\n",
              "          dataTable['output_type'] = 'display_data';\n",
              "          await google.colab.output.renderOutput(dataTable, element);\n",
              "          const docLink = document.createElement('div');\n",
              "          docLink.innerHTML = docLinkHtml;\n",
              "          element.appendChild(docLink);\n",
              "        }\n",
              "      </script>\n",
              "    </div>\n",
              "  </div>\n",
              "  "
            ]
          },
          "metadata": {},
          "execution_count": 41
        }
      ]
    },
    {
      "cell_type": "code",
      "metadata": {
        "colab": {
          "base_uri": "https://localhost:8080/"
        },
        "id": "FOAdeOaurcmI",
        "outputId": "abaa8aaf-613c-4041-e3ec-eea114350ddc"
      },
      "source": [
        "optimizers"
      ],
      "execution_count": 42,
      "outputs": [
        {
          "output_type": "execute_result",
          "data": {
            "text/plain": [
              "['adam', 'sgd', 'rmsprop', 'adagrad']"
            ]
          },
          "metadata": {},
          "execution_count": 42
        }
      ]
    },
    {
      "cell_type": "code",
      "metadata": {
        "colab": {
          "base_uri": "https://localhost:8080/"
        },
        "id": "P33DBeTnsleE",
        "outputId": "3433694e-0383-4bc2-e93f-8c290302b4f8"
      },
      "source": [
        "catcrosstrue = tf.keras.losses.CategoricalCrossentropy(from_logits=True)\n",
        "catcrossfalse = tf.keras.losses.CategoricalCrossentropy(from_logits=False)\n",
        "cathinge = tf.keras.losses.CategoricalHinge()\n",
        "mae = tf.keras.losses.MeanAbsoluteError()\n",
        "mse = tf.keras.losses.MeanSquaredError()\n",
        "msle = tf.keras.losses.MeanSquaredLogarithmicError()\n",
        "poison = tf.keras.losses.Poisson()\n",
        "kld = tf.keras.losses.KLDivergence()\n",
        "losses = [catcrosstrue, catcrossfalse, cathinge, cathinge, mae, mse, msle, poison, kld]\n",
        "losses_names = [\"catcrosstrue\", \"catcrossfalse\", \"cathinge\", \"cathinge\", \"mae\", \"mse\", \"msle\", \"poison\", \"kld\"]\n",
        "losses"
      ],
      "execution_count": 43,
      "outputs": [
        {
          "output_type": "execute_result",
          "data": {
            "text/plain": [
              "[<keras.losses.CategoricalCrossentropy at 0x7f41dc2465d0>,\n",
              " <keras.losses.CategoricalCrossentropy at 0x7f41dc2468d0>,\n",
              " <keras.losses.CategoricalHinge at 0x7f41dc246890>,\n",
              " <keras.losses.CategoricalHinge at 0x7f41dc246890>,\n",
              " <keras.losses.MeanAbsoluteError at 0x7f41dc246650>,\n",
              " <keras.losses.MeanSquaredError at 0x7f41dc246350>,\n",
              " <keras.losses.MeanSquaredLogarithmicError at 0x7f41dc246b50>,\n",
              " <keras.losses.Poisson at 0x7f41dc246790>,\n",
              " <keras.losses.KLDivergence at 0x7f41dc246d90>]"
            ]
          },
          "metadata": {},
          "execution_count": 43
        }
      ]
    },
    {
      "cell_type": "code",
      "metadata": {
        "colab": {
          "base_uri": "https://localhost:8080/"
        },
        "id": "PryTYABbzS06",
        "outputId": "6d8dacad-1a8c-4566-edb5-e354dfdd09d4"
      },
      "source": [
        "losses_names"
      ],
      "execution_count": 44,
      "outputs": [
        {
          "output_type": "execute_result",
          "data": {
            "text/plain": [
              "['catcrosstrue',\n",
              " 'catcrossfalse',\n",
              " 'cathinge',\n",
              " 'cathinge',\n",
              " 'mae',\n",
              " 'mse',\n",
              " 'msle',\n",
              " 'poison',\n",
              " 'kld']"
            ]
          },
          "metadata": {},
          "execution_count": 44
        }
      ]
    },
    {
      "cell_type": "markdown",
      "metadata": {
        "id": "jlSFKPMyrcvp"
      },
      "source": [
        "**Текст, выделенный полужирным шрифтом**"
      ]
    },
    {
      "cell_type": "code",
      "metadata": {
        "colab": {
          "base_uri": "https://localhost:8080/"
        },
        "id": "lBFBRaGZreaI",
        "outputId": "26d390aa-4d42-4d1b-d7f0-691dad044612"
      },
      "source": [
        "for j,ls in enumerate(losses):\n",
        "  for opt in optimizers:\n",
        "    loss_tst = []\n",
        "    acc_tst = []\n",
        "    for i in range(1,16):\n",
        "      print(f\"Выполняется проход {i} сеть x0.25, оптимизатор {opt}, \\\n",
        "      функция потерь {ls}\")\n",
        "      model = keras.Sequential([\n",
        "          keras.layers.Flatten(input_shape=(28, 28)),\n",
        "          keras.layers.Dense(98, activation='relu',\n",
        "                              kernel_initializer=initializers.RandomNormal(mean=0.0, \n",
        "                                                                    stddev=0.15, \n",
        "                                        seed=int(datetime.now().timestamp()))),\n",
        "          keras.layers.LayerNormalization(),                      \n",
        "          keras.layers.Dense(49, activation='relu',\n",
        "                              kernel_initializer=initializers.RandomNormal(mean=0.0, \n",
        "                                                                    stddev=0.15, \n",
        "                                        seed=int(datetime.now().timestamp()))),\n",
        "          keras.layers.Dropout(0.15),\n",
        "          keras.layers.Dense(10,\n",
        "                              kernel_initializer=initializers.RandomNormal(mean=0.0, \n",
        "                                                                    stddev=0.15, \n",
        "                                        seed=int(datetime.now().timestamp())))\n",
        "      ])\n",
        "\n",
        "      model.compile(optimizer=opt,\n",
        "                    loss=ls,\n",
        "                    metrics=['accuracy'])\n",
        "\n",
        "      model.fit(train_images, y_train_labels, epochs=64, batch_size=64, verbose=0)\n",
        "\n",
        "      test_loss, test_acc = model.evaluate(test_images,  y_test_labels, verbose=2)\n",
        "      loss_tst.append(test_loss)\n",
        "      acc_tst.append(test_acc)\n",
        "\n",
        "    models_loss.loc[losses_names[j], opt] = np.array(loss_tst).mean()\n",
        "    models_acc.loc[losses_names[j], opt] = np.array(test_acc).mean()\n",
        "    models_loss_std.loc[losses_names[j], opt] = np.array(loss_tst).std()\n",
        "    models_acc_std.loc[losses_names[j], opt] = np.array(test_acc).std()"
      ],
      "execution_count": null,
      "outputs": [
        {
          "output_type": "stream",
          "name": "stdout",
          "text": [
            "Выполняется проход 1 сеть x0.25, оптимизатор adam,       функция потерь <keras.losses.CategoricalCrossentropy object at 0x7f41dc2465d0>\n",
            "313/313 - 1s - loss: 0.4996 - accuracy: 0.8843 - 723ms/epoch - 2ms/step\n",
            "Выполняется проход 2 сеть x0.25, оптимизатор adam,       функция потерь <keras.losses.CategoricalCrossentropy object at 0x7f41dc2465d0>\n",
            "313/313 - 1s - loss: 0.4998 - accuracy: 0.8877 - 729ms/epoch - 2ms/step\n",
            "Выполняется проход 3 сеть x0.25, оптимизатор adam,       функция потерь <keras.losses.CategoricalCrossentropy object at 0x7f41dc2465d0>\n",
            "313/313 - 1s - loss: 0.5089 - accuracy: 0.8890 - 736ms/epoch - 2ms/step\n",
            "Выполняется проход 4 сеть x0.25, оптимизатор adam,       функция потерь <keras.losses.CategoricalCrossentropy object at 0x7f41dc2465d0>\n",
            "313/313 - 1s - loss: 0.4772 - accuracy: 0.8872 - 720ms/epoch - 2ms/step\n",
            "Выполняется проход 5 сеть x0.25, оптимизатор adam,       функция потерь <keras.losses.CategoricalCrossentropy object at 0x7f41dc2465d0>\n",
            "313/313 - 1s - loss: 0.5276 - accuracy: 0.8876 - 724ms/epoch - 2ms/step\n",
            "Выполняется проход 6 сеть x0.25, оптимизатор adam,       функция потерь <keras.losses.CategoricalCrossentropy object at 0x7f41dc2465d0>\n",
            "313/313 - 1s - loss: 0.4944 - accuracy: 0.8876 - 716ms/epoch - 2ms/step\n",
            "Выполняется проход 7 сеть x0.25, оптимизатор adam,       функция потерь <keras.losses.CategoricalCrossentropy object at 0x7f41dc2465d0>\n",
            "313/313 - 1s - loss: 0.4918 - accuracy: 0.8888 - 718ms/epoch - 2ms/step\n",
            "Выполняется проход 8 сеть x0.25, оптимизатор adam,       функция потерь <keras.losses.CategoricalCrossentropy object at 0x7f41dc2465d0>\n",
            "313/313 - 1s - loss: 0.5345 - accuracy: 0.8864 - 714ms/epoch - 2ms/step\n",
            "Выполняется проход 9 сеть x0.25, оптимизатор adam,       функция потерь <keras.losses.CategoricalCrossentropy object at 0x7f41dc2465d0>\n",
            "313/313 - 1s - loss: 0.4881 - accuracy: 0.8913 - 710ms/epoch - 2ms/step\n",
            "Выполняется проход 10 сеть x0.25, оптимизатор adam,       функция потерь <keras.losses.CategoricalCrossentropy object at 0x7f41dc2465d0>\n",
            "313/313 - 1s - loss: 0.4967 - accuracy: 0.8772 - 747ms/epoch - 2ms/step\n",
            "Выполняется проход 11 сеть x0.25, оптимизатор adam,       функция потерь <keras.losses.CategoricalCrossentropy object at 0x7f41dc2465d0>\n",
            "313/313 - 1s - loss: 0.4879 - accuracy: 0.8917 - 708ms/epoch - 2ms/step\n",
            "Выполняется проход 12 сеть x0.25, оптимизатор adam,       функция потерь <keras.losses.CategoricalCrossentropy object at 0x7f41dc2465d0>\n",
            "313/313 - 1s - loss: 0.5166 - accuracy: 0.8893 - 724ms/epoch - 2ms/step\n",
            "Выполняется проход 13 сеть x0.25, оптимизатор adam,       функция потерь <keras.losses.CategoricalCrossentropy object at 0x7f41dc2465d0>\n",
            "313/313 - 1s - loss: 0.5304 - accuracy: 0.8882 - 736ms/epoch - 2ms/step\n",
            "Выполняется проход 14 сеть x0.25, оптимизатор adam,       функция потерь <keras.losses.CategoricalCrossentropy object at 0x7f41dc2465d0>\n",
            "313/313 - 1s - loss: 0.5078 - accuracy: 0.8892 - 739ms/epoch - 2ms/step\n",
            "Выполняется проход 15 сеть x0.25, оптимизатор adam,       функция потерь <keras.losses.CategoricalCrossentropy object at 0x7f41dc2465d0>\n",
            "313/313 - 1s - loss: 0.4996 - accuracy: 0.8894 - 733ms/epoch - 2ms/step\n",
            "Выполняется проход 1 сеть x0.25, оптимизатор sgd,       функция потерь <keras.losses.CategoricalCrossentropy object at 0x7f41dc2465d0>\n"
          ]
        }
      ]
    },
    {
      "cell_type": "code",
      "metadata": {
        "id": "aqXtsSsMuON6"
      },
      "source": [
        "models_loss\n",
        " "
      ],
      "execution_count": null,
      "outputs": []
    },
    {
      "cell_type": "code",
      "metadata": {
        "id": "uJ84_wxe3kwS"
      },
      "source": [
        "models_acc\n"
      ],
      "execution_count": null,
      "outputs": []
    },
    {
      "cell_type": "code",
      "metadata": {
        "id": "PI6kG37c3l3j"
      },
      "source": [
        "models_loss_std\n"
      ],
      "execution_count": null,
      "outputs": []
    },
    {
      "cell_type": "code",
      "metadata": {
        "id": "EiUUMTOx3m8-"
      },
      "source": [
        "models_acc_std"
      ],
      "execution_count": null,
      "outputs": []
    },
    {
      "cell_type": "code",
      "metadata": {
        "id": "HI31laWqCQP3"
      },
      "source": [
        ""
      ],
      "execution_count": null,
      "outputs": []
    },
    {
      "cell_type": "markdown",
      "metadata": {
        "id": "SDrGZdGmCR2w"
      },
      "source": [
        "# Вывод\n",
        "Проведённый эксперимент показал, что опять для поиска лучших значений необходимо проверять абсолютно все параметры.\n",
        "Не совсем ясно, до какого предела увеличивать \"слойность\" сети.\n",
        "Предполагаю, что при изменении глубины слоёв будут разные значения для разных оптимизаторв, функций потерь и соответствующих функций активации.\n",
        "\n",
        "Оптимизатор Adam показывает лучшие результаты по точности и потерям, но средние по разбросу (неустойчивости результатов при серии запусков).\n",
        "\n",
        "Почему - не понятно.\n"
      ]
    },
    {
      "cell_type": "markdown",
      "metadata": {
        "id": "jQt_6aVBCt1p"
      },
      "source": [
        "# Работаем с данными sklearn.datasets import load_boston"
      ]
    },
    {
      "cell_type": "code",
      "metadata": {
        "id": "SkmkZnl9C41x"
      },
      "source": [
        "data = tf.keras.datasets.boston_housing.load_data()"
      ],
      "execution_count": null,
      "outputs": []
    },
    {
      "cell_type": "code",
      "metadata": {
        "id": "OqtzqUGCDCZd"
      },
      "source": [
        "(train_x,train_y),(test_x,test_y) = data"
      ],
      "execution_count": null,
      "outputs": []
    },
    {
      "cell_type": "code",
      "metadata": {
        "id": "1JjHycOFDCk_"
      },
      "source": [
        "train_x"
      ],
      "execution_count": null,
      "outputs": []
    },
    {
      "cell_type": "code",
      "metadata": {
        "id": "s9gAo-tqDMOd"
      },
      "source": [
        "model = tf.keras.models.Sequential([\n",
        "Dense(169,\"relu\",input_shape=(train_x.shape[-1],)),\n",
        "Dense(1)\n",
        "])\n",
        "model.compile(optimizer='rmsprop', loss='mse', metrics=['mae'])"
      ],
      "execution_count": null,
      "outputs": []
    },
    {
      "cell_type": "code",
      "metadata": {
        "id": "S_T-DU-jDJLm"
      },
      "source": [
        "model.summary()"
      ],
      "execution_count": null,
      "outputs": []
    },
    {
      "cell_type": "code",
      "metadata": {
        "id": "kugSUBT-DClD"
      },
      "source": [
        "model.fit(train_x, train_y, epochs=100, \n",
        "          validation_data=(test_x[51:],test_y[51:]))"
      ],
      "execution_count": null,
      "outputs": []
    },
    {
      "cell_type": "code",
      "metadata": {
        "id": "8jPy0TeHDClE"
      },
      "source": [
        "model.evaluate(test_x,test_y)"
      ],
      "execution_count": null,
      "outputs": []
    },
    {
      "cell_type": "markdown",
      "metadata": {
        "id": "5xytrjScUaIi"
      },
      "source": [
        "Текущий результат запишем как опорный и начнём экспериметы."
      ]
    },
    {
      "cell_type": "markdown",
      "metadata": {
        "id": "aq_Hxu72YgLV"
      },
      "source": [
        "# Эксперимент с увеличением количества слоёв"
      ]
    },
    {
      "cell_type": "markdown",
      "metadata": {
        "id": "32PLI9AUYldf"
      },
      "source": [
        "Будет создано 5 разных ИНС:\n",
        "1. Один слой, число нейронов 13\n",
        "2. Один слой, число нейронов 26\n",
        "3. Один слой, число нейронов 52\n",
        "4. Один слой, число нейронов 13x13\n",
        "5. Два слоя, число нейронов 13x13, 13\n",
        "6. Два слоя, число нейронов 13x13, 13x13\n",
        "7. Три слоя, число нейронов 52, 26, 13\n",
        "8. Три слоя, число нейронов 13x13, 13x13, 13x13\n",
        "9. Десять слоёв, число нейронов 13 в каждом\n",
        "10. Десять слоёв, число нейронов 13x13 в каждом\n",
        "\n",
        "Эксперимент будет запущен 15 раз каждый и вычислены среднее и дисперсии метрик. \n",
        "Фиксируем число эпох - 200 и критерий mae\n",
        "\n",
        "Сначала работаем с relu, затем с sigmoid"
      ]
    },
    {
      "cell_type": "code",
      "metadata": {
        "id": "PCGgA4ZuUY6N"
      },
      "source": [
        "columns_1 = [\n",
        "             \"1-13\",\n",
        "             \"1-26\",\n",
        "             \"1-52\",\n",
        "             \"1-13x13\",\n",
        "             \"1-13x13,2-13\",\n",
        "             \"1-13x13,2-13x13\",\n",
        "             \"1-52,2-26,3-13\",\n",
        "             \"1-13x13,2-13x13,3-13x13\",\n",
        "             \"x10-13\",\n",
        "             \"x10-13x13\"\n",
        "]\n",
        "models_loss = pd.DataFrame(columns=columns_1)\n",
        "models_mae = pd.DataFrame(columns=columns_1)\n",
        "\n",
        "# models_loss_std = pd.DataFrame(columns=columns_1)\n",
        "# models_mae_std = pd.DataFrame(columns=columns_1)"
      ],
      "execution_count": null,
      "outputs": []
    },
    {
      "cell_type": "code",
      "metadata": {
        "id": "SlWlx981Zpm1"
      },
      "source": [
        "models_loss"
      ],
      "execution_count": null,
      "outputs": []
    },
    {
      "cell_type": "code",
      "metadata": {
        "id": "O_HaIndma5fx"
      },
      "source": [
        "for i in range (1,16):\n",
        "  print(f\"Выполняется проход {i}, сеть {columns_1[0]}\")\n",
        "  model = tf.keras.models.Sequential([\n",
        "  Dense(13,\"relu\",input_shape=(train_x.shape[-1],)),\n",
        "  Dense(1)\n",
        "  ])\n",
        "  model.compile(optimizer='rmsprop', loss='mse', metrics=['mae'])\n",
        "  model.fit(train_x, train_y, epochs=200, verbose=0,\n",
        "          validation_data=(test_x[51:],test_y[51:]))\n",
        "  loss, mae = model.evaluate(test_x,test_y)\n",
        "  models_loss.loc[i, columns_1[0]] = loss\n",
        "  models_mae.loc[i, columns_1[0]] = mae\n",
        "\n",
        "  print(f\"Выполняется проход {i}, сеть {columns_1[1]}\")\n",
        "  model = tf.keras.models.Sequential([\n",
        "  Dense(26,\"relu\",input_shape=(train_x.shape[-1],)),\n",
        "  Dense(1)\n",
        "  ])\n",
        "  model.compile(optimizer='rmsprop', loss='mse', metrics=['mae'])\n",
        "  model.fit(train_x, train_y, epochs=200, verbose=0,\n",
        "          validation_data=(test_x[51:],test_y[51:]))\n",
        "  loss, mae = model.evaluate(test_x,test_y)\n",
        "  models_loss.loc[i, columns_1[1]] = loss\n",
        "  models_mae.loc[i, columns_1[1]] = mae\n",
        "\n",
        "  print(f\"Выполняется проход {i}, сеть {columns_1[2]}\")\n",
        "  model = tf.keras.models.Sequential([\n",
        "  Dense(52,\"relu\",input_shape=(train_x.shape[-1],)),\n",
        "  Dense(1)\n",
        "  ])\n",
        "  model.compile(optimizer='rmsprop', loss='mse', metrics=['mae'])\n",
        "  model.fit(train_x, train_y, epochs=200, verbose=0,\n",
        "          validation_data=(test_x[51:],test_y[51:]))\n",
        "  loss, mae = model.evaluate(test_x,test_y)\n",
        "  models_loss.loc[i, columns_1[2]] = loss\n",
        "  models_mae.loc[i, columns_1[2]] = mae\n",
        "\n",
        "  print(f\"Выполняется проход {i}, сеть {columns_1[3]}\")\n",
        "  model = tf.keras.models.Sequential([\n",
        "  Dense(169,\"relu\",input_shape=(train_x.shape[-1],)),\n",
        "  Dense(1)\n",
        "  ])\n",
        "  model.compile(optimizer='rmsprop', loss='mse', metrics=['mae'])\n",
        "  model.fit(train_x, train_y, epochs=200, verbose=0,\n",
        "          validation_data=(test_x[51:],test_y[51:]))\n",
        "  loss, mae = model.evaluate(test_x,test_y)\n",
        "  models_loss.loc[i, columns_1[3]] = loss\n",
        "  models_mae.loc[i, columns_1[3]] = mae\n",
        "\n",
        "  print(f\"Выполняется проход {i}, сеть {columns_1[4]}\")\n",
        "  model = tf.keras.models.Sequential([\n",
        "  Dense(169,\"relu\",input_shape=(train_x.shape[-1],)),\n",
        "  Dense(13,\"relu\"),\n",
        "  Dense(1)\n",
        "  ])\n",
        "  model.compile(optimizer='rmsprop', loss='mse', metrics=['mae'])\n",
        "  model.fit(train_x, train_y, epochs=200, verbose=0,\n",
        "          validation_data=(test_x[51:],test_y[51:]))\n",
        "  loss, mae = model.evaluate(test_x,test_y)\n",
        "  models_loss.loc[i, columns_1[4]] = loss\n",
        "  models_mae.loc[i, columns_1[4]] = mae\n",
        "\n",
        "  print(f\"Выполняется проход {i}, сеть {columns_1[5]}\")\n",
        "  model = tf.keras.models.Sequential([\n",
        "  Dense(169,\"relu\",input_shape=(train_x.shape[-1],)),\n",
        "  Dense(169,\"relu\"),\n",
        "  keras.layers.Dropout(0.15),\n",
        "  Dense(1)\n",
        "  ])\n",
        "  model.compile(optimizer='rmsprop', loss='mse', metrics=['mae'])\n",
        "  model.fit(train_x, train_y, epochs=200, verbose=0,\n",
        "          validation_data=(test_x[51:],test_y[51:]))\n",
        "  loss, mae = model.evaluate(test_x,test_y)\n",
        "  models_loss.loc[i, columns_1[5]] = loss\n",
        "  models_mae.loc[i, columns_1[5]] = mae\n",
        "\n",
        "  print(f\"Выполняется проход {i}, сеть {columns_1[6]}\")\n",
        "  model = tf.keras.models.Sequential([\n",
        "  Dense(52,\"relu\",input_shape=(train_x.shape[-1],)),\n",
        "  Dense(26,\"relu\"),\n",
        "  keras.layers.LayerNormalization(),\n",
        "  Dense(13,\"relu\"),\n",
        "  keras.layers.Dropout(0.15),\n",
        "  Dense(1)\n",
        "  ])\n",
        "  model.compile(optimizer='rmsprop', loss='mse', metrics=['mae'])\n",
        "  model.fit(train_x, train_y, epochs=200, verbose=0,\n",
        "          validation_data=(test_x[51:],test_y[51:]))\n",
        "  loss, mae = model.evaluate(test_x,test_y)\n",
        "  models_loss.loc[i, columns_1[6]] = loss\n",
        "  models_mae.loc[i, columns_1[6]] = mae\n",
        "\n",
        "  print(f\"Выполняется проход {i}, сеть {columns_1[7]}\")\n",
        "  model = tf.keras.models.Sequential([\n",
        "  Dense(169,\"relu\",input_shape=(train_x.shape[-1],)),\n",
        "  Dense(169,\"relu\"),\n",
        "  keras.layers.LayerNormalization(),\n",
        "  Dense(169,\"relu\"),\n",
        "  keras.layers.Dropout(0.15),\n",
        "  Dense(1)\n",
        "  ])\n",
        "  model.compile(optimizer='rmsprop', loss='mse', metrics=['mae'])\n",
        "  model.fit(train_x, train_y, epochs=200, verbose=0,\n",
        "          validation_data=(test_x[51:],test_y[51:]))\n",
        "  loss, mae = model.evaluate(test_x,test_y)\n",
        "  models_loss.loc[i, columns_1[7]] = loss\n",
        "  models_mae.loc[i, columns_1[7]] = mae\n",
        "\n",
        "  print(f\"Выполняется проход {i}, сеть {columns_1[8]}\")\n",
        "  model = tf.keras.models.Sequential([\n",
        "  Dense(13,\"relu\",input_shape=(train_x.shape[-1],)),\n",
        "  Dense(13,\"relu\"),\n",
        "  Dense(13,\"relu\"),\n",
        "  keras.layers.LayerNormalization(),\n",
        "  Dense(13,\"relu\"),\n",
        "  Dense(13,\"relu\"),\n",
        "  Dense(13,\"relu\"),\n",
        "  Dense(13,\"relu\"),\n",
        "  Dense(13,\"relu\"),\n",
        "  Dense(13,\"relu\"),\n",
        "  Dense(13,\"relu\"),\n",
        "  keras.layers.Dropout(0.15),\n",
        "  Dense(1)\n",
        "  ])\n",
        "  model.compile(optimizer='rmsprop', loss='mse', metrics=['mae'])\n",
        "  model.fit(train_x, train_y, epochs=200, verbose=0,\n",
        "          validation_data=(test_x[51:],test_y[51:]))\n",
        "  loss, mae = model.evaluate(test_x,test_y)\n",
        "  models_loss.loc[i, columns_1[8]] = loss\n",
        "  models_mae.loc[i, columns_1[8]] = mae\n",
        "\n",
        "  print(f\"Выполняется проход {i}, сеть {columns_1[9]}\")\n",
        "  model = tf.keras.models.Sequential([\n",
        "  Dense(169,\"relu\",input_shape=(train_x.shape[-1],)),\n",
        "  Dense(169,\"relu\"),\n",
        "  Dense(169,\"relu\"),\n",
        "  Dense(169,\"relu\"),\n",
        "  Dense(169,\"relu\"),\n",
        "  keras.layers.LayerNormalization(),\n",
        "  Dense(169,\"relu\"),\n",
        "  Dense(169,\"relu\"),\n",
        "  Dense(169,\"relu\"),\n",
        "  Dense(169,\"relu\"),\n",
        "  Dense(169,\"relu\"),\n",
        "  keras.layers.Dropout(0.15),\n",
        "  Dense(1)\n",
        "  ])\n",
        "  model.compile(optimizer='rmsprop', loss='mse', metrics=['mae'])\n",
        "  model.fit(train_x, train_y, epochs=200, verbose=0,\n",
        "          validation_data=(test_x[51:],test_y[51:]))\n",
        "  loss, mae = model.evaluate(test_x,test_y)\n",
        "  models_loss.loc[i, columns_1[9]] = loss\n",
        "  models_mae.loc[i, columns_1[9]] = mae"
      ],
      "execution_count": null,
      "outputs": []
    },
    {
      "cell_type": "code",
      "metadata": {
        "id": "sv58qUm4bxV9"
      },
      "source": [
        "models_loss\n"
      ],
      "execution_count": null,
      "outputs": []
    },
    {
      "cell_type": "code",
      "metadata": {
        "id": "DGhMqzMcbykK"
      },
      "source": [
        "models_mae"
      ],
      "execution_count": null,
      "outputs": []
    },
    {
      "cell_type": "code",
      "metadata": {
        "id": "vcoZ4_4seJBI"
      },
      "source": [
        "models_loss.astype(np.float64).describe()"
      ],
      "execution_count": null,
      "outputs": []
    },
    {
      "cell_type": "code",
      "metadata": {
        "id": "S-_POxaBeKOB"
      },
      "source": [
        "models_mae.astype(np.float64).describe()"
      ],
      "execution_count": null,
      "outputs": []
    },
    {
      "cell_type": "code",
      "metadata": {
        "id": "yhke5UxxeMs9"
      },
      "source": [
        "models2_loss = pd.DataFrame(columns=columns_1)\n",
        "models2_mae = pd.DataFrame(columns=columns_1)"
      ],
      "execution_count": null,
      "outputs": []
    },
    {
      "cell_type": "code",
      "metadata": {
        "id": "Muxr1FQgeMwO"
      },
      "source": [
        "for i in range (1,16):\n",
        "  print(f\"Выполняется проход {i}, сеть {columns_1[0]}\")\n",
        "  model = tf.keras.models.Sequential([\n",
        "  Dense(13,\"sigmoid\",input_shape=(train_x.shape[-1],)),\n",
        "  Dense(1)\n",
        "  ])\n",
        "  model.compile(optimizer='rmsprop', loss='mse', metrics=['mae'])\n",
        "  model.fit(train_x, train_y, epochs=200, verbose=0,\n",
        "          validation_data=(test_x[51:],test_y[51:]))\n",
        "  loss, mae = model.evaluate(test_x,test_y)\n",
        "  models2_loss.loc[i, columns_1[0]] = loss\n",
        "  models2_mae.loc[i, columns_1[0]] = mae\n",
        "\n",
        "  print(f\"Выполняется проход {i}, сеть {columns_1[1]}\")\n",
        "  model = tf.keras.models.Sequential([\n",
        "  Dense(26,\"sigmoid\",input_shape=(train_x.shape[-1],)),\n",
        "  Dense(1)\n",
        "  ])\n",
        "  model.compile(optimizer='rmsprop', loss='mse', metrics=['mae'])\n",
        "  model.fit(train_x, train_y, epochs=200, verbose=0,\n",
        "          validation_data=(test_x[51:],test_y[51:]))\n",
        "  loss, mae = model.evaluate(test_x,test_y)\n",
        "  models2_loss.loc[i, columns_1[1]] = loss\n",
        "  models2_mae.loc[i, columns_1[1]] = mae\n",
        "\n",
        "  print(f\"Выполняется проход {i}, сеть {columns_1[2]}\")\n",
        "  model = tf.keras.models.Sequential([\n",
        "  Dense(52,\"sigmoid\",input_shape=(train_x.shape[-1],)),\n",
        "  Dense(1)\n",
        "  ])\n",
        "  model.compile(optimizer='rmsprop', loss='mse', metrics=['mae'])\n",
        "  model.fit(train_x, train_y, epochs=200, verbose=0,\n",
        "          validation_data=(test_x[51:],test_y[51:]))\n",
        "  loss, mae = model.evaluate(test_x,test_y)\n",
        "  models2_loss.loc[i, columns_1[2]] = loss\n",
        "  models2_mae.loc[i, columns_1[2]] = mae\n",
        "\n",
        "  print(f\"Выполняется проход {i}, сеть {columns_1[3]}\")\n",
        "  model = tf.keras.models.Sequential([\n",
        "  Dense(169,\"sigmoid\",input_shape=(train_x.shape[-1],)),\n",
        "  Dense(1)\n",
        "  ])\n",
        "  model.compile(optimizer='rmsprop', loss='mse', metrics=['mae'])\n",
        "  model.fit(train_x, train_y, epochs=200, verbose=0,\n",
        "          validation_data=(test_x[51:],test_y[51:]))\n",
        "  loss, mae = model.evaluate(test_x,test_y)\n",
        "  models2_loss.loc[i, columns_1[3]] = loss\n",
        "  models2_mae.loc[i, columns_1[3]] = mae\n",
        "\n",
        "  print(f\"Выполняется проход {i}, сеть {columns_1[4]}\")\n",
        "  model = tf.keras.models.Sequential([\n",
        "  Dense(169,\"sigmoid\",input_shape=(train_x.shape[-1],)),\n",
        "  Dense(13,\"sigmoid\"),\n",
        "  keras.layers.Dropout(0.15),\n",
        "  Dense(1)\n",
        "  ])\n",
        "  model.compile(optimizer='rmsprop', loss='mse', metrics=['mae'])\n",
        "  model.fit(train_x, train_y, epochs=200, verbose=0,\n",
        "          validation_data=(test_x[51:],test_y[51:]))\n",
        "  loss, mae = model.evaluate(test_x,test_y)\n",
        "  models2_loss.loc[i, columns_1[4]] = loss\n",
        "  models2_mae.loc[i, columns_1[4]] = mae\n",
        "\n",
        "  print(f\"Выполняется проход {i}, сеть {columns_1[5]}\")\n",
        "  model = tf.keras.models.Sequential([\n",
        "  Dense(169,\"sigmoid\",input_shape=(train_x.shape[-1],)),\n",
        "  Dense(169,\"sigmoid\"),\n",
        "  keras.layers.Dropout(0.15),\n",
        "  Dense(1)\n",
        "  ])\n",
        "  model.compile(optimizer='rmsprop', loss='mse', metrics=['mae'])\n",
        "  model.fit(train_x, train_y, epochs=200, verbose=0,\n",
        "          validation_data=(test_x[51:],test_y[51:]))\n",
        "  loss, mae = model.evaluate(test_x,test_y)\n",
        "  models2_loss.loc[i, columns_1[5]] = loss\n",
        "  models2_mae.loc[i, columns_1[5]] = mae\n",
        "\n",
        "  print(f\"Выполняется проход {i}, сеть {columns_1[6]}\")\n",
        "  model = tf.keras.models.Sequential([\n",
        "  Dense(52,\"sigmoid\",input_shape=(train_x.shape[-1],)),\n",
        "  Dense(26,\"sigmoid\"),\n",
        "  Dense(13,\"sigmoid\"),\n",
        "  keras.layers.Dropout(0.15),\n",
        "  Dense(1)\n",
        "  ])\n",
        "  model.compile(optimizer='rmsprop', loss='mse', metrics=['mae'])\n",
        "  model.fit(train_x, train_y, epochs=200, verbose=0,\n",
        "          validation_data=(test_x[51:],test_y[51:]))\n",
        "  loss, mae = model.evaluate(test_x,test_y)\n",
        "  models2_loss.loc[i, columns_1[6]] = loss\n",
        "  models2_mae.loc[i, columns_1[6]] = mae\n",
        "\n",
        "  print(f\"Выполняется проход {i}, сеть {columns_1[7]}\")\n",
        "  model = tf.keras.models.Sequential([\n",
        "  Dense(169,\"sigmoid\",input_shape=(train_x.shape[-1],)),\n",
        "  Dense(169,\"sigmoid\"),\n",
        "  Dense(169,\"sigmoid\"),\n",
        "  keras.layers.Dropout(0.15),\n",
        "  Dense(1)\n",
        "  ])\n",
        "  model.compile(optimizer='rmsprop', loss='mse', metrics=['mae'])\n",
        "  model.fit(train_x, train_y, epochs=200, verbose=0,\n",
        "          validation_data=(test_x[51:],test_y[51:]))\n",
        "  loss, mae = model.evaluate(test_x,test_y)\n",
        "  models2_loss.loc[i, columns_1[7]] = loss\n",
        "  models2_mae.loc[i, columns_1[7]] = mae\n",
        "\n",
        "  print(f\"Выполняется проход {i}, сеть {columns_1[8]}\")\n",
        "  model = tf.keras.models.Sequential([\n",
        "  Dense(13,\"sigmoid\",input_shape=(train_x.shape[-1],)),\n",
        "  Dense(13,\"sigmoid\"),\n",
        "  Dense(13,\"sigmoid\"),\n",
        "  Dense(13,\"sigmoid\"),\n",
        "  keras.layers.LayerNormalization(),\n",
        "  Dense(13,\"sigmoid\"),\n",
        "  Dense(13,\"sigmoid\"),\n",
        "  Dense(13,\"sigmoid\"),\n",
        "  Dense(13,\"sigmoid\"),\n",
        "  Dense(13,\"sigmoid\"),\n",
        "  Dense(13,\"sigmoid\"),\n",
        "  keras.layers.Dropout(0.15),\n",
        "  Dense(1)\n",
        "  ])\n",
        "  model.compile(optimizer='rmsprop', loss='mse', metrics=['mae'])\n",
        "  model.fit(train_x, train_y, epochs=200, verbose=0,\n",
        "          validation_data=(test_x[51:],test_y[51:]))\n",
        "  loss, mae = model.evaluate(test_x,test_y)\n",
        "  models2_loss.loc[i, columns_1[8]] = loss\n",
        "  models2_mae.loc[i, columns_1[8]] = mae\n",
        "\n",
        "  print(f\"Выполняется проход {i}, сеть {columns_1[9]}\")\n",
        "  model = tf.keras.models.Sequential([\n",
        "  Dense(169,\"sigmoid\",input_shape=(train_x.shape[-1],)),\n",
        "  Dense(169,\"sigmoid\"),\n",
        "  Dense(169,\"sigmoid\"),\n",
        "  Dense(169,\"sigmoid\"),\n",
        "  keras.layers.LayerNormalization(),\n",
        "  Dense(169,\"sigmoid\"),\n",
        "  Dense(169,\"sigmoid\"),\n",
        "  Dense(169,\"sigmoid\"),\n",
        "  Dense(169,\"sigmoid\"),\n",
        "  Dense(169,\"sigmoid\"),\n",
        "  Dense(169,\"sigmoid\"),\n",
        "  keras.layers.Dropout(0.15),\n",
        "  Dense(1)\n",
        "  ])\n",
        "  model.compile(optimizer='rmsprop', loss='mse', metrics=['mae'])\n",
        "  model.fit(train_x, train_y, epochs=200, verbose=0,\n",
        "          validation_data=(test_x[51:],test_y[51:]))\n",
        "  loss, mae = model.evaluate(test_x,test_y)\n",
        "  models2_loss.loc[i, columns_1[9]] = loss\n",
        "  models2_mae.loc[i, columns_1[9]] = mae"
      ],
      "execution_count": null,
      "outputs": []
    },
    {
      "cell_type": "code",
      "metadata": {
        "id": "axfIYgNYeMzb"
      },
      "source": [
        "models2_loss"
      ],
      "execution_count": null,
      "outputs": []
    },
    {
      "cell_type": "code",
      "metadata": {
        "id": "emuFpG4keNaF"
      },
      "source": [
        "models2_mae"
      ],
      "execution_count": null,
      "outputs": []
    },
    {
      "cell_type": "code",
      "metadata": {
        "id": "n2n4ria8eNct"
      },
      "source": [
        "models2_loss.astype(np.float64).describe()"
      ],
      "execution_count": null,
      "outputs": []
    },
    {
      "cell_type": "code",
      "metadata": {
        "id": "VoMv39pbeN0h"
      },
      "source": [
        "models2_mae.astype(np.float64).describe()"
      ],
      "execution_count": null,
      "outputs": []
    },
    {
      "cell_type": "code",
      "metadata": {
        "id": "IaZIsjL0eN3d"
      },
      "source": [
        ""
      ],
      "execution_count": null,
      "outputs": []
    },
    {
      "cell_type": "markdown",
      "metadata": {
        "id": "KwlKnUNmS-Vs"
      },
      "source": [
        "Среди ReLu сетей лучшими являются многослойные, либо однослойная с большим числом нейронов. Возможно, это связано с тем, что ReLu линейная и нелинейность данных хорошо повторяется (моделируется, воспроизводится) нелинейностью связей между нейронами.\n",
        "Среди сетей, построенных на сигмоиде лучшими результатами обладают сети, состоящие из 169 нейронов в слое - одна и двуслойная. Число нейронов выбрано, как квадрат числа входов.\n",
        "\n",
        "Сети, состоящие из 10 слоёв, обладают лучшей стабильностью, что странно - бОльшее число связей должны были дать бОльшую вариацию решений. Возможно, дело в том, что данные имеют хороший локальный минимум. \n",
        "\n",
        "Лушие архитектуры сетей собраны ниже для дальнейшего анализа. \n",
        "Также добавлены глубокие сети."
      ]
    },
    {
      "cell_type": "markdown",
      "metadata": {
        "id": "LVCJE4xjWti_"
      },
      "source": [
        "# Эксперименты с выбранными архитектурами ИНС\n",
        "\n",
        "Целью этого эксперимента является проверка архитектур на устойчивость при разных начальных позициях (разные сиды).\n",
        "\n",
        "В основном, этот эскперимент выполняется, потому что я увидел у десятислойной сети на сигмоидах низкий разброс потерь и mae. Возможно, это связано с тем, что при такой глубине у сигмоид проявляется проблема с очень небольшой производной. Или это какая-то аномальная устойчивоть. Будет выполнено 30 проходов, вместо 15. Также проверке подвергнуться выбранные архитектуры сетей. "
      ]
    },
    {
      "cell_type": "code",
      "metadata": {
        "id": "Hao_pb0BVhC9"
      },
      "source": [
        "columns_1 = [\n",
        "             \"1-169ReLu\",\n",
        "             \"1-169,2-169ReLu\",\n",
        "             \"1-169Sigmoid\",\n",
        "             \"1-169,2-169Sigmoid\",\n",
        "             \"x10-13Sigmoid\",\n",
        "             \"x10-169Sigmoid\",\n",
        "             \"x10-13Relu\",\n",
        "             \"x10-169Relu\"\n",
        "]\n",
        "models_loss = pd.DataFrame(columns=columns_1)\n",
        "models_mae = pd.DataFrame(columns=columns_1)"
      ],
      "execution_count": null,
      "outputs": []
    },
    {
      "cell_type": "code",
      "metadata": {
        "id": "wPYe4wu-XkkZ"
      },
      "source": [
        "models_loss\n"
      ],
      "execution_count": null,
      "outputs": []
    },
    {
      "cell_type": "code",
      "metadata": {
        "id": "j3X2FeGdXmk8"
      },
      "source": [
        "models_mae"
      ],
      "execution_count": null,
      "outputs": []
    },
    {
      "cell_type": "code",
      "metadata": {
        "id": "W51RtjvOUTTb"
      },
      "source": [
        "for i in range (1,31):\n",
        "  print(f\"Выполняется проход {i}, сеть {columns_1[0]}\")\n",
        "  model = tf.keras.models.Sequential([\n",
        "  Dense(169,\"relu\", input_shape=(train_x.shape[-1],), kernel_initializer=initializers.RandomNormal(mean=0.0,stddev=0.15,seed=int(datetime.now().timestamp()))),\n",
        "  Dense(1, kernel_initializer=initializers.RandomNormal(mean=0.0,stddev=0.15,seed=int(datetime.now().timestamp())))\n",
        "  ])\n",
        "  model.compile(optimizer='rmsprop', loss='mse', metrics=['mae'])\n",
        "  model.fit(train_x, train_y, epochs=200, verbose=0,\n",
        "          validation_data=(test_x[51:],test_y[51:]))\n",
        "  loss, mae = model.evaluate(test_x,test_y)\n",
        "  models_loss.loc[i, columns_1[0]] = loss\n",
        "  models_mae.loc[i, columns_1[0]] = mae\n",
        "\n",
        "  print(f\"Выполняется проход {i}, сеть {columns_1[1]}\")\n",
        "  model = tf.keras.models.Sequential([\n",
        "  Dense(169,\"relu\",input_shape=(train_x.shape[-1],), kernel_initializer=initializers.RandomNormal(mean=0.0,stddev=0.15,seed=int(datetime.now().timestamp()))),\n",
        "  keras.layers.LayerNormalization(),\n",
        "  Dense(169,\"relu\", kernel_initializer=initializers.RandomNormal(mean=0.0,stddev=0.15,seed=int(datetime.now().timestamp()))),\n",
        "  keras.layers.Dropout(0.15),\n",
        "  Dense(1, kernel_initializer=initializers.RandomNormal(mean=0.0,stddev=0.15,seed=int(datetime.now().timestamp())))\n",
        "  ])\n",
        "  model.compile(optimizer='rmsprop', loss='mse', metrics=['mae'])\n",
        "  model.fit(train_x, train_y, epochs=200, verbose=0,\n",
        "          validation_data=(test_x[51:],test_y[51:]))\n",
        "  loss, mae = model.evaluate(test_x,test_y)\n",
        "  models_loss.loc[i, columns_1[1]] = loss\n",
        "  models_mae.loc[i, columns_1[1]] = mae\n",
        "\n",
        "  print(f\"Выполняется проход {i}, сеть {columns_1[2]}\")\n",
        "  model = tf.keras.models.Sequential([\n",
        "  Dense(169,\"sigmoid\",input_shape=(train_x.shape[-1],), kernel_initializer=initializers.RandomNormal(mean=0.0,stddev=0.15,seed=int(datetime.now().timestamp()))),\n",
        "  Dense(1, kernel_initializer=initializers.RandomNormal(mean=0.0,stddev=0.15,seed=int(datetime.now().timestamp())))\n",
        "  ])\n",
        "  model.compile(optimizer='rmsprop', loss='mse', metrics=['mae'])\n",
        "  model.fit(train_x, train_y, epochs=200, verbose=0,\n",
        "          validation_data=(test_x[51:],test_y[51:]))\n",
        "  loss, mae = model.evaluate(test_x,test_y)\n",
        "  models_loss.loc[i, columns_1[2]] = loss\n",
        "  models_mae.loc[i, columns_1[2]] = mae\n",
        "\n",
        "  print(f\"Выполняется проход {i}, сеть {columns_1[3]}\")\n",
        "  model = tf.keras.models.Sequential([\n",
        "  Dense(169,\"sigmoid\",input_shape=(train_x.shape[-1],), kernel_initializer=initializers.RandomNormal(mean=0.0,stddev=0.15,seed=int(datetime.now().timestamp()))),\n",
        "  keras.layers.LayerNormalization(),\n",
        "  Dense(169,\"sigmoid\", kernel_initializer=initializers.RandomNormal(mean=0.0,stddev=0.15,seed=int(datetime.now().timestamp()))),\n",
        "  keras.layers.Dropout(0.15),\n",
        "  Dense(1)\n",
        "  ])\n",
        "  model.compile(optimizer='rmsprop', loss='mse', metrics=['mae'])\n",
        "  model.fit(train_x, train_y, epochs=200, verbose=0,\n",
        "          validation_data=(test_x[51:],test_y[51:]))\n",
        "  loss, mae = model.evaluate(test_x,test_y)\n",
        "  models_loss.loc[i, columns_1[3]] = loss\n",
        "  models_mae.loc[i, columns_1[3]] = mae\n",
        "\n",
        "  print(f\"Выполняется проход {i}, сеть {columns_1[4]}\")\n",
        "  model = tf.keras.models.Sequential([\n",
        "  Dense(13,\"sigmoid\",input_shape=(train_x.shape[-1],), kernel_initializer=initializers.RandomNormal(mean=0.0,stddev=0.15,seed=int(datetime.now().timestamp()))),\n",
        "  Dense(13,\"sigmoid\", kernel_initializer=initializers.RandomNormal(mean=0.0,stddev=0.15,seed=int(datetime.now().timestamp()))),\n",
        "  Dense(13,\"sigmoid\", kernel_initializer=initializers.RandomNormal(mean=0.0,stddev=0.15,seed=int(datetime.now().timestamp()))),\n",
        "  Dense(13,\"sigmoid\", kernel_initializer=initializers.RandomNormal(mean=0.0,stddev=0.15,seed=int(datetime.now().timestamp()))),\n",
        "  Dense(13,\"sigmoid\", kernel_initializer=initializers.RandomNormal(mean=0.0,stddev=0.15,seed=int(datetime.now().timestamp()))),\n",
        "  keras.layers.LayerNormalization(),\n",
        "  Dense(13,\"sigmoid\", kernel_initializer=initializers.RandomNormal(mean=0.0,stddev=0.15,seed=int(datetime.now().timestamp()))),\n",
        "  Dense(13,\"sigmoid\", kernel_initializer=initializers.RandomNormal(mean=0.0,stddev=0.15,seed=int(datetime.now().timestamp()))),\n",
        "  Dense(13,\"sigmoid\", kernel_initializer=initializers.RandomNormal(mean=0.0,stddev=0.15,seed=int(datetime.now().timestamp()))),\n",
        "  Dense(13,\"sigmoid\", kernel_initializer=initializers.RandomNormal(mean=0.0,stddev=0.15,seed=int(datetime.now().timestamp()))),\n",
        "  Dense(13,\"sigmoid\", kernel_initializer=initializers.RandomNormal(mean=0.0,stddev=0.15,seed=int(datetime.now().timestamp()))),\n",
        "  keras.layers.Dropout(0.15),\n",
        "  Dense(1, kernel_initializer=initializers.RandomNormal(mean=0.0,stddev=0.15,seed=int(datetime.now().timestamp())))\n",
        "  ])\n",
        "  model.compile(optimizer='rmsprop', loss='mse', metrics=['mae'])\n",
        "  model.fit(train_x, train_y, epochs=200, verbose=0,\n",
        "          validation_data=(test_x[51:],test_y[51:]))\n",
        "  loss, mae = model.evaluate(test_x,test_y)\n",
        "  models_loss.loc[i, columns_1[4]] = loss\n",
        "  models_mae.loc[i, columns_1[4]] = mae\n",
        "\n",
        "\n",
        "  print(f\"Выполняется проход {i}, сеть {columns_1[5]}\")\n",
        "  model = tf.keras.models.Sequential([\n",
        "  Dense(169,\"sigmoid\",input_shape=(train_x.shape[-1],)),\n",
        "  Dense(169,\"sigmoid\", kernel_initializer=initializers.RandomNormal(mean=0.0,stddev=0.15,seed=int(datetime.now().timestamp()))),\n",
        "  Dense(169,\"sigmoid\", kernel_initializer=initializers.RandomNormal(mean=0.0,stddev=0.15,seed=int(datetime.now().timestamp()))),\n",
        "  Dense(169,\"sigmoid\", kernel_initializer=initializers.RandomNormal(mean=0.0,stddev=0.15,seed=int(datetime.now().timestamp()))),\n",
        "  Dense(169,\"sigmoid\", kernel_initializer=initializers.RandomNormal(mean=0.0,stddev=0.15,seed=int(datetime.now().timestamp()))),\n",
        "  keras.layers.LayerNormalization(),\n",
        "  Dense(169,\"sigmoid\", kernel_initializer=initializers.RandomNormal(mean=0.0,stddev=0.15,seed=int(datetime.now().timestamp()))),\n",
        "  \n",
        "  Dense(169,\"sigmoid\", kernel_initializer=initializers.RandomNormal(mean=0.0,stddev=0.15,seed=int(datetime.now().timestamp()))),\n",
        "  Dense(169,\"sigmoid\", kernel_initializer=initializers.RandomNormal(mean=0.0,stddev=0.15,seed=int(datetime.now().timestamp()))),\n",
        "  Dense(169,\"sigmoid\", kernel_initializer=initializers.RandomNormal(mean=0.0,stddev=0.15,seed=int(datetime.now().timestamp()))),\n",
        "  Dense(169,\"sigmoid\", kernel_initializer=initializers.RandomNormal(mean=0.0,stddev=0.15,seed=int(datetime.now().timestamp()))),\n",
        "  keras.layers.Dropout(0.15),\n",
        "  Dense(1, kernel_initializer=initializers.RandomNormal(mean=0.0,stddev=0.15,seed=int(datetime.now().timestamp())))\n",
        "  ])\n",
        "  model.compile(optimizer='rmsprop', loss='mse', metrics=['mae'])\n",
        "  model.fit(train_x, train_y, epochs=200, verbose=0,\n",
        "          validation_data=(test_x[51:],test_y[51:]))\n",
        "  loss, mae = model.evaluate(test_x,test_y)\n",
        "  models_loss.loc[i, columns_1[5]] = loss\n",
        "  models_mae.loc[i, columns_1[5]] = mae\n",
        "\n",
        "\n",
        "  print(f\"Выполняется проход {i}, сеть {columns_1[6]}\")\n",
        "  model = tf.keras.models.Sequential([\n",
        "  Dense(13,\"relu\",input_shape=(train_x.shape[-1],)),\n",
        "  Dense(13,\"relu\", kernel_initializer=initializers.RandomNormal(mean=0.0,stddev=0.15,seed=int(datetime.now().timestamp()))),\n",
        "  Dense(13,\"relu\", kernel_initializer=initializers.RandomNormal(mean=0.0,stddev=0.15,seed=int(datetime.now().timestamp()))),\n",
        "  Dense(13,\"relu\", kernel_initializer=initializers.RandomNormal(mean=0.0,stddev=0.15,seed=int(datetime.now().timestamp()))),\n",
        "  Dense(13,\"relu\", kernel_initializer=initializers.RandomNormal(mean=0.0,stddev=0.15,seed=int(datetime.now().timestamp()))),\n",
        "  keras.layers.LayerNormalization(),\n",
        "  Dense(13,\"relu\", kernel_initializer=initializers.RandomNormal(mean=0.0,stddev=0.15,seed=int(datetime.now().timestamp()))),\n",
        "  Dense(13,\"relu\", kernel_initializer=initializers.RandomNormal(mean=0.0,stddev=0.15,seed=int(datetime.now().timestamp()))),\n",
        "  Dense(13,\"relu\", kernel_initializer=initializers.RandomNormal(mean=0.0,stddev=0.15,seed=int(datetime.now().timestamp()))),\n",
        "  Dense(13,\"relu\", kernel_initializer=initializers.RandomNormal(mean=0.0,stddev=0.15,seed=int(datetime.now().timestamp()))),\n",
        "  Dense(13,\"relu\", kernel_initializer=initializers.RandomNormal(mean=0.0,stddev=0.15,seed=int(datetime.now().timestamp()))),\n",
        "  keras.layers.Dropout(0.15),\n",
        "  Dense(1, kernel_initializer=initializers.RandomNormal(mean=0.0,stddev=0.15,seed=int(datetime.now().timestamp())))\n",
        "  ])\n",
        "  model.compile(optimizer='rmsprop', loss='mse', metrics=['mae'])\n",
        "  model.fit(train_x, train_y, epochs=200, verbose=0,\n",
        "          validation_data=(test_x[51:],test_y[51:]))\n",
        "  loss, mae = model.evaluate(test_x,test_y)\n",
        "  models_loss.loc[i, columns_1[6]] = loss\n",
        "  models_mae.loc[i, columns_1[6]] = mae\n",
        "\n",
        "  print(f\"Выполняется проход {i}, сеть {columns_1[7]}\")\n",
        "  model = tf.keras.models.Sequential([\n",
        "  Dense(169,\"relu\",input_shape=(train_x.shape[-1],), kernel_initializer=initializers.RandomNormal(mean=0.0,stddev=0.15,seed=int(datetime.now().timestamp()))),\n",
        "  Dense(169,\"relu\", kernel_initializer=initializers.RandomNormal(mean=0.0,stddev=0.15,seed=int(datetime.now().timestamp()))),\n",
        "  Dense(169,\"relu\", kernel_initializer=initializers.RandomNormal(mean=0.0,stddev=0.15,seed=int(datetime.now().timestamp()))),\n",
        "  Dense(169,\"relu\", kernel_initializer=initializers.RandomNormal(mean=0.0,stddev=0.15,seed=int(datetime.now().timestamp()))),\n",
        "  Dense(169,\"relu\", kernel_initializer=initializers.RandomNormal(mean=0.0,stddev=0.15,seed=int(datetime.now().timestamp()))),\n",
        "  keras.layers.LayerNormalization(),\n",
        "  Dense(169,\"relu\", kernel_initializer=initializers.RandomNormal(mean=0.0,stddev=0.15,seed=int(datetime.now().timestamp()))),\n",
        "  Dense(169,\"relu\", kernel_initializer=initializers.RandomNormal(mean=0.0,stddev=0.15,seed=int(datetime.now().timestamp()))),\n",
        "  Dense(169,\"relu\", kernel_initializer=initializers.RandomNormal(mean=0.0,stddev=0.15,seed=int(datetime.now().timestamp()))),\n",
        "  Dense(169,\"relu\", kernel_initializer=initializers.RandomNormal(mean=0.0,stddev=0.15,seed=int(datetime.now().timestamp()))),\n",
        "  Dense(169,\"relu\", kernel_initializer=initializers.RandomNormal(mean=0.0,stddev=0.15,seed=int(datetime.now().timestamp()))),\n",
        "  keras.layers.Dropout(0.15),\n",
        "  Dense(1, kernel_initializer=initializers.RandomNormal(mean=0.0,stddev=0.15,seed=int(datetime.now().timestamp())))\n",
        "  ])\n",
        "  model.compile(optimizer='rmsprop', loss='mse', metrics=['mae'])\n",
        "  model.fit(train_x, train_y, epochs=200, verbose=0,\n",
        "          validation_data=(test_x[51:],test_y[51:]))\n",
        "  loss, mae = model.evaluate(test_x,test_y)\n",
        "  models_loss.loc[i, columns_1[7]] = loss\n",
        "  models_mae.loc[i, columns_1[7]] = mae"
      ],
      "execution_count": null,
      "outputs": []
    },
    {
      "cell_type": "code",
      "metadata": {
        "id": "4yOQIjQ2Zvyi"
      },
      "source": [
        "models_loss.astype(np.float64).describe()"
      ],
      "execution_count": null,
      "outputs": []
    },
    {
      "cell_type": "code",
      "metadata": {
        "id": "REb1ZXQsZwNI"
      },
      "source": [
        "models_mae.astype(np.float64).describe()"
      ],
      "execution_count": null,
      "outputs": []
    },
    {
      "cell_type": "markdown",
      "metadata": {
        "id": "HkGoLrO-T8w4"
      },
      "source": [
        "Все четыре глубокие ИНС показывают посредственную стабильность при разных стартовых весах. Полагаю, это связано с тем, что большое количество параметров говорит о высоком разбросе вариантов этих параметров.\n",
        "\n",
        "Лучшие результаты для различных стартовых весов показали одно и двуслойные сети с функцией активации Сигмоида. Это может быть связано с сильной нелинейностью входных данных.\n",
        "Также эти сети обладают хорошей стабильностью как при одинаковых стартовых весах, так и при разных.\n",
        "Учитывая, что увеличение числа слоёв приводит к увеличению времени обучения, предпочтение следует отдать однослойной сети 1-169Sigmoid. Для чистоты эксперимента будет взята лучшая из ReLu сетей - двуслойная 1-169,2-169ReLu.\n",
        "Далее следует проверить эти сети на разные оптимизаторы.\n",
        "Эксперименты с глубокими сетями для этого набора данных далее считаю нецелесообразным. "
      ]
    },
    {
      "cell_type": "code",
      "metadata": {
        "id": "HkCnDYMjlkon"
      },
      "source": [
        "  print(f\"Выполняется проход {i}, сеть {columns_1[2]}\")\n",
        "  model = tf.keras.models.Sequential([\n",
        "  Dense(169,\"sigmoid\",input_shape=(train_x.shape[-1],), kernel_initializer=initializers.RandomNormal(mean=0.0,stddev=0.15,seed=int(datetime.now().timestamp()))),\n",
        "  Dense(1, kernel_initializer=initializers.RandomNormal(mean=0.0,stddev=0.15,seed=int(datetime.now().timestamp())))\n",
        "  ])\n",
        "  model.compile(optimizer='rmsprop', loss='mse', metrics=['mae'])\n",
        "  model.fit(train_x, train_y, epochs=200, verbose=0,\n",
        "          validation_data=(test_x[51:],test_y[51:]))\n",
        "  loss, mae = model.evaluate(test_x,test_y)\n",
        "  models_loss.loc[i, columns_1[2]] = loss\n",
        "  models_mae.loc[i, columns_1[2]] = mae\n",
        "\n",
        "  print(f\"Выполняется проход {i}, сеть {columns_1[1]}\")\n",
        "\n"
      ],
      "execution_count": null,
      "outputs": []
    },
    {
      "cell_type": "code",
      "metadata": {
        "id": "vlWqOqPJl4Dc"
      },
      "source": [
        ""
      ],
      "execution_count": null,
      "outputs": []
    },
    {
      "cell_type": "code",
      "metadata": {
        "id": "-k4SqKNsl4QN"
      },
      "source": [
        "optimizers = ['adam', 'sgd', 'rmsprop', 'adagrad']"
      ],
      "execution_count": null,
      "outputs": []
    },
    {
      "cell_type": "code",
      "metadata": {
        "colab": {
          "base_uri": "https://localhost:8080/"
        },
        "id": "FWFVSqZ4l4QP",
        "outputId": "eab45c21-a377-4ab0-e843-844d4285cefa"
      },
      "source": [
        "mae = tf.keras.losses.MeanAbsoluteError()\n",
        "mse = tf.keras.losses.MeanSquaredError()\n",
        "msle = tf.keras.losses.MeanSquaredLogarithmicError()\n",
        "\n",
        "losses = [mae, mse, msle]\n",
        "losses_names = [\"mae\", \"mse\", \"msle\"]\n",
        "losses"
      ],
      "execution_count": null,
      "outputs": [
        {
          "output_type": "execute_result",
          "data": {
            "text/plain": [
              "[<tensorflow.python.keras.losses.MeanAbsoluteError at 0x7efd4dae7410>,\n",
              " <tensorflow.python.keras.losses.MeanSquaredError at 0x7efd4dba6f90>,\n",
              " <tensorflow.python.keras.losses.MeanSquaredLogarithmicError at 0x7efd4dba6c90>]"
            ]
          },
          "metadata": {
            "tags": []
          },
          "execution_count": 62
        }
      ]
    },
    {
      "cell_type": "code",
      "metadata": {
        "id": "v-8LHZYsl4QQ"
      },
      "source": [
        "losses_names"
      ],
      "execution_count": null,
      "outputs": []
    },
    {
      "cell_type": "code",
      "metadata": {
        "id": "IsV9sdTEmq7r"
      },
      "source": [
        "models_loss = pd.DataFrame(columns=optimizers)\n",
        "models_mae_std = pd.DataFrame(columns=optimizers)\n",
        "models_mse = pd.DataFrame(columns=optimizers)\n",
        "\n",
        "models_loss_std = pd.DataFrame(columns=optimizers)\n",
        "models_mae_std = pd.DataFrame(columns=optimizers)\n",
        "models_mse_std = pd.DataFrame(columns=optimizers)"
      ],
      "execution_count": null,
      "outputs": []
    },
    {
      "cell_type": "code",
      "metadata": {
        "id": "5yNQcZ9WmuQC"
      },
      "source": [
        "models_loss"
      ],
      "execution_count": null,
      "outputs": []
    },
    {
      "cell_type": "markdown",
      "metadata": {
        "id": "1AkrkCBul4QR"
      },
      "source": [
        ""
      ]
    },
    {
      "cell_type": "code",
      "metadata": {
        "id": "J0hdUdO8l4QS"
      },
      "source": [
        "for j,ls in enumerate(losses):\n",
        "  for opt in optimizers:\n",
        "    loss_tst = []\n",
        "    mae_tst = []\n",
        "    mse_tst = []\n",
        "    for i in range(1,16):\n",
        "      print(f\"Выполняется проход {i} сеть 1-169,2-169ReLu \t, оптимизатор {opt}, \\\n",
        "      функция потерь {ls}\")\n",
        "      model = tf.keras.models.Sequential([\n",
        "      Dense(169,\"relu\",input_shape=(train_x.shape[-1],), kernel_initializer=initializers.RandomNormal(mean=0.0,stddev=0.15,seed=int(datetime.now().timestamp()))),\n",
        "      keras.layers.LayerNormalization(),\n",
        "      Dense(169,\"relu\", kernel_initializer=initializers.RandomNormal(mean=0.0,stddev=0.15,seed=int(datetime.now().timestamp()))),\n",
        "      keras.layers.Dropout(0.15),\n",
        "      Dense(1, kernel_initializer=initializers.RandomNormal(mean=0.0,stddev=0.15,seed=int(datetime.now().timestamp())))\n",
        "      ])\n",
        "      model.compile(optimizer=opt, loss=ls, metrics=['mae','mse'])\n",
        "      model.fit(train_x, train_y, epochs=200, verbose=0,\n",
        "              validation_data=(test_x[51:],test_y[51:]))\n",
        "      loss, mae, mse = model.evaluate(test_x,test_y)\n",
        "      loss_tst.append(loss)\n",
        "      mae_tst.append(mae)\n",
        "      mse_tst.append(mse)\n",
        "\n",
        "    models_loss.loc[losses_names[j], opt] = np.array(loss_tst).mean()\n",
        "    models_mae.loc[losses_names[j], opt] = np.array(mae_tst).mean()\n",
        "    models_mse.loc[losses_names[j], opt] = np.array(mse_tst).mean()\n",
        "    models_loss_std.loc[losses_names[j], opt] = np.array(loss_tst).std()\n",
        "    models_mae_std.loc[losses_names[j], opt] = np.array(mae_tst).std()\n",
        "    models_mse_std.loc[losses_names[j], opt] = np.array(mse_tst).std()"
      ],
      "execution_count": null,
      "outputs": []
    },
    {
      "cell_type": "code",
      "metadata": {
        "id": "ttH2jvO4x7cQ"
      },
      "source": [
        "model.predict(test_x)"
      ],
      "execution_count": null,
      "outputs": []
    },
    {
      "cell_type": "code",
      "metadata": {
        "id": "dv6HrrPanneo"
      },
      "source": [
        "models_loss"
      ],
      "execution_count": null,
      "outputs": []
    },
    {
      "cell_type": "code",
      "metadata": {
        "id": "x7gp4FO9nnis"
      },
      "source": [
        "models_loss_std"
      ],
      "execution_count": null,
      "outputs": []
    },
    {
      "cell_type": "code",
      "metadata": {
        "id": "vXudcbYgnnsN"
      },
      "source": [
        "models_mae"
      ],
      "execution_count": null,
      "outputs": []
    },
    {
      "cell_type": "code",
      "metadata": {
        "id": "YuAZH58sy6Uw"
      },
      "source": [
        "models_mae_std"
      ],
      "execution_count": null,
      "outputs": []
    },
    {
      "cell_type": "code",
      "metadata": {
        "id": "56piOJ-Dn8wP"
      },
      "source": [
        "models_mse"
      ],
      "execution_count": null,
      "outputs": []
    },
    {
      "cell_type": "code",
      "metadata": {
        "id": "BtqJ1MCWn84d"
      },
      "source": [
        "models_mse_std"
      ],
      "execution_count": null,
      "outputs": []
    },
    {
      "cell_type": "code",
      "metadata": {
        "id": "wh0Xr-cdnnzy"
      },
      "source": [
        "models2_loss = pd.DataFrame(columns=optimizers)\n",
        "models2_mae = pd.DataFrame(columns=optimizers)\n",
        "models2_mse = pd.DataFrame(columns=optimizers)\n",
        "\n",
        "models2_loss_std = pd.DataFrame(columns=optimizers)\n",
        "models2_mae_std = pd.DataFrame(columns=optimizers)\n",
        "models2_mse_std = pd.DataFrame(columns=optimizers)"
      ],
      "execution_count": null,
      "outputs": []
    },
    {
      "cell_type": "code",
      "metadata": {
        "id": "jT0pYUYInn9B"
      },
      "source": [
        "for j,ls in enumerate(losses):\n",
        "  for opt in optimizers:\n",
        "    loss_tst = []\n",
        "    mae_tst = []\n",
        "    mse_tst = []\n",
        "    for i in range(1,16):\n",
        "      print(f\"Выполняется проход {i} сеть 1-169Sigmoid \t, оптимизатор {opt}, \\\n",
        "      функция потерь {ls}\")\n",
        "      model = tf.keras.models.Sequential([\n",
        "      Dense(169,\"sigmoid\",input_shape=(train_x.shape[-1],), kernel_initializer=initializers.RandomNormal(mean=0.0,stddev=0.15,seed=int(datetime.now().timestamp()))),\n",
        "      keras.layers.LayerNormalization(),\n",
        "      Dense(1, kernel_initializer=initializers.RandomNormal(mean=0.0,stddev=0.15,seed=int(datetime.now().timestamp())))\n",
        "      ])\n",
        "      model.compile(optimizer=opt, loss=ls, metrics=['mae', 'mse'])\n",
        "      model.fit(train_x, train_y, epochs=200, verbose=0,\n",
        "              validation_data=(test_x[51:],test_y[51:]))\n",
        "      loss, mae, mse = model.evaluate(test_x,test_y)\n",
        "      loss_tst.append(loss)\n",
        "      mae_tst.append(mae)\n",
        "      mse_tst.append(mse)\n",
        "\n",
        "    models2_loss.loc[losses_names[j], opt] = np.array(loss_tst).mean()\n",
        "    models2_mae.loc[losses_names[j], opt] = np.array(mae_tst).mean()\n",
        "    models2_mse.loc[losses_names[j], opt] = np.array(mse_tst).mean()\n",
        "    models2_loss_std.loc[losses_names[j], opt] = np.array(loss_tst).std()\n",
        "    models2_mae_std.loc[losses_names[j], opt] = np.array(mae_tst).std()\n",
        "    models2_mse_std.loc[losses_names[j], opt] = np.array(mse_tst).std()"
      ],
      "execution_count": null,
      "outputs": []
    },
    {
      "cell_type": "code",
      "metadata": {
        "id": "uyhufWsAoMtU"
      },
      "source": [
        ""
      ],
      "execution_count": null,
      "outputs": []
    },
    {
      "cell_type": "code",
      "metadata": {
        "id": "_WH2riRjoM2a"
      },
      "source": [
        "models2_loss"
      ],
      "execution_count": null,
      "outputs": []
    },
    {
      "cell_type": "code",
      "metadata": {
        "id": "sLf-HmAloM2b"
      },
      "source": [
        "models2_loss_std"
      ],
      "execution_count": null,
      "outputs": []
    },
    {
      "cell_type": "code",
      "metadata": {
        "id": "xpWttqIOoM2b"
      },
      "source": [
        "models2_mae"
      ],
      "execution_count": null,
      "outputs": []
    },
    {
      "cell_type": "code",
      "metadata": {
        "id": "GfYXKI-rzCaT"
      },
      "source": [
        "models2_mae_std"
      ],
      "execution_count": null,
      "outputs": []
    },
    {
      "cell_type": "code",
      "metadata": {
        "id": "91OtmP7DoM2b"
      },
      "source": [
        "models2_mse"
      ],
      "execution_count": null,
      "outputs": []
    },
    {
      "cell_type": "code",
      "metadata": {
        "id": "OZsSe2c6zFSy"
      },
      "source": [
        "models2_mse_std"
      ],
      "execution_count": null,
      "outputs": []
    },
    {
      "cell_type": "markdown",
      "metadata": {
        "id": "wyAFN6rnSNoE"
      },
      "source": [
        "Анализируя результаты эксперимента, видим, что лучшим результатом является выбор rmsprop и adam как оптимизаторов и квадратичную ошибку, как потери для обоих видов функций активации.\n",
        " "
      ]
    },
    {
      "cell_type": "markdown",
      "metadata": {
        "id": "a3JKSnXSSO6W"
      },
      "source": [
        "# Вывод\n",
        "Использование разных функций потерь и оптимизаторов для ИНС с 1-2 слоями могут дать результат не хуже, чем увеличение количества слоёв ИНС от 3 и выше. В случае увеличения количества слоёв возрастает время обучения и инференса, в случае использования другого оптимизатора может возрасти время обучения."
      ]
    }
  ]
}